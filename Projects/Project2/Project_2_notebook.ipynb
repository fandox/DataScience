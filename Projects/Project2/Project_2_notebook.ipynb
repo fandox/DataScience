{
 "cells": [
  {
   "cell_type": "markdown",
   "id": "42289889-bd57-434e-9637-d3e354756316",
   "metadata": {
    "id": "42289889-bd57-434e-9637-d3e354756316"
   },
   "source": [
    "<center> <img src = https://raw.githubusercontent.com/AndreyRysistov/DatasetsForPandas/main/hh%20label.jpg alt=\"drawing\" style=\"width:400px;\">"
   ]
  },
  {
   "cell_type": "markdown",
   "id": "829cb75b-f14e-4ba8-9195-7ba929a7d656",
   "metadata": {
    "tags": [],
    "id": "829cb75b-f14e-4ba8-9195-7ba929a7d656"
   },
   "source": [
    "# <center> Проект: Анализ вакансий из HeadHunter\n",
    "   "
   ]
  },
  {
   "cell_type": "code",
   "execution_count": 524,
   "id": "dccfde33-2452-43fb-a8a5-5c6ebc02a71d",
   "metadata": {
    "id": "dccfde33-2452-43fb-a8a5-5c6ebc02a71d"
   },
   "outputs": [],
   "source": [
    "import pandas as pd\n",
    "import psycopg2"
   ]
  },
  {
   "cell_type": "code",
   "source": [
    "'''\n",
    "Задаем конфиг для коннекта к БД\n",
    "'''\n",
    "DBNAME = 'project_sql'\n",
    "USER = 'skillfactory'\n",
    "PASSWORD = 'cCkxxLVrDE8EbvjueeMedPKt'\n",
    "HOST = '84.201.134.129'\n",
    "PORT = 5432"
   ],
   "metadata": {
    "id": "oVKH4ehvf8Ay"
   },
   "id": "oVKH4ehvf8Ay",
   "execution_count": 525,
   "outputs": []
  },
  {
   "cell_type": "code",
   "source": [
    "# Коннектимся к БД\n",
    "connection = psycopg2.connect(\n",
    "    dbname=DBNAME,\n",
    "    user=USER,\n",
    "    host=HOST,\n",
    "    password=PASSWORD,\n",
    "    port=PORT\n",
    ")"
   ],
   "metadata": {
    "id": "G4X_q8KBf7SF"
   },
   "id": "G4X_q8KBf7SF",
   "execution_count": 526,
   "outputs": []
  },
  {
   "cell_type": "markdown",
   "id": "0dc6476b-7a00-44f1-ac93-6e3baed33a29",
   "metadata": {
    "id": "0dc6476b-7a00-44f1-ac93-6e3baed33a29"
   },
   "source": [
    "# Юнит 3. Предварительный анализ данных"
   ]
  },
  {
   "cell_type": "markdown",
   "id": "889782b6-8d1c-410e-8920-e57f27917c64",
   "metadata": {
    "id": "889782b6-8d1c-410e-8920-e57f27917c64"
   },
   "source": [
    "1. Напишите запрос, который посчитает количество вакансий в нашей базе (вакансии находятся в таблице vacancies). "
   ]
  },
  {
   "cell_type": "code",
   "execution_count": 527,
   "id": "bc39e68e-ed02-4ee2-9235-7258a2f867a8",
   "metadata": {
    "id": "bc39e68e-ed02-4ee2-9235-7258a2f867a8"
   },
   "outputs": [],
   "source": [
    "# текст запроса\n",
    "query_3_1 = f'''select count(id) from vacancies\n",
    "'''"
   ]
  },
  {
   "cell_type": "code",
   "source": [
    "# вывод результата запроса\n",
    "answer_3_1 = pd.read_sql_query(query_3_1, connection)\n",
    "display(answer_3_1)"
   ],
   "metadata": {
    "id": "7mAwtsk4hEHY"
   },
   "id": "7mAwtsk4hEHY",
   "execution_count": 528,
   "outputs": [
    {
     "name": "stderr",
     "output_type": "stream",
     "text": [
      "/tmp/ipykernel_458/2616261428.py:2: UserWarning: pandas only supports SQLAlchemy connectable (engine/connection) or database string URI or sqlite3 DBAPI2 connection. Other DBAPI2 objects are not tested. Please consider using SQLAlchemy.\n",
      "  answer_3_1 = pd.read_sql_query(query_3_1, connection)\n"
     ]
    },
    {
     "data": {
      "text/plain": "   count\n0  49197",
      "text/html": "<div>\n<style scoped>\n    .dataframe tbody tr th:only-of-type {\n        vertical-align: middle;\n    }\n\n    .dataframe tbody tr th {\n        vertical-align: top;\n    }\n\n    .dataframe thead th {\n        text-align: right;\n    }\n</style>\n<table border=\"1\" class=\"dataframe\">\n  <thead>\n    <tr style=\"text-align: right;\">\n      <th></th>\n      <th>count</th>\n    </tr>\n  </thead>\n  <tbody>\n    <tr>\n      <th>0</th>\n      <td>49197</td>\n    </tr>\n  </tbody>\n</table>\n</div>"
     },
     "metadata": {},
     "output_type": "display_data"
    }
   ]
  },
  {
   "cell_type": "markdown",
   "id": "b583485d-1f9e-494e-ada4-80ffff7c53d6",
   "metadata": {
    "id": "b583485d-1f9e-494e-ada4-80ffff7c53d6"
   },
   "source": [
    "2. Напишите запрос, который посчитает количество работодателей (таблица employers). "
   ]
  },
  {
   "cell_type": "code",
   "execution_count": 529,
   "id": "5408c52c-3407-4a63-b25b-1aafa2322d28",
   "metadata": {
    "id": "5408c52c-3407-4a63-b25b-1aafa2322d28"
   },
   "outputs": [],
   "source": [
    "# текст запроса\n",
    "query_3_2 = f'''\n",
    "select count(id) from employers\n",
    "'''"
   ]
  },
  {
   "cell_type": "code",
   "source": [
    "# вывод результата запроса\n",
    "answer_3_2 = pd.read_sql_query(query_3_2, connection)\n",
    "display(answer_3_2)"
   ],
   "metadata": {
    "id": "jVL4eshKhdqc"
   },
   "id": "jVL4eshKhdqc",
   "execution_count": 530,
   "outputs": [
    {
     "name": "stderr",
     "output_type": "stream",
     "text": [
      "/tmp/ipykernel_458/1450756444.py:2: UserWarning: pandas only supports SQLAlchemy connectable (engine/connection) or database string URI or sqlite3 DBAPI2 connection. Other DBAPI2 objects are not tested. Please consider using SQLAlchemy.\n",
      "  answer_3_2 = pd.read_sql_query(query_3_2, connection)\n"
     ]
    },
    {
     "data": {
      "text/plain": "   count\n0  23501",
      "text/html": "<div>\n<style scoped>\n    .dataframe tbody tr th:only-of-type {\n        vertical-align: middle;\n    }\n\n    .dataframe tbody tr th {\n        vertical-align: top;\n    }\n\n    .dataframe thead th {\n        text-align: right;\n    }\n</style>\n<table border=\"1\" class=\"dataframe\">\n  <thead>\n    <tr style=\"text-align: right;\">\n      <th></th>\n      <th>count</th>\n    </tr>\n  </thead>\n  <tbody>\n    <tr>\n      <th>0</th>\n      <td>23501</td>\n    </tr>\n  </tbody>\n</table>\n</div>"
     },
     "metadata": {},
     "output_type": "display_data"
    }
   ]
  },
  {
   "cell_type": "markdown",
   "id": "a2bfff1f-c975-4bf6-84be-2185d79dcb76",
   "metadata": {
    "id": "a2bfff1f-c975-4bf6-84be-2185d79dcb76"
   },
   "source": [
    "3. Посчитате с помощью запроса количество регионов (таблица areas)."
   ]
  },
  {
   "cell_type": "code",
   "source": [
    "# текст запроса\n",
    "query_3_3 = f'''\n",
    "select count(id) from areas\n",
    "'''"
   ],
   "metadata": {
    "id": "1m8QJwBYhey6"
   },
   "id": "1m8QJwBYhey6",
   "execution_count": 531,
   "outputs": []
  },
  {
   "cell_type": "code",
   "source": [
    "# вывод результата запроса\n",
    "answer_3_3 = pd.read_sql_query(query_3_3, connection)\n",
    "display(answer_3_3)"
   ],
   "metadata": {
    "id": "EZsn9tlfhe7f"
   },
   "id": "EZsn9tlfhe7f",
   "execution_count": 532,
   "outputs": [
    {
     "name": "stderr",
     "output_type": "stream",
     "text": [
      "/tmp/ipykernel_458/870207647.py:2: UserWarning: pandas only supports SQLAlchemy connectable (engine/connection) or database string URI or sqlite3 DBAPI2 connection. Other DBAPI2 objects are not tested. Please consider using SQLAlchemy.\n",
      "  answer_3_3 = pd.read_sql_query(query_3_3, connection)\n"
     ]
    },
    {
     "data": {
      "text/plain": "   count\n0   1362",
      "text/html": "<div>\n<style scoped>\n    .dataframe tbody tr th:only-of-type {\n        vertical-align: middle;\n    }\n\n    .dataframe tbody tr th {\n        vertical-align: top;\n    }\n\n    .dataframe thead th {\n        text-align: right;\n    }\n</style>\n<table border=\"1\" class=\"dataframe\">\n  <thead>\n    <tr style=\"text-align: right;\">\n      <th></th>\n      <th>count</th>\n    </tr>\n  </thead>\n  <tbody>\n    <tr>\n      <th>0</th>\n      <td>1362</td>\n    </tr>\n  </tbody>\n</table>\n</div>"
     },
     "metadata": {},
     "output_type": "display_data"
    }
   ]
  },
  {
   "cell_type": "markdown",
   "id": "41bb59f3-53cc-4a67-a5bc-bedf573955e4",
   "metadata": {
    "id": "41bb59f3-53cc-4a67-a5bc-bedf573955e4"
   },
   "source": [
    "4. Посчитате с помощью запроса количество сфер деятельности в базе (таблица industries)."
   ]
  },
  {
   "cell_type": "code",
   "execution_count": 533,
   "id": "d286cf4c-707b-4cd2-9190-7ab3587d04a1",
   "metadata": {
    "id": "d286cf4c-707b-4cd2-9190-7ab3587d04a1"
   },
   "outputs": [],
   "source": [
    "#текст запроса\n",
    "query_3_4 = f'''\n",
    "select count(id) from industries\n",
    "'''"
   ]
  },
  {
   "cell_type": "code",
   "source": [
    "#вывод результата запроса\n",
    "answer_3_4 = pd.read_sql_query(query_3_4, connection)\n",
    "display(answer_3_4)"
   ],
   "metadata": {
    "id": "JYAaoZ4qhfzW"
   },
   "id": "JYAaoZ4qhfzW",
   "execution_count": 534,
   "outputs": [
    {
     "name": "stderr",
     "output_type": "stream",
     "text": [
      "/tmp/ipykernel_458/2108994857.py:2: UserWarning: pandas only supports SQLAlchemy connectable (engine/connection) or database string URI or sqlite3 DBAPI2 connection. Other DBAPI2 objects are not tested. Please consider using SQLAlchemy.\n",
      "  answer_3_4 = pd.read_sql_query(query_3_4, connection)\n"
     ]
    },
    {
     "data": {
      "text/plain": "   count\n0    294",
      "text/html": "<div>\n<style scoped>\n    .dataframe tbody tr th:only-of-type {\n        vertical-align: middle;\n    }\n\n    .dataframe tbody tr th {\n        vertical-align: top;\n    }\n\n    .dataframe thead th {\n        text-align: right;\n    }\n</style>\n<table border=\"1\" class=\"dataframe\">\n  <thead>\n    <tr style=\"text-align: right;\">\n      <th></th>\n      <th>count</th>\n    </tr>\n  </thead>\n  <tbody>\n    <tr>\n      <th>0</th>\n      <td>294</td>\n    </tr>\n  </tbody>\n</table>\n</div>"
     },
     "metadata": {},
     "output_type": "display_data"
    }
   ]
  },
  {
   "cell_type": "markdown",
   "source": [
    "## Выводы\n",
    "- На 1 работадателя в средмем приходится, примерно, по 2 позиции\n",
    "- Количество регионов превосходит количество регионов в России в их классическом понимании, значит, или имеются некорректные данные в справочнике (которые впоследствии можно нормализировать) и/или вакансии также находятся заграницей\n",
    "- Большое количество индустрий в справочной таблице industries, являются потенциальным кандидатом для нормализации\n",
    "***"
   ],
   "metadata": {
    "collapsed": false
   }
  },
  {
   "cell_type": "markdown",
   "id": "8d62a9f3-f64e-4fe7-bdac-c4dffa16155e",
   "metadata": {
    "id": "8d62a9f3-f64e-4fe7-bdac-c4dffa16155e"
   },
   "source": [
    "# Юнит 4. Детальный анализ вакансий"
   ]
  },
  {
   "cell_type": "markdown",
   "id": "93053d3d-b284-481a-9cf7-012d7014c0e0",
   "metadata": {
    "id": "93053d3d-b284-481a-9cf7-012d7014c0e0"
   },
   "source": [
    "1. Напишите запрос, который позволит узнать, сколько (cnt) вакансий в каждом регионе (area).\n",
    "Отсортируйте по количеству вакансий в порядке убывания."
   ]
  },
  {
   "cell_type": "code",
   "execution_count": 535,
   "id": "3f069da6-fdc9-4ae7-b514-fafe2675efd3",
   "metadata": {
    "id": "3f069da6-fdc9-4ae7-b514-fafe2675efd3"
   },
   "outputs": [],
   "source": [
    "#текст запроса\n",
    "query_4_1 = f'''\n",
    "select\n",
    "    a.name,\n",
    "    count (v.id)\n",
    "from\n",
    "    vacancies as v\n",
    "    join areas as a on a.id = v.area_id\n",
    "group by a.id -- группируем по id, не по имени, т.к имя может совпадать\n",
    "order by 2 desc -- сортируем по количеству\n",
    "limit 5\n",
    "'''"
   ]
  },
  {
   "cell_type": "code",
   "source": [
    "#вывод результата запроса\n",
    "answer_4_1 = pd.read_sql_query(query_4_1, connection)\n",
    "display(answer_4_1)"
   ],
   "metadata": {
    "id": "P7QL86hrjhRJ"
   },
   "id": "P7QL86hrjhRJ",
   "execution_count": 536,
   "outputs": [
    {
     "name": "stderr",
     "output_type": "stream",
     "text": [
      "/tmp/ipykernel_458/2180171517.py:2: UserWarning: pandas only supports SQLAlchemy connectable (engine/connection) or database string URI or sqlite3 DBAPI2 connection. Other DBAPI2 objects are not tested. Please consider using SQLAlchemy.\n",
      "  answer_4_1 = pd.read_sql_query(query_4_1, connection)\n"
     ]
    },
    {
     "data": {
      "text/plain": "              name  count\n0           Москва   5333\n1  Санкт-Петербург   2851\n2            Минск   2112\n3      Новосибирск   2006\n4           Алматы   1892",
      "text/html": "<div>\n<style scoped>\n    .dataframe tbody tr th:only-of-type {\n        vertical-align: middle;\n    }\n\n    .dataframe tbody tr th {\n        vertical-align: top;\n    }\n\n    .dataframe thead th {\n        text-align: right;\n    }\n</style>\n<table border=\"1\" class=\"dataframe\">\n  <thead>\n    <tr style=\"text-align: right;\">\n      <th></th>\n      <th>name</th>\n      <th>count</th>\n    </tr>\n  </thead>\n  <tbody>\n    <tr>\n      <th>0</th>\n      <td>Москва</td>\n      <td>5333</td>\n    </tr>\n    <tr>\n      <th>1</th>\n      <td>Санкт-Петербург</td>\n      <td>2851</td>\n    </tr>\n    <tr>\n      <th>2</th>\n      <td>Минск</td>\n      <td>2112</td>\n    </tr>\n    <tr>\n      <th>3</th>\n      <td>Новосибирск</td>\n      <td>2006</td>\n    </tr>\n    <tr>\n      <th>4</th>\n      <td>Алматы</td>\n      <td>1892</td>\n    </tr>\n  </tbody>\n</table>\n</div>"
     },
     "metadata": {},
     "output_type": "display_data"
    }
   ]
  },
  {
   "cell_type": "markdown",
   "id": "4266f0b6-1646-492a-88b4-2f6a46502135",
   "metadata": {
    "id": "4266f0b6-1646-492a-88b4-2f6a46502135"
   },
   "source": [
    "2. Напишите запрос, чтобы определить у какого количества вакансий заполнено хотя бы одно из двух полей с зарплатой."
   ]
  },
  {
   "cell_type": "code",
   "execution_count": 537,
   "id": "0c44b350-72eb-4d65-8b54-a1fc449ba9fd",
   "metadata": {
    "id": "0c44b350-72eb-4d65-8b54-a1fc449ba9fd"
   },
   "outputs": [],
   "source": [
    "#текст запроса\n",
    "query_4_2 = f'''\n",
    "select count (id)\n",
    "from vacancies\n",
    "where\n",
    "    salary_from is not null\n",
    "    or salary_to is not null\n",
    "'''"
   ]
  },
  {
   "cell_type": "code",
   "source": [
    "#вывод результата запроса\n",
    "answer_4_2 = pd.read_sql_query(query_4_2, connection)\n",
    "display(answer_4_2)"
   ],
   "metadata": {
    "id": "rhvwaMDkoWTi"
   },
   "id": "rhvwaMDkoWTi",
   "execution_count": 538,
   "outputs": [
    {
     "name": "stderr",
     "output_type": "stream",
     "text": [
      "/tmp/ipykernel_458/2052512690.py:2: UserWarning: pandas only supports SQLAlchemy connectable (engine/connection) or database string URI or sqlite3 DBAPI2 connection. Other DBAPI2 objects are not tested. Please consider using SQLAlchemy.\n",
      "  answer_4_2 = pd.read_sql_query(query_4_2, connection)\n"
     ]
    },
    {
     "data": {
      "text/plain": "   count\n0  24073",
      "text/html": "<div>\n<style scoped>\n    .dataframe tbody tr th:only-of-type {\n        vertical-align: middle;\n    }\n\n    .dataframe tbody tr th {\n        vertical-align: top;\n    }\n\n    .dataframe thead th {\n        text-align: right;\n    }\n</style>\n<table border=\"1\" class=\"dataframe\">\n  <thead>\n    <tr style=\"text-align: right;\">\n      <th></th>\n      <th>count</th>\n    </tr>\n  </thead>\n  <tbody>\n    <tr>\n      <th>0</th>\n      <td>24073</td>\n    </tr>\n  </tbody>\n</table>\n</div>"
     },
     "metadata": {},
     "output_type": "display_data"
    }
   ]
  },
  {
   "cell_type": "markdown",
   "id": "635c4d5d-f323-4c66-b428-50a088120aa0",
   "metadata": {
    "id": "635c4d5d-f323-4c66-b428-50a088120aa0"
   },
   "source": [
    "3. Найдите средние значения для нижней и верхней границы зарплатной вилки. Округлите значения до целого."
   ]
  },
  {
   "cell_type": "code",
   "execution_count": 539,
   "id": "603cdbe4-0ec3-4106-8eaf-c73fcdd29165",
   "metadata": {
    "id": "603cdbe4-0ec3-4106-8eaf-c73fcdd29165"
   },
   "outputs": [],
   "source": [
    "#текст запроса\n",
    "query_4_3 = f'''\n",
    "select\n",
    "    round(avg(salary_from)) as mean_from, -- округляем среднее значение поля salary_from\n",
    "    round(avg(salary_to)) as mean_to -- округляем среднее значение поля salary_from\n",
    "from vacancies\n",
    "'''"
   ]
  },
  {
   "cell_type": "code",
   "source": [
    "#вывод результата запроса\n",
    "answer_4_3 = pd.read_sql_query(query_4_3,connection)\n",
    "display(answer_4_3)"
   ],
   "metadata": {
    "id": "pswpAb66ovZZ"
   },
   "id": "pswpAb66ovZZ",
   "execution_count": 540,
   "outputs": [
    {
     "name": "stderr",
     "output_type": "stream",
     "text": [
      "/tmp/ipykernel_458/2972828627.py:2: UserWarning: pandas only supports SQLAlchemy connectable (engine/connection) or database string URI or sqlite3 DBAPI2 connection. Other DBAPI2 objects are not tested. Please consider using SQLAlchemy.\n",
      "  answer_4_3 = pd.read_sql_query(query_4_3,connection)\n"
     ]
    },
    {
     "data": {
      "text/plain": "   mean_from   mean_to\n0    71065.0  110537.0",
      "text/html": "<div>\n<style scoped>\n    .dataframe tbody tr th:only-of-type {\n        vertical-align: middle;\n    }\n\n    .dataframe tbody tr th {\n        vertical-align: top;\n    }\n\n    .dataframe thead th {\n        text-align: right;\n    }\n</style>\n<table border=\"1\" class=\"dataframe\">\n  <thead>\n    <tr style=\"text-align: right;\">\n      <th></th>\n      <th>mean_from</th>\n      <th>mean_to</th>\n    </tr>\n  </thead>\n  <tbody>\n    <tr>\n      <th>0</th>\n      <td>71065.0</td>\n      <td>110537.0</td>\n    </tr>\n  </tbody>\n</table>\n</div>"
     },
     "metadata": {},
     "output_type": "display_data"
    }
   ]
  },
  {
   "cell_type": "markdown",
   "id": "f3fdaec9-5fd3-4260-9cf5-1d7406b628a5",
   "metadata": {
    "id": "f3fdaec9-5fd3-4260-9cf5-1d7406b628a5"
   },
   "source": [
    "4. Напишите запрос, который выведет количество вакансий для каждого сочетания типа рабочего графика (schedule) и типа трудоустройства (employment), используемого в вакансиях. Результат отсортируйте по убыванию количества.\n"
   ]
  },
  {
   "cell_type": "code",
   "execution_count": 541,
   "id": "1ea710ec-871b-431e-9462-c7d0fd87011b",
   "metadata": {
    "id": "1ea710ec-871b-431e-9462-c7d0fd87011b"
   },
   "outputs": [],
   "source": [
    "# текст запроса\n",
    "query_4_4 = f'''\n",
    "select\n",
    "    distinct (schedule,employment), -- выбираем уникальные сочетания полей schedule и employement\n",
    "    count(id) -- считаем количство подходящих вакансий\n",
    "from vacancies\n",
    "group by 1 -- группируем по сочетанию полей schedule и employement\n",
    "order by 2 desc -- сортируем по количеству\n",
    "'''"
   ]
  },
  {
   "cell_type": "code",
   "source": [
    "#вывод результата запроса\n",
    "answer_4_4 = pd.read_sql_query(query_4_4,connection)\n",
    "display(answer_4_4)"
   ],
   "metadata": {
    "id": "lGUVqavdo4JQ"
   },
   "id": "lGUVqavdo4JQ",
   "execution_count": 542,
   "outputs": [
    {
     "name": "stderr",
     "output_type": "stream",
     "text": [
      "/tmp/ipykernel_458/1475180542.py:2: UserWarning: pandas only supports SQLAlchemy connectable (engine/connection) or database string URI or sqlite3 DBAPI2 connection. Other DBAPI2 objects are not tested. Please consider using SQLAlchemy.\n",
      "  answer_4_4 = pd.read_sql_query(query_4_4,connection)\n"
     ]
    },
    {
     "data": {
      "text/plain": "                                           row  count\n0           (\"Полный день\",\"Полная занятость\")  35367\n1      (\"Удаленная работа\",\"Полная занятость\")   7802\n2         (\"Гибкий график\",\"Полная занятость\")   1593\n3   (\"Удаленная работа\",\"Частичная занятость\")   1312\n4        (\"Сменный график\",\"Полная занятость\")    940\n5                   (\"Полный день\",Стажировка)    569\n6        (\"Вахтовый метод\",\"Полная занятость\")    367\n7        (\"Полный день\",\"Частичная занятость\")    347\n8      (\"Гибкий график\",\"Частичная занятость\")    312\n9           (\"Полный день\",\"Проектная работа\")    141\n10     (\"Удаленная работа\",\"Проектная работа\")    133\n11                (\"Гибкий график\",Стажировка)    116\n12    (\"Сменный график\",\"Частичная занятость\")    101\n13             (\"Удаленная работа\",Стажировка)     64\n14        (\"Гибкий график\",\"Проектная работа\")     18\n15               (\"Сменный график\",Стажировка)     12\n16       (\"Вахтовый метод\",\"Проектная работа\")      2\n17       (\"Сменный график\",\"Проектная работа\")      1",
      "text/html": "<div>\n<style scoped>\n    .dataframe tbody tr th:only-of-type {\n        vertical-align: middle;\n    }\n\n    .dataframe tbody tr th {\n        vertical-align: top;\n    }\n\n    .dataframe thead th {\n        text-align: right;\n    }\n</style>\n<table border=\"1\" class=\"dataframe\">\n  <thead>\n    <tr style=\"text-align: right;\">\n      <th></th>\n      <th>row</th>\n      <th>count</th>\n    </tr>\n  </thead>\n  <tbody>\n    <tr>\n      <th>0</th>\n      <td>(\"Полный день\",\"Полная занятость\")</td>\n      <td>35367</td>\n    </tr>\n    <tr>\n      <th>1</th>\n      <td>(\"Удаленная работа\",\"Полная занятость\")</td>\n      <td>7802</td>\n    </tr>\n    <tr>\n      <th>2</th>\n      <td>(\"Гибкий график\",\"Полная занятость\")</td>\n      <td>1593</td>\n    </tr>\n    <tr>\n      <th>3</th>\n      <td>(\"Удаленная работа\",\"Частичная занятость\")</td>\n      <td>1312</td>\n    </tr>\n    <tr>\n      <th>4</th>\n      <td>(\"Сменный график\",\"Полная занятость\")</td>\n      <td>940</td>\n    </tr>\n    <tr>\n      <th>5</th>\n      <td>(\"Полный день\",Стажировка)</td>\n      <td>569</td>\n    </tr>\n    <tr>\n      <th>6</th>\n      <td>(\"Вахтовый метод\",\"Полная занятость\")</td>\n      <td>367</td>\n    </tr>\n    <tr>\n      <th>7</th>\n      <td>(\"Полный день\",\"Частичная занятость\")</td>\n      <td>347</td>\n    </tr>\n    <tr>\n      <th>8</th>\n      <td>(\"Гибкий график\",\"Частичная занятость\")</td>\n      <td>312</td>\n    </tr>\n    <tr>\n      <th>9</th>\n      <td>(\"Полный день\",\"Проектная работа\")</td>\n      <td>141</td>\n    </tr>\n    <tr>\n      <th>10</th>\n      <td>(\"Удаленная работа\",\"Проектная работа\")</td>\n      <td>133</td>\n    </tr>\n    <tr>\n      <th>11</th>\n      <td>(\"Гибкий график\",Стажировка)</td>\n      <td>116</td>\n    </tr>\n    <tr>\n      <th>12</th>\n      <td>(\"Сменный график\",\"Частичная занятость\")</td>\n      <td>101</td>\n    </tr>\n    <tr>\n      <th>13</th>\n      <td>(\"Удаленная работа\",Стажировка)</td>\n      <td>64</td>\n    </tr>\n    <tr>\n      <th>14</th>\n      <td>(\"Гибкий график\",\"Проектная работа\")</td>\n      <td>18</td>\n    </tr>\n    <tr>\n      <th>15</th>\n      <td>(\"Сменный график\",Стажировка)</td>\n      <td>12</td>\n    </tr>\n    <tr>\n      <th>16</th>\n      <td>(\"Вахтовый метод\",\"Проектная работа\")</td>\n      <td>2</td>\n    </tr>\n    <tr>\n      <th>17</th>\n      <td>(\"Сменный график\",\"Проектная работа\")</td>\n      <td>1</td>\n    </tr>\n  </tbody>\n</table>\n</div>"
     },
     "metadata": {},
     "output_type": "display_data"
    }
   ]
  },
  {
   "cell_type": "markdown",
   "id": "0136ffee-0ead-4a6b-b608-61d1c753a438",
   "metadata": {
    "id": "0136ffee-0ead-4a6b-b608-61d1c753a438"
   },
   "source": [
    "5. Напишите запрос, выводящий значения поля Требуемый опыт работы (experience) в порядке возрастания количества вакансий, в которых указан данный вариант опыта. "
   ]
  },
  {
   "cell_type": "code",
   "execution_count": 543,
   "outputs": [],
   "source": [
    "# текст запроса\n",
    "query_4_5 = f'''\n",
    "select experience\n",
    "from vacancies\n",
    "group by experience -- группируем по опыту работы\n",
    "order by count(id) asc -- сортируем в порядке возрастания количества вакансий\n",
    "'''"
   ],
   "metadata": {
    "collapsed": false
   }
  },
  {
   "cell_type": "code",
   "source": [
    "#вывод результата запроса\n",
    "answer_4_5 = pd.read_sql_query(query_4_5, connection)\n",
    "display(answer_4_5)"
   ],
   "metadata": {
    "id": "3Is64Y-hpDpq"
   },
   "id": "3Is64Y-hpDpq",
   "execution_count": 544,
   "outputs": [
    {
     "name": "stderr",
     "output_type": "stream",
     "text": [
      "/tmp/ipykernel_458/2279721042.py:2: UserWarning: pandas only supports SQLAlchemy connectable (engine/connection) or database string URI or sqlite3 DBAPI2 connection. Other DBAPI2 objects are not tested. Please consider using SQLAlchemy.\n",
      "  answer_4_5 = pd.read_sql_query(query_4_5, connection)\n"
     ]
    },
    {
     "data": {
      "text/plain": "           experience\n0         Более 6 лет\n1           Нет опыта\n2       От 3 до 6 лет\n3  От 1 года до 3 лет",
      "text/html": "<div>\n<style scoped>\n    .dataframe tbody tr th:only-of-type {\n        vertical-align: middle;\n    }\n\n    .dataframe tbody tr th {\n        vertical-align: top;\n    }\n\n    .dataframe thead th {\n        text-align: right;\n    }\n</style>\n<table border=\"1\" class=\"dataframe\">\n  <thead>\n    <tr style=\"text-align: right;\">\n      <th></th>\n      <th>experience</th>\n    </tr>\n  </thead>\n  <tbody>\n    <tr>\n      <th>0</th>\n      <td>Более 6 лет</td>\n    </tr>\n    <tr>\n      <th>1</th>\n      <td>Нет опыта</td>\n    </tr>\n    <tr>\n      <th>2</th>\n      <td>От 3 до 6 лет</td>\n    </tr>\n    <tr>\n      <th>3</th>\n      <td>От 1 года до 3 лет</td>\n    </tr>\n  </tbody>\n</table>\n</div>"
     },
     "metadata": {},
     "output_type": "display_data"
    }
   ]
  },
  {
   "cell_type": "markdown",
   "source": [
    "## Выводы\n",
    "- Больше половина вакансий не содержит укзания зарплатной вилки, это может говорить о\n",
    "  - Работадатели предпочитают обсуждать зар. плату индивидуально с работками\n",
    "  - Вероятно выгоднее получать больше откликов на вакансию и производить отсев до этого, чем лишаться части откликов\n",
    "- На рынке в самом большом спросе находятся ресурсы с опытом от 1 до 3 лет, в наименьшем люди с солидным опытом, что можно интерпретировать как запрос рынка на middle / middle + &senior / junior / senior +\n",
    "- Небольшое количество стажировок в % соотношение, может являться косвенным свидельством умеренного спроса на junior ресурсы\n",
    "- Наиболее требуемой формой рабочего контракта является полный день и полная занятость, что в пост ковидный период выглядит странным, возможно представленные данные\n",
    "- Больше всего вакансий находится в Москве, однако в разрезе количества населения количество предложений выглядит скромнее чем в Новосибирске или СПБ, возможно, это всязано с высокой конкуренцией в Москве\n",
    "***"
   ],
   "metadata": {
    "collapsed": false
   }
  },
  {
   "cell_type": "markdown",
   "id": "7ea20ab6-04a7-40a0-adec-443a0e5a42c3",
   "metadata": {
    "id": "7ea20ab6-04a7-40a0-adec-443a0e5a42c3"
   },
   "source": [
    "# Юнит 5. Анализ работодателей"
   ]
  },
  {
   "cell_type": "markdown",
   "id": "968aed80-74ef-4ffb-b5bf-c65b84e9caea",
   "metadata": {
    "id": "968aed80-74ef-4ffb-b5bf-c65b84e9caea"
   },
   "source": [
    "1. Напишите запрос, который позволит узнать, какие работодатели находятся на первом и пятом месте по количеству вакансий."
   ]
  },
  {
   "cell_type": "code",
   "execution_count": 545,
   "id": "f2d62796-d400-4ec1-a675-88112739a50e",
   "metadata": {
    "id": "f2d62796-d400-4ec1-a675-88112739a50e"
   },
   "outputs": [],
   "source": [
    "# тест запроса\n",
    "query_5_1 = f'''\n",
    "(select e.name\n",
    "from\n",
    "    employers as e\n",
    "    join vacancies as v on e.id = v.employer_id\n",
    "group by e.id -- группируем по id, не по имени, чтобы убедиться в\n",
    "order by count(v.id) desc -- производим сортировку объединяемых таблиц отдельно\n",
    "limit 1) -- выбираем первую позицию\n",
    "\n",
    "union all -- объединяем первую и пятую позиции\n",
    "\n",
    "(select e.name\n",
    "from\n",
    "    employers as e\n",
    "    join vacancies as v on e.id = v.employer_id\n",
    "group by e.name\n",
    "order by count(v.id) desc\n",
    "offset 4 -- выбираем 5ую позицию\n",
    "limit 1)\n",
    "'''"
   ]
  },
  {
   "cell_type": "code",
   "source": [
    "#вывод результата запроса\n",
    "answer_5_1 = pd.read_sql_query(query_5_1, connection)\n",
    "display(answer_5_1)"
   ],
   "metadata": {
    "id": "64tOMkAxqkQk"
   },
   "id": "64tOMkAxqkQk",
   "execution_count": 546,
   "outputs": [
    {
     "name": "stderr",
     "output_type": "stream",
     "text": [
      "/tmp/ipykernel_458/2844143951.py:2: UserWarning: pandas only supports SQLAlchemy connectable (engine/connection) or database string URI or sqlite3 DBAPI2 connection. Other DBAPI2 objects are not tested. Please consider using SQLAlchemy.\n",
      "  answer_5_1 = pd.read_sql_query(query_5_1, connection)\n"
     ]
    },
    {
     "data": {
      "text/plain": "            name\n0         Яндекс\n1  Газпром нефть",
      "text/html": "<div>\n<style scoped>\n    .dataframe tbody tr th:only-of-type {\n        vertical-align: middle;\n    }\n\n    .dataframe tbody tr th {\n        vertical-align: top;\n    }\n\n    .dataframe thead th {\n        text-align: right;\n    }\n</style>\n<table border=\"1\" class=\"dataframe\">\n  <thead>\n    <tr style=\"text-align: right;\">\n      <th></th>\n      <th>name</th>\n    </tr>\n  </thead>\n  <tbody>\n    <tr>\n      <th>0</th>\n      <td>Яндекс</td>\n    </tr>\n    <tr>\n      <th>1</th>\n      <td>Газпром нефть</td>\n    </tr>\n  </tbody>\n</table>\n</div>"
     },
     "metadata": {},
     "output_type": "display_data"
    }
   ]
  },
  {
   "cell_type": "markdown",
   "id": "68377cfc-b378-43dc-ab7d-1195abf2c515",
   "metadata": {
    "id": "68377cfc-b378-43dc-ab7d-1195abf2c515"
   },
   "source": [
    "2. Напишите запрос, который для каждого региона выведет количество работодателей и вакансий в нём.\n",
    "Среди регионов, в которых нет вакансий, найдите тот, в котором наибольшее количество работодателей.\n"
   ]
  },
  {
   "cell_type": "code",
   "execution_count": 547,
   "id": "dd7df27a-e3e8-412e-a21a-5d389b71e891",
   "metadata": {
    "id": "dd7df27a-e3e8-412e-a21a-5d389b71e891"
   },
   "outputs": [],
   "source": [
    "# текст запроса\n",
    "query_5_2 = f'''\n",
    "select\n",
    "    a.name,\n",
    "    count(distinct e.id) as cnt_employers, -- считаем количество работадателей\n",
    "    count(v.id) as cnt_vacancies -- считаем количество вакансий\n",
    "from\n",
    "    areas a\n",
    "    left join employers e on e.area = a.id\n",
    "    left join vacancies v on\n",
    "        v.employer_id = e.id\n",
    "        and v.area_id = a.id\n",
    "group by a.id\n",
    "having count(v.id) = 0 --выбираем только те регионы где нет ни 1 вакансии\n",
    "order by 2 desc -- сортируем по количеству работодателей\n",
    "limit 1 --выбриаем регион с наибольшим количеством работодателей\n",
    "'''"
   ]
  },
  {
   "cell_type": "code",
   "source": [
    "#вывод результата запроса\n",
    "answer_5_2 = pd.read_sql_query(query_5_2, connection)\n",
    "display(answer_5_2)"
   ],
   "metadata": {
    "id": "x1ikWbydrbf6"
   },
   "id": "x1ikWbydrbf6",
   "execution_count": 548,
   "outputs": [
    {
     "name": "stderr",
     "output_type": "stream",
     "text": [
      "/tmp/ipykernel_458/3352381363.py:2: UserWarning: pandas only supports SQLAlchemy connectable (engine/connection) or database string URI or sqlite3 DBAPI2 connection. Other DBAPI2 objects are not tested. Please consider using SQLAlchemy.\n",
      "  answer_5_2 = pd.read_sql_query(query_5_2, connection)\n"
     ]
    },
    {
     "data": {
      "text/plain": "     name  cnt_employers  cnt_vacancies\n0  Россия            410              0",
      "text/html": "<div>\n<style scoped>\n    .dataframe tbody tr th:only-of-type {\n        vertical-align: middle;\n    }\n\n    .dataframe tbody tr th {\n        vertical-align: top;\n    }\n\n    .dataframe thead th {\n        text-align: right;\n    }\n</style>\n<table border=\"1\" class=\"dataframe\">\n  <thead>\n    <tr style=\"text-align: right;\">\n      <th></th>\n      <th>name</th>\n      <th>cnt_employers</th>\n      <th>cnt_vacancies</th>\n    </tr>\n  </thead>\n  <tbody>\n    <tr>\n      <th>0</th>\n      <td>Россия</td>\n      <td>410</td>\n      <td>0</td>\n    </tr>\n  </tbody>\n</table>\n</div>"
     },
     "metadata": {},
     "output_type": "display_data"
    }
   ]
  },
  {
   "cell_type": "markdown",
   "id": "f2fe0acb-ab1a-4e15-9326-2560e22d73c1",
   "metadata": {
    "id": "f2fe0acb-ab1a-4e15-9326-2560e22d73c1"
   },
   "source": [
    "3. Для каждого работодателя посчитайте количество регионов, в которых он публикует свои вакансии. Отсортируйте результат по убыванию количества.\n"
   ]
  },
  {
   "cell_type": "code",
   "execution_count": 549,
   "id": "6271f8ad-bd2e-4196-ae4a-5b39c4c1010e",
   "metadata": {
    "id": "6271f8ad-bd2e-4196-ae4a-5b39c4c1010e"
   },
   "outputs": [],
   "source": [
    "# текст запроса\n",
    "query_5_3 = f'''\n",
    "select\n",
    "    e.name,\n",
    "    count(distinct v.area_id)\n",
    "from\n",
    "    employers as e\n",
    "    left join vacancies as v on e.id = v.employer_id\n",
    "group by e.id\n",
    "order by 2 desc\n",
    "'''"
   ]
  },
  {
   "cell_type": "code",
   "source": [
    "#вывод результата запроса\n",
    "answer_5_3 = pd.read_sql_query(query_5_3, connection)\n",
    "display(answer_5_3)"
   ],
   "metadata": {
    "id": "1EIvX3HasH4F"
   },
   "id": "1EIvX3HasH4F",
   "execution_count": 550,
   "outputs": [
    {
     "name": "stderr",
     "output_type": "stream",
     "text": [
      "/tmp/ipykernel_458/3661101528.py:2: UserWarning: pandas only supports SQLAlchemy connectable (engine/connection) or database string URI or sqlite3 DBAPI2 connection. Other DBAPI2 objects are not tested. Please consider using SQLAlchemy.\n",
      "  answer_5_3 = pd.read_sql_query(query_5_3, connection)\n"
     ]
    },
    {
     "data": {
      "text/plain": "                         name  count\n0                      Яндекс    181\n1                  Ростелеком    152\n2                  Спецремонт    116\n3      Поляков Денис Иванович     88\n4                   ООО ЕФИН      71\n...                       ...    ...\n23496              Но Смокинг      0\n23497        МАСТЕРСКАЯ CREED      0\n23498           Dzing Finance      0\n23499                    КОРС      0\n23500             Наука-Связь      0\n\n[23501 rows x 2 columns]",
      "text/html": "<div>\n<style scoped>\n    .dataframe tbody tr th:only-of-type {\n        vertical-align: middle;\n    }\n\n    .dataframe tbody tr th {\n        vertical-align: top;\n    }\n\n    .dataframe thead th {\n        text-align: right;\n    }\n</style>\n<table border=\"1\" class=\"dataframe\">\n  <thead>\n    <tr style=\"text-align: right;\">\n      <th></th>\n      <th>name</th>\n      <th>count</th>\n    </tr>\n  </thead>\n  <tbody>\n    <tr>\n      <th>0</th>\n      <td>Яндекс</td>\n      <td>181</td>\n    </tr>\n    <tr>\n      <th>1</th>\n      <td>Ростелеком</td>\n      <td>152</td>\n    </tr>\n    <tr>\n      <th>2</th>\n      <td>Спецремонт</td>\n      <td>116</td>\n    </tr>\n    <tr>\n      <th>3</th>\n      <td>Поляков Денис Иванович</td>\n      <td>88</td>\n    </tr>\n    <tr>\n      <th>4</th>\n      <td>ООО ЕФИН</td>\n      <td>71</td>\n    </tr>\n    <tr>\n      <th>...</th>\n      <td>...</td>\n      <td>...</td>\n    </tr>\n    <tr>\n      <th>23496</th>\n      <td>Но Смокинг</td>\n      <td>0</td>\n    </tr>\n    <tr>\n      <th>23497</th>\n      <td>МАСТЕРСКАЯ CREED</td>\n      <td>0</td>\n    </tr>\n    <tr>\n      <th>23498</th>\n      <td>Dzing Finance</td>\n      <td>0</td>\n    </tr>\n    <tr>\n      <th>23499</th>\n      <td>КОРС</td>\n      <td>0</td>\n    </tr>\n    <tr>\n      <th>23500</th>\n      <td>Наука-Связь</td>\n      <td>0</td>\n    </tr>\n  </tbody>\n</table>\n<p>23501 rows × 2 columns</p>\n</div>"
     },
     "metadata": {},
     "output_type": "display_data"
    }
   ]
  },
  {
   "cell_type": "markdown",
   "id": "eab2206d-d95b-468b-8e5f-34381abf0ce7",
   "metadata": {
    "id": "eab2206d-d95b-468b-8e5f-34381abf0ce7"
   },
   "source": [
    "4. Напишите запрос для подсчёта количества работодателей, у которых не указана сфера деятельности. "
   ]
  },
  {
   "cell_type": "code",
   "execution_count": 551,
   "id": "80defb23-bfb1-4a18-8be6-bf36aa7165d5",
   "metadata": {
    "id": "80defb23-bfb1-4a18-8be6-bf36aa7165d5"
   },
   "outputs": [],
   "source": [
    "# текст запроса\n",
    "query_5_4 = f'''\n",
    "select\n",
    "    count(e.id)\n",
    "from\n",
    "    employers as e\n",
    "    left join employers_industries as ei on ei.employer_id = e.id\n",
    "where ei.employer_id is null\n",
    "'''"
   ]
  },
  {
   "cell_type": "code",
   "source": [
    "#вывод результата запроса\n",
    "answer_5_4 = pd.read_sql_query(query_5_4, connection)\n",
    "display(answer_5_4)"
   ],
   "metadata": {
    "id": "Dp_yCx6ysQSu"
   },
   "id": "Dp_yCx6ysQSu",
   "execution_count": 552,
   "outputs": [
    {
     "name": "stderr",
     "output_type": "stream",
     "text": [
      "/tmp/ipykernel_458/2254713031.py:2: UserWarning: pandas only supports SQLAlchemy connectable (engine/connection) or database string URI or sqlite3 DBAPI2 connection. Other DBAPI2 objects are not tested. Please consider using SQLAlchemy.\n",
      "  answer_5_4 = pd.read_sql_query(query_5_4, connection)\n"
     ]
    },
    {
     "data": {
      "text/plain": "   count\n0   8419",
      "text/html": "<div>\n<style scoped>\n    .dataframe tbody tr th:only-of-type {\n        vertical-align: middle;\n    }\n\n    .dataframe tbody tr th {\n        vertical-align: top;\n    }\n\n    .dataframe thead th {\n        text-align: right;\n    }\n</style>\n<table border=\"1\" class=\"dataframe\">\n  <thead>\n    <tr style=\"text-align: right;\">\n      <th></th>\n      <th>count</th>\n    </tr>\n  </thead>\n  <tbody>\n    <tr>\n      <th>0</th>\n      <td>8419</td>\n    </tr>\n  </tbody>\n</table>\n</div>"
     },
     "metadata": {},
     "output_type": "display_data"
    }
   ]
  },
  {
   "cell_type": "markdown",
   "id": "0112af31-f6b0-4e3b-82ab-71296e752e5e",
   "metadata": {
    "id": "0112af31-f6b0-4e3b-82ab-71296e752e5e"
   },
   "source": [
    "5. Напишите запрос, чтобы узнать название компании, находящейся на третьем месте в алфавитном списке (по названию) компаний, у которых указано четыре сферы деятельности. "
   ]
  },
  {
   "cell_type": "code",
   "execution_count": 553,
   "id": "973b0cfc-a972-470a-8b4a-68744ef220c4",
   "metadata": {
    "id": "973b0cfc-a972-470a-8b4a-68744ef220c4"
   },
   "outputs": [],
   "source": [
    "# текст запроса\n",
    "query_5_5 = f'''\n",
    "select\n",
    "    e.name\n",
    "from\n",
    "    employers as e\n",
    "    join employers_industries as ei on ei.employer_id = e.id\n",
    "group by e.id\n",
    "having count(ei.employer_id) = 4\n",
    "order by e.name\n",
    "offset 2\n",
    "limit 1\n",
    "'''"
   ]
  },
  {
   "cell_type": "code",
   "source": [
    "#вывод результата запроса\n",
    "answer_5_5 = pd.read_sql_query(query_5_5, connection)\n",
    "display(answer_5_5)"
   ],
   "metadata": {
    "id": "xsPtpp8EsaED"
   },
   "id": "xsPtpp8EsaED",
   "execution_count": 554,
   "outputs": [
    {
     "name": "stderr",
     "output_type": "stream",
     "text": [
      "/tmp/ipykernel_458/2620705473.py:2: UserWarning: pandas only supports SQLAlchemy connectable (engine/connection) or database string URI or sqlite3 DBAPI2 connection. Other DBAPI2 objects are not tested. Please consider using SQLAlchemy.\n",
      "  answer_5_5 = pd.read_sql_query(query_5_5, connection)\n"
     ]
    },
    {
     "data": {
      "text/plain": "   name\n0  2ГИС",
      "text/html": "<div>\n<style scoped>\n    .dataframe tbody tr th:only-of-type {\n        vertical-align: middle;\n    }\n\n    .dataframe tbody tr th {\n        vertical-align: top;\n    }\n\n    .dataframe thead th {\n        text-align: right;\n    }\n</style>\n<table border=\"1\" class=\"dataframe\">\n  <thead>\n    <tr style=\"text-align: right;\">\n      <th></th>\n      <th>name</th>\n    </tr>\n  </thead>\n  <tbody>\n    <tr>\n      <th>0</th>\n      <td>2ГИС</td>\n    </tr>\n  </tbody>\n</table>\n</div>"
     },
     "metadata": {},
     "output_type": "display_data"
    }
   ]
  },
  {
   "cell_type": "markdown",
   "id": "3bfcfdaf-755d-4d2b-8ed8-326201dc07ab",
   "metadata": {
    "id": "3bfcfdaf-755d-4d2b-8ed8-326201dc07ab"
   },
   "source": [
    "6. С помощью запроса выясните, у какого количества работодателей в качестве сферы деятельности указана Разработка программного обеспечения.\n"
   ]
  },
  {
   "cell_type": "code",
   "execution_count": 555,
   "id": "ad3f270f-2991-47eb-929b-e8f88a55b0d1",
   "metadata": {
    "id": "ad3f270f-2991-47eb-929b-e8f88a55b0d1"
   },
   "outputs": [],
   "source": [
    "# текст запроса\n",
    "query_5_6 = f'''\n",
    "select\n",
    "    count(e.id)\n",
    "from\n",
    "    employers as e\n",
    "    join employers_industries as ei on ei.employer_id = e.id\n",
    "    join industries as i on ei.industry_id = i.id\n",
    "where i.name = 'Разработка программного обеспечения'\n",
    "'''"
   ]
  },
  {
   "cell_type": "code",
   "source": [
    "#вывод результата запроса\n",
    "answer_5_6 = pd.read_sql_query(query_5_6, connection)\n",
    "display(answer_5_6)"
   ],
   "metadata": {
    "id": "H72qxWM0shPR"
   },
   "id": "H72qxWM0shPR",
   "execution_count": 556,
   "outputs": [
    {
     "name": "stderr",
     "output_type": "stream",
     "text": [
      "/tmp/ipykernel_458/3430973104.py:2: UserWarning: pandas only supports SQLAlchemy connectable (engine/connection) or database string URI or sqlite3 DBAPI2 connection. Other DBAPI2 objects are not tested. Please consider using SQLAlchemy.\n",
      "  answer_5_6 = pd.read_sql_query(query_5_6, connection)\n"
     ]
    },
    {
     "data": {
      "text/plain": "   count\n0   3553",
      "text/html": "<div>\n<style scoped>\n    .dataframe tbody tr th:only-of-type {\n        vertical-align: middle;\n    }\n\n    .dataframe tbody tr th {\n        vertical-align: top;\n    }\n\n    .dataframe thead th {\n        text-align: right;\n    }\n</style>\n<table border=\"1\" class=\"dataframe\">\n  <thead>\n    <tr style=\"text-align: right;\">\n      <th></th>\n      <th>count</th>\n    </tr>\n  </thead>\n  <tbody>\n    <tr>\n      <th>0</th>\n      <td>3553</td>\n    </tr>\n  </tbody>\n</table>\n</div>"
     },
     "metadata": {},
     "output_type": "display_data"
    }
   ]
  },
  {
   "cell_type": "markdown",
   "id": "7b02bb86-0546-40fb-94a4-242f050a5c57",
   "metadata": {
    "id": "7b02bb86-0546-40fb-94a4-242f050a5c57"
   },
   "source": [
    "7. Для компании «Яндекс» выведите список регионов-миллионников, в которых представлены вакансии компании, вместе с количеством вакансий в этих регионах. Также добавьте строку Total с общим количеством вакансий компании. Результат отсортируйте по возрастанию количества.\n",
    "\n",
    "Список городов-милионников надо взять [отсюда](https://ru.wikipedia.org/wiki/%D0%93%D0%BE%D1%80%D0%BE%D0%B4%D0%B0-%D0%BC%D0%B8%D0%BB%D0%BB%D0%B8%D0%BE%D0%BD%D0%B5%D1%80%D1%8B_%D0%A0%D0%BE%D1%81%D1%81%D0%B8%D0%B8). \n",
    "\n",
    "Если возникнут трудности с этим задание посмотрите материалы модуля  PYTHON-17. Как получать данные из веб-источников и API. "
   ]
  },
  {
   "cell_type": "code",
   "source": [
    "import requests\n",
    "from bs4 import BeautifulSoup\n",
    "\n",
    "url = 'https://ru.wikipedia.org/wiki/%D0%93%D0%BE%D1%80%D0%BE%D0%B4%D0%B0-%D0%BC%D0%B8%D0%BB%D0%BB%D0%B8%D0%BE%D0%BD%D0%B5%D1%80%D1%8B_%D0%A0%D0%BE%D1%81%D1%81%D0%B8%D0%B8'\n",
    "response = requests.get(url) # Выполняем get запрос\n",
    "page = BeautifulSoup(response.text, 'html.parser') # Создаём объект BeautifulSoup, указывая html-парсер\n",
    "\n",
    "table = page.find_all('table', class_ = 'standard')[0] # Из всех таблиц выбираем первую, встречающуюся\n",
    "links = table.find_all('a') # ищем все ссылке в выбранной таблице\n",
    "\n",
    "list_cities = [link.text for link in links[4:]] # при помощи генератора созаем список городов, отсекая сслыки, не имеющие смысла\n",
    "list_cities.remove('[a]') # удаляем еще 1 лишнюю ссылку\n",
    "list_cities = tuple(list_cities) # преобразуем в кортеж, который будет удобно использовать в запросе\n",
    "display(list_cities)\n"
   ],
   "metadata": {
    "id": "ZdfrL6gIs1Pn"
   },
   "id": "ZdfrL6gIs1Pn",
   "execution_count": 557,
   "outputs": [
    {
     "data": {
      "text/plain": "('Москва',\n 'Санкт-Петербург',\n 'Новосибирск',\n 'Екатеринбург',\n 'Казань',\n 'Нижний Новгород',\n 'Челябинск',\n 'Красноярск',\n 'Самара',\n 'Уфа',\n 'Ростов-на-Дону',\n 'Омск',\n 'Краснодар',\n 'Воронеж',\n 'Пермь',\n 'Волгоград')"
     },
     "metadata": {},
     "output_type": "display_data"
    }
   ]
  },
  {
   "cell_type": "code",
   "execution_count": 558,
   "id": "5a0e32a4-e68a-4365-8a39-2fe24c542c36",
   "metadata": {
    "id": "5a0e32a4-e68a-4365-8a39-2fe24c542c36"
   },
   "outputs": [],
   "source": [
    "# текст запроса\n",
    "query_5_7 = f'''\n",
    "(select\n",
    "    a.name,\n",
    "    count(v.id)\n",
    "from\n",
    "    employers e\n",
    "    join vacancies v on v.employer_id = e.id and e.name = 'Яндекс' -- производим join только тех записей, где работодатель Яндрекс\n",
    "    join areas a on a.id = v.area_id\n",
    "where\n",
    "    a.name in {list_cities} -- проверяем условие вхождение региона в сприсок list_cities\n",
    "group by a.id -- группируем по id региона\n",
    "order by 2 desc) -- сортируем по количеству в порядке убываения\n",
    "\n",
    "union all -- объедияем с Total\n",
    "\n",
    "select\n",
    "    'total',\n",
    "    count(v.id)\n",
    "from\n",
    "    employers e\n",
    "    join vacancies v on v.employer_id = e.id and e.name = 'Яндекс'\n",
    "    join areas a on a.id = v.area_id\n",
    "where\n",
    "    a.name in {list_cities}\n",
    "'''"
   ]
  },
  {
   "cell_type": "code",
   "source": [
    "#вывод результата запроса\n",
    "answer_5_7 = pd.read_sql_query(query_5_7,connection)\n",
    "display(answer_5_7)"
   ],
   "metadata": {
    "id": "ttPhiO1rsvPq"
   },
   "id": "ttPhiO1rsvPq",
   "execution_count": 559,
   "outputs": [
    {
     "name": "stderr",
     "output_type": "stream",
     "text": [
      "/tmp/ipykernel_458/2069820079.py:2: UserWarning: pandas only supports SQLAlchemy connectable (engine/connection) or database string URI or sqlite3 DBAPI2 connection. Other DBAPI2 objects are not tested. Please consider using SQLAlchemy.\n",
      "  answer_5_7 = pd.read_sql_query(query_5_7,connection)\n"
     ]
    },
    {
     "data": {
      "text/plain": "               name  count\n0             total    485\n1            Москва     54\n2   Санкт-Петербург     42\n3      Екатеринбург     39\n4   Нижний Новгород     36\n5       Новосибирск     35\n6           Воронеж     32\n7         Краснодар     30\n8            Самара     26\n9               Уфа     26\n10           Казань     25\n11            Пермь     25\n12   Ростов-на-Дону     25\n13        Волгоград     24\n14       Красноярск     23\n15        Челябинск     22\n16             Омск     21",
      "text/html": "<div>\n<style scoped>\n    .dataframe tbody tr th:only-of-type {\n        vertical-align: middle;\n    }\n\n    .dataframe tbody tr th {\n        vertical-align: top;\n    }\n\n    .dataframe thead th {\n        text-align: right;\n    }\n</style>\n<table border=\"1\" class=\"dataframe\">\n  <thead>\n    <tr style=\"text-align: right;\">\n      <th></th>\n      <th>name</th>\n      <th>count</th>\n    </tr>\n  </thead>\n  <tbody>\n    <tr>\n      <th>0</th>\n      <td>total</td>\n      <td>485</td>\n    </tr>\n    <tr>\n      <th>1</th>\n      <td>Москва</td>\n      <td>54</td>\n    </tr>\n    <tr>\n      <th>2</th>\n      <td>Санкт-Петербург</td>\n      <td>42</td>\n    </tr>\n    <tr>\n      <th>3</th>\n      <td>Екатеринбург</td>\n      <td>39</td>\n    </tr>\n    <tr>\n      <th>4</th>\n      <td>Нижний Новгород</td>\n      <td>36</td>\n    </tr>\n    <tr>\n      <th>5</th>\n      <td>Новосибирск</td>\n      <td>35</td>\n    </tr>\n    <tr>\n      <th>6</th>\n      <td>Воронеж</td>\n      <td>32</td>\n    </tr>\n    <tr>\n      <th>7</th>\n      <td>Краснодар</td>\n      <td>30</td>\n    </tr>\n    <tr>\n      <th>8</th>\n      <td>Самара</td>\n      <td>26</td>\n    </tr>\n    <tr>\n      <th>9</th>\n      <td>Уфа</td>\n      <td>26</td>\n    </tr>\n    <tr>\n      <th>10</th>\n      <td>Казань</td>\n      <td>25</td>\n    </tr>\n    <tr>\n      <th>11</th>\n      <td>Пермь</td>\n      <td>25</td>\n    </tr>\n    <tr>\n      <th>12</th>\n      <td>Ростов-на-Дону</td>\n      <td>25</td>\n    </tr>\n    <tr>\n      <th>13</th>\n      <td>Волгоград</td>\n      <td>24</td>\n    </tr>\n    <tr>\n      <th>14</th>\n      <td>Красноярск</td>\n      <td>23</td>\n    </tr>\n    <tr>\n      <th>15</th>\n      <td>Челябинск</td>\n      <td>22</td>\n    </tr>\n    <tr>\n      <th>16</th>\n      <td>Омск</td>\n      <td>21</td>\n    </tr>\n  </tbody>\n</table>\n</div>"
     },
     "metadata": {},
     "output_type": "display_data"
    }
   ]
  },
  {
   "cell_type": "markdown",
   "id": "04966e40-3bc3-4dc8-9ba2-e80580ce3abc",
   "metadata": {
    "id": "04966e40-3bc3-4dc8-9ba2-e80580ce3abc"
   },
   "source": [
    "***"
   ]
  },
  {
   "cell_type": "markdown",
   "source": [
    "## Выводы\n",
    "- На примере Яндекса можно косвенно подтвердить вывод, о том, что нет тотальной доминации Москва по количетсву вакансий, регионы в портфеле Яндекса, скорее соответствуют количеству университетов по городам России\n",
    "- Среди наиболее крупных работодателей доминируют часные фирмы, это может быть следствием их более динамичного поиска сотрудников\n",
    "- Значительное количество работодателей без привязки к индустрии может говорить о том, что эти работодатели не запостили объявлений или их доля в отрытых вакансиях митимальна\n",
    "- Самая популярная сфера деятельности - разработка програмного обеспечения, и области ассоциированные с ИТ вероятно, она генерирет значительное количе\n",
    "- Имеется определенная ценрализация работодателей в МСК и СПБ, они имеют больше работодателей, чем вакансий, другие регионы имеют больше вакансий, чем работодателей, что иллюстрирует тендецию работы на нелокального работодателя\n",
    "\n",
    "***"
   ],
   "metadata": {
    "collapsed": false
   }
  },
  {
   "cell_type": "markdown",
   "id": "b1ef156a-efcb-49ce-bb23-90763e7f35b2",
   "metadata": {
    "tags": [],
    "id": "b1ef156a-efcb-49ce-bb23-90763e7f35b2"
   },
   "source": [
    "# Юнит 6. Предметный анализ"
   ]
  },
  {
   "cell_type": "markdown",
   "id": "b9cd50a0-992d-4988-8463-2b2b1c4629b4",
   "metadata": {
    "id": "b9cd50a0-992d-4988-8463-2b2b1c4629b4"
   },
   "source": [
    "1. Сколько вакансий имеет отношение к данным?\n",
    "\n",
    "Считаем, что вакансия имеет отношение к данным, если в её названии содержатся слова 'data' или 'данн'.\n",
    "\n",
    "*Подсказка: Обратите внимание, что названия вакансий могут быть написаны в любом регистре.* \n"
   ]
  },
  {
   "cell_type": "code",
   "execution_count": 560,
   "id": "54ab0e50-c0f1-47cc-a54b-bc5c8bc363f9",
   "metadata": {
    "id": "54ab0e50-c0f1-47cc-a54b-bc5c8bc363f9"
   },
   "outputs": [],
   "source": [
    "# текст запроса\n",
    "query_6_1 =f'''\n",
    "select\n",
    "    count(id)\n",
    "from vacancies\n",
    "where\n",
    "    name ~*'data' --используем regexp чтобы выбрать вакансии содержащие 'data', нечувст к регистру\n",
    "    or name ~*'данн' --делаем тоже самое для строки 'данн'\n",
    "'''"
   ]
  },
  {
   "cell_type": "code",
   "source": [
    "#вывод результата запроса\n",
    "answer_6_1 = pd.read_sql_query(query_6_1, connection)\n",
    "display(answer_6_1)"
   ],
   "metadata": {
    "id": "9F1meAqsuUjd"
   },
   "id": "9F1meAqsuUjd",
   "execution_count": 561,
   "outputs": [
    {
     "name": "stderr",
     "output_type": "stream",
     "text": [
      "/tmp/ipykernel_458/691852798.py:2: UserWarning: pandas only supports SQLAlchemy connectable (engine/connection) or database string URI or sqlite3 DBAPI2 connection. Other DBAPI2 objects are not tested. Please consider using SQLAlchemy.\n",
      "  answer_6_1 = pd.read_sql_query(query_6_1, connection)\n"
     ]
    },
    {
     "data": {
      "text/plain": "   count\n0   1771",
      "text/html": "<div>\n<style scoped>\n    .dataframe tbody tr th:only-of-type {\n        vertical-align: middle;\n    }\n\n    .dataframe tbody tr th {\n        vertical-align: top;\n    }\n\n    .dataframe thead th {\n        text-align: right;\n    }\n</style>\n<table border=\"1\" class=\"dataframe\">\n  <thead>\n    <tr style=\"text-align: right;\">\n      <th></th>\n      <th>count</th>\n    </tr>\n  </thead>\n  <tbody>\n    <tr>\n      <th>0</th>\n      <td>1771</td>\n    </tr>\n  </tbody>\n</table>\n</div>"
     },
     "metadata": {},
     "output_type": "display_data"
    }
   ]
  },
  {
   "cell_type": "markdown",
   "id": "4dea20cb-a36b-474a-a0b9-e08e8e3857a5",
   "metadata": {
    "id": "4dea20cb-a36b-474a-a0b9-e08e8e3857a5"
   },
   "source": [
    "\n",
    "2. Сколько есть подходящих вакансий для начинающего дата-сайентиста?\n",
    "Будем считать вакансиями для дата-сайентистов такие, в названии которых есть хотя бы одно из следующих сочетаний:\n",
    "* 'data scientist'\n",
    "* 'data science'\n",
    "* 'исследователь данных'\n",
    "* 'ML' (здесь не нужно брать вакансии по HTML)\n",
    "* 'machine learning'\n",
    "* 'машинн%обучен%'\n",
    "\n",
    "** В следующих заданиях мы продолжим работать с вакансиями по этому условию.*\n",
    "\n",
    "Считаем вакансиями для специалистов уровня Junior следующие:\n",
    "* в названии есть слово 'junior' *или*\n",
    "* требуемый опыт — Нет опыта *или*\n",
    "* тип трудоустройства — Стажировка.\n",
    " "
   ]
  },
  {
   "cell_type": "code",
   "execution_count": 562,
   "id": "9c61b3c0-bb66-46c9-ae1e-81d3f5752b4a",
   "metadata": {
    "id": "9c61b3c0-bb66-46c9-ae1e-81d3f5752b4a"
   },
   "outputs": [],
   "source": [
    "# текст запроса\n",
    "\n",
    "# создаем базу для последующих запросов, вакансии, имеющие отношения к DS\n",
    "query_6 = f'''\n",
    "select *\n",
    "from vacancies\n",
    "where\n",
    "    (name ilike '%data scientist%'\n",
    "    or name ilike '%data science%'\n",
    "    or name ilike '%исследователь данных%'\n",
    "    or name like '%ML%'\n",
    "    or name ilike '%machine learning%'\n",
    "    or name ilike '%машинн%обучен%')\n",
    "    and name not like '%HTML%'\n",
    "'''\n",
    "\n",
    "# создаем запрос на выборку всех джуниорских позиций\n",
    "condition_6_2 = f'''\n",
    "select *\n",
    "from vacancies\n",
    "where\n",
    "    name ilike '%junior%'\n",
    "    or experience = 'Нет опыта'\n",
    "    or employment = 'Стажировка'\n",
    "'''\n",
    "\n",
    "# создаем завпрос на как пересечение вакансий DS и джуниорских\n",
    "query_6_2 = f'''\n",
    "select count(*)\n",
    "from (\n",
    "    {query_6}\n",
    "intersect\n",
    "    {condition_6_2}\n",
    ") x\n",
    "'''"
   ]
  },
  {
   "cell_type": "code",
   "execution_count": 563,
   "outputs": [
    {
     "name": "stderr",
     "output_type": "stream",
     "text": [
      "/tmp/ipykernel_458/2911736217.py:3: UserWarning: pandas only supports SQLAlchemy connectable (engine/connection) or database string URI or sqlite3 DBAPI2 connection. Other DBAPI2 objects are not tested. Please consider using SQLAlchemy.\n",
      "  answer_6_2 = pd.read_sql_query(query_6_2, connection)\n"
     ]
    },
    {
     "data": {
      "text/plain": "   count\n0     51",
      "text/html": "<div>\n<style scoped>\n    .dataframe tbody tr th:only-of-type {\n        vertical-align: middle;\n    }\n\n    .dataframe tbody tr th {\n        vertical-align: top;\n    }\n\n    .dataframe thead th {\n        text-align: right;\n    }\n</style>\n<table border=\"1\" class=\"dataframe\">\n  <thead>\n    <tr style=\"text-align: right;\">\n      <th></th>\n      <th>count</th>\n    </tr>\n  </thead>\n  <tbody>\n    <tr>\n      <th>0</th>\n      <td>51</td>\n    </tr>\n  </tbody>\n</table>\n</div>"
     },
     "metadata": {},
     "output_type": "display_data"
    }
   ],
   "source": [
    "#вывод результата запроса\n",
    "\n",
    "answer_6_2 = pd.read_sql_query(query_6_2, connection)\n",
    "display(answer_6_2)"
   ],
   "metadata": {
    "collapsed": false
   }
  },
  {
   "cell_type": "markdown",
   "id": "eedceb80-c5ca-480e-b27a-278dfb8b4438",
   "metadata": {
    "id": "eedceb80-c5ca-480e-b27a-278dfb8b4438"
   },
   "source": [
    "3. Сколько есть вакансий для DS, в которых в качестве ключевого навыка указан SQL или postgres?\n",
    "\n",
    "** Критерии для отнесения вакансии к DS указаны в предыдущем задании.*"
   ]
  },
  {
   "cell_type": "code",
   "execution_count": 564,
   "id": "69621713-0cc5-4f1b-a1d7-bb144fa6148c",
   "metadata": {
    "id": "69621713-0cc5-4f1b-a1d7-bb144fa6148c"
   },
   "outputs": [],
   "source": [
    "# текст запроса\n",
    "\n",
    "# делаем запрос на выборку вакансий в которых указан SQL или postgres\n",
    "condition_6_3 = f'''\n",
    "select *\n",
    "from vacancies\n",
    "where\n",
    "    key_skills ilike '%SQL%'\n",
    "    or key_skills ilike '%postgres%'\n",
    "'''\n",
    "# создаем запрос как пересечение результатов запроса на вакансии DS и те, в которых указаны SQL или postgres\n",
    "query_6_3 = f'''\n",
    "select count(*)\n",
    "from (\n",
    "    {query_6}\n",
    "intersect\n",
    "    {condition_6_3}\n",
    ") x\n",
    "'''"
   ]
  },
  {
   "cell_type": "code",
   "source": [
    "#вывод результата запроса\n",
    "answer_6_3 = pd.read_sql_query(query_6_3, connection)\n",
    "display(answer_6_3)"
   ],
   "metadata": {
    "id": "alA8WEAAvGdf"
   },
   "id": "alA8WEAAvGdf",
   "execution_count": 565,
   "outputs": [
    {
     "name": "stderr",
     "output_type": "stream",
     "text": [
      "/tmp/ipykernel_458/1670678677.py:2: UserWarning: pandas only supports SQLAlchemy connectable (engine/connection) or database string URI or sqlite3 DBAPI2 connection. Other DBAPI2 objects are not tested. Please consider using SQLAlchemy.\n",
      "  answer_6_3 = pd.read_sql_query(query_6_3, connection)\n"
     ]
    },
    {
     "data": {
      "text/plain": "   count\n0    201",
      "text/html": "<div>\n<style scoped>\n    .dataframe tbody tr th:only-of-type {\n        vertical-align: middle;\n    }\n\n    .dataframe tbody tr th {\n        vertical-align: top;\n    }\n\n    .dataframe thead th {\n        text-align: right;\n    }\n</style>\n<table border=\"1\" class=\"dataframe\">\n  <thead>\n    <tr style=\"text-align: right;\">\n      <th></th>\n      <th>count</th>\n    </tr>\n  </thead>\n  <tbody>\n    <tr>\n      <th>0</th>\n      <td>201</td>\n    </tr>\n  </tbody>\n</table>\n</div>"
     },
     "metadata": {},
     "output_type": "display_data"
    }
   ]
  },
  {
   "cell_type": "markdown",
   "id": "1be1e9c6-37cf-4a5f-bfeb-04cab799dc80",
   "metadata": {
    "id": "1be1e9c6-37cf-4a5f-bfeb-04cab799dc80"
   },
   "source": [
    "4. Проверьте, насколько популярен Python в требованиях работодателей к DS.Для этого вычислите количество вакансий, в которых в качестве ключевого навыка указан Python.\n",
    "\n",
    "** Это можно сделать помощью запроса, аналогичного предыдущему.*"
   ]
  },
  {
   "cell_type": "code",
   "execution_count": 566,
   "id": "0036a355-9ccf-4564-8b01-73d8194297e7",
   "metadata": {
    "id": "0036a355-9ccf-4564-8b01-73d8194297e7"
   },
   "outputs": [],
   "source": [
    "# текст запроса\n",
    "\n",
    "# делаем запрос на выборку вакансий в которых указан Python\n",
    "condition_6_4 = f'''\n",
    "select *\n",
    "from vacancies\n",
    "where\n",
    "    key_skills ilike '%python%'\n",
    "'''\n",
    "# создаем запрос как пересечение результатов запроса на вакансии DS и те, в которых указан Python\n",
    "query_6_4 = f'''\n",
    "select count(*)\n",
    "from (\n",
    "    {query_6}\n",
    "intersect\n",
    "    {condition_6_4}\n",
    ") x\n",
    "'''\n"
   ]
  },
  {
   "cell_type": "code",
   "source": [
    "#вывод результата запроса\n",
    "\n",
    "answer_6_4 = pd.read_sql_query(query_6_4, connection)\n",
    "display(answer_6_4)"
   ],
   "metadata": {
    "id": "1i-5WyucvQ6v"
   },
   "id": "1i-5WyucvQ6v",
   "execution_count": 567,
   "outputs": [
    {
     "name": "stderr",
     "output_type": "stream",
     "text": [
      "/tmp/ipykernel_458/229229148.py:3: UserWarning: pandas only supports SQLAlchemy connectable (engine/connection) or database string URI or sqlite3 DBAPI2 connection. Other DBAPI2 objects are not tested. Please consider using SQLAlchemy.\n",
      "  answer_6_4 = pd.read_sql_query(query_6_4, connection)\n"
     ]
    },
    {
     "data": {
      "text/plain": "   count\n0    351",
      "text/html": "<div>\n<style scoped>\n    .dataframe tbody tr th:only-of-type {\n        vertical-align: middle;\n    }\n\n    .dataframe tbody tr th {\n        vertical-align: top;\n    }\n\n    .dataframe thead th {\n        text-align: right;\n    }\n</style>\n<table border=\"1\" class=\"dataframe\">\n  <thead>\n    <tr style=\"text-align: right;\">\n      <th></th>\n      <th>count</th>\n    </tr>\n  </thead>\n  <tbody>\n    <tr>\n      <th>0</th>\n      <td>351</td>\n    </tr>\n  </tbody>\n</table>\n</div>"
     },
     "metadata": {},
     "output_type": "display_data"
    }
   ]
  },
  {
   "cell_type": "markdown",
   "id": "ec3c8db7-fa21-4a41-a994-1af63742a642",
   "metadata": {
    "id": "ec3c8db7-fa21-4a41-a994-1af63742a642"
   },
   "source": [
    "5. Сколько ключевых навыков в среднем указывают в вакансиях для DS?\n",
    "Ответ округлите до двух знаков после точки-разделителя."
   ]
  },
  {
   "cell_type": "code",
   "execution_count": 568,
   "id": "949132bc-d5b6-4611-8218-0b9a504d74f4",
   "metadata": {
    "id": "949132bc-d5b6-4611-8218-0b9a504d74f4"
   },
   "outputs": [],
   "source": [
    "# текст запроса\n",
    "'''\n",
    "Для выполнения этого задания исходим из предположения, что скиллы разделены друг от друга символом табуляции\n",
    "Подсчет количества скиллов осуществляется вычислением длины изначальной строки key_skills и строки с удаленными символами табуляции\n",
    "'''\n",
    "\n",
    "query_6_5 = f'''\n",
    "select\n",
    "    AVG(length (key_skills) - length (replace(key_skills, chr(9),''))+1)\n",
    "from ({query_6}) x\n",
    "'''"
   ]
  },
  {
   "cell_type": "code",
   "source": [
    "#вывод результата запроса\n",
    "\n",
    "answer_6_5 = pd.read_sql_query(query_6_5,connection)\n",
    "display(answer_6_5)"
   ],
   "metadata": {
    "id": "a3V24Tvmviqk"
   },
   "id": "a3V24Tvmviqk",
   "execution_count": 569,
   "outputs": [
    {
     "name": "stderr",
     "output_type": "stream",
     "text": [
      "/tmp/ipykernel_458/3806489783.py:3: UserWarning: pandas only supports SQLAlchemy connectable (engine/connection) or database string URI or sqlite3 DBAPI2 connection. Other DBAPI2 objects are not tested. Please consider using SQLAlchemy.\n",
      "  answer_6_5 = pd.read_sql_query(query_6_5,connection)\n"
     ]
    },
    {
     "data": {
      "text/plain": "        avg\n0  6.406032",
      "text/html": "<div>\n<style scoped>\n    .dataframe tbody tr th:only-of-type {\n        vertical-align: middle;\n    }\n\n    .dataframe tbody tr th {\n        vertical-align: top;\n    }\n\n    .dataframe thead th {\n        text-align: right;\n    }\n</style>\n<table border=\"1\" class=\"dataframe\">\n  <thead>\n    <tr style=\"text-align: right;\">\n      <th></th>\n      <th>avg</th>\n    </tr>\n  </thead>\n  <tbody>\n    <tr>\n      <th>0</th>\n      <td>6.406032</td>\n    </tr>\n  </tbody>\n</table>\n</div>"
     },
     "metadata": {},
     "output_type": "display_data"
    }
   ]
  },
  {
   "cell_type": "markdown",
   "id": "1041c17a-ca8f-4543-a0ca-32778914fb00",
   "metadata": {
    "id": "1041c17a-ca8f-4543-a0ca-32778914fb00"
   },
   "source": [
    "6. Напишите запрос, позволяющий вычислить, какую зарплату для DS в **среднем** указывают для каждого типа требуемого опыта (уникальное значение из поля *experience*). \n",
    "\n",
    "При решении задачи примите во внимание следующее:\n",
    "1. Рассматриваем только вакансии, у которых заполнено хотя бы одно из двух полей с зарплатой.\n",
    "2. Если заполнены оба поля с зарплатой, то считаем зарплату по каждой вакансии как сумму двух полей, делённую на 2. Если заполнено только одно из полей, то его и считаем зарплатой по вакансии.\n",
    "3. Если в расчётах участвует null, в результате он тоже даст null (посмотрите, что возвращает запрос select 1 + null). Чтобы избежать этой ситуацию, мы воспользуемся функцией [coalesce](https://postgrespro.ru/docs/postgresql/9.5/functions-conditional#functions-coalesce-nvl-ifnull), которая заменит null на значение, которое мы передадим. Например, посмотрите, что возвращает запрос `select 1 + coalesce(null, 0)`\n",
    "\n",
    "Выясните, на какую зарплату в среднем может рассчитывать дата-сайентист с опытом работы от 3 до 6 лет. Результат округлите до целого числа. "
   ]
  },
  {
   "cell_type": "code",
   "execution_count": 570,
   "id": "6a743d39-5204-48d3-8271-b9f88e68d40e",
   "metadata": {
    "id": "6a743d39-5204-48d3-8271-b9f88e68d40e"
   },
   "outputs": [],
   "source": [
    "# текст запроса\n",
    "\n",
    "query_6_6 = f'''\n",
    "select\n",
    "    experience,\n",
    "    avg(\n",
    "        case when -- задаем условие того какое значение брать в зависимости от комбинации наличия полей salary_from и salary_to\n",
    "            salary_from is not null\n",
    "            and salary_to is not null\n",
    "        then\n",
    "            (salary_from + salary_to) / 2\n",
    "        when\n",
    "            salary_from is null\n",
    "        then\n",
    "            salary_to\n",
    "        else -- т.е если salary_to is null\n",
    "            salary_from\n",
    "        end\n",
    ")\n",
    "from (\n",
    "    {query_6} -- из вакансий, имеющих отношение к DS\n",
    "\n",
    "intersect -- исключаем дополнительно вакансии у которых не указана заралатная вилка\n",
    "\n",
    "select *\n",
    "from vacancies\n",
    "where\n",
    "    salary_from is not null\n",
    "    or salary_to is not null) x\n",
    "\n",
    "group by experience -- группируем результаты по опыту работы\n",
    "'''"
   ]
  },
  {
   "cell_type": "code",
   "source": [
    "#вывод результата запроса\n",
    "\n",
    "answer_6_6 = pd.read_sql_query(query_6_6, connection)\n",
    "display(answer_6_6)"
   ],
   "metadata": {
    "id": "aRIJ0mZEwU1_"
   },
   "id": "aRIJ0mZEwU1_",
   "execution_count": 571,
   "outputs": [
    {
     "name": "stderr",
     "output_type": "stream",
     "text": [
      "/tmp/ipykernel_458/2528280730.py:3: UserWarning: pandas only supports SQLAlchemy connectable (engine/connection) or database string URI or sqlite3 DBAPI2 connection. Other DBAPI2 objects are not tested. Please consider using SQLAlchemy.\n",
      "  answer_6_6 = pd.read_sql_query(query_6_6, connection)\n"
     ]
    },
    {
     "data": {
      "text/plain": "           experience            avg\n0           Нет опыта   74642.857143\n1  От 1 года до 3 лет  139674.750000\n2       От 3 до 6 лет  243114.666667",
      "text/html": "<div>\n<style scoped>\n    .dataframe tbody tr th:only-of-type {\n        vertical-align: middle;\n    }\n\n    .dataframe tbody tr th {\n        vertical-align: top;\n    }\n\n    .dataframe thead th {\n        text-align: right;\n    }\n</style>\n<table border=\"1\" class=\"dataframe\">\n  <thead>\n    <tr style=\"text-align: right;\">\n      <th></th>\n      <th>experience</th>\n      <th>avg</th>\n    </tr>\n  </thead>\n  <tbody>\n    <tr>\n      <th>0</th>\n      <td>Нет опыта</td>\n      <td>74642.857143</td>\n    </tr>\n    <tr>\n      <th>1</th>\n      <td>От 1 года до 3 лет</td>\n      <td>139674.750000</td>\n    </tr>\n    <tr>\n      <th>2</th>\n      <td>От 3 до 6 лет</td>\n      <td>243114.666667</td>\n    </tr>\n  </tbody>\n</table>\n</div>"
     },
     "metadata": {},
     "output_type": "display_data"
    }
   ]
  },
  {
   "cell_type": "markdown",
   "id": "6a7892b4-4113-4746-adce-18aa2844f18e",
   "metadata": {
    "id": "6a7892b4-4113-4746-adce-18aa2844f18e"
   },
   "source": [
    "***"
   ]
  },
  {
   "cell_type": "markdown",
   "source": [
    "## Выводы\n",
    "- Вакансии DS составляют ~ 1% от общего числа, что говорит о нишевости работы или о ее низкой востребованности\n",
    "- Выборка вакансий, имеющих отношение к DS не оптимальна, т.к в результаты могут попасть такие технологии как QML, не относящиеся к DS\n",
    "- Зарлатная вилка у вакансий DS соотвествует средним значениям по нижней границе, значительно превосходит средние значения по верхней, посчитанным в части 2\n",
    "- Отсуствует зарплатная вилка у DS вакансий с опытом работы 6+, что может быть объясняться высокими зараплатными ожиданиями\n",
    "- SQL и Postgre требуются примерно в 41% DS вакансий\n",
    "- Python в 73%\n",
    "***"
   ],
   "metadata": {
    "collapsed": false
   }
  },
  {
   "cell_type": "markdown",
   "source": [
    "# Общий вывод по проекту\n",
    "- Изначальные данные, вероятнего всего нуждаются в дополнительной обработке\n",
    "- Москва продолжает оставаться центром развития с самым большим количеством работадателей и доступных вакансий, однако, в разрезе населения лидерство\n",
    "- Большинство работодателей находятся в МСК и СПБ, одноко, наимают больше людей из регионов\n",
    "- Общие тенденции характерны для DS вакансий в целом (см запросы 7.1, 7.2)\n",
    "- Примерно 25% от всех вакансий были предложены работодателями, занимающимися разработкой PO (см 7.3)\n",
    "- DS представлены в 97 различных областях (см 7.4)"
   ],
   "metadata": {
    "id": "c0ED6fh7wiBT"
   },
   "id": "c0ED6fh7wiBT"
  },
  {
   "cell_type": "code",
   "execution_count": 572,
   "outputs": [
    {
     "name": "stderr",
     "output_type": "stream",
     "text": [
      "/tmp/ipykernel_458/3516376034.py:14: UserWarning: pandas only supports SQLAlchemy connectable (engine/connection) or database string URI or sqlite3 DBAPI2 connection. Other DBAPI2 objects are not tested. Please consider using SQLAlchemy.\n",
      "  answer_7_1 = pd.read_sql_query(query_7_1, connection)\n"
     ]
    },
    {
     "data": {
      "text/plain": "        avg\n0  6.370339",
      "text/html": "<div>\n<style scoped>\n    .dataframe tbody tr th:only-of-type {\n        vertical-align: middle;\n    }\n\n    .dataframe tbody tr th {\n        vertical-align: top;\n    }\n\n    .dataframe thead th {\n        text-align: right;\n    }\n</style>\n<table border=\"1\" class=\"dataframe\">\n  <thead>\n    <tr style=\"text-align: right;\">\n      <th></th>\n      <th>avg</th>\n    </tr>\n  </thead>\n  <tbody>\n    <tr>\n      <th>0</th>\n      <td>6.370339</td>\n    </tr>\n  </tbody>\n</table>\n</div>"
     },
     "metadata": {},
     "output_type": "display_data"
    }
   ],
   "source": [
    "'''\n",
    "Смотрим на среднее количество скилов, указаных в вакансиях\n",
    "\n",
    "Для выполнения этого задания исходим из предположения, что скиллы разделены друг от друга символом табуляции\n",
    "Подсчет количества скиллов осуществляется вычислением длины изначальной строки key_skills и строки с удаленными символами табуляции\n",
    "'''\n",
    "\n",
    "query_7_1 = f'''\n",
    "select\n",
    "    AVG(length (key_skills) - length (replace(key_skills, chr(9),''))+1)\n",
    "from vacancies\n",
    "'''\n",
    "\n",
    "answer_7_1 = pd.read_sql_query(query_7_1, connection)\n",
    "display(answer_7_1)\n"
   ],
   "metadata": {
    "collapsed": false
   }
  },
  {
   "cell_type": "code",
   "execution_count": 573,
   "outputs": [
    {
     "name": "stderr",
     "output_type": "stream",
     "text": [
      "/tmp/ipykernel_458/3213259416.py:20: UserWarning: pandas only supports SQLAlchemy connectable (engine/connection) or database string URI or sqlite3 DBAPI2 connection. Other DBAPI2 objects are not tested. Please consider using SQLAlchemy.\n",
      "  answer_7_2 = pd.read_sql_query(query_7_2, connection)\n"
     ]
    },
    {
     "data": {
      "text/plain": "           experience  count\n0         Более 6 лет     34\n1           Нет опыта     28\n2  От 1 года до 3 лет    223\n3       От 3 до 6 лет    195",
      "text/html": "<div>\n<style scoped>\n    .dataframe tbody tr th:only-of-type {\n        vertical-align: middle;\n    }\n\n    .dataframe tbody tr th {\n        vertical-align: top;\n    }\n\n    .dataframe thead th {\n        text-align: right;\n    }\n</style>\n<table border=\"1\" class=\"dataframe\">\n  <thead>\n    <tr style=\"text-align: right;\">\n      <th></th>\n      <th>experience</th>\n      <th>count</th>\n    </tr>\n  </thead>\n  <tbody>\n    <tr>\n      <th>0</th>\n      <td>Более 6 лет</td>\n      <td>34</td>\n    </tr>\n    <tr>\n      <th>1</th>\n      <td>Нет опыта</td>\n      <td>28</td>\n    </tr>\n    <tr>\n      <th>2</th>\n      <td>От 1 года до 3 лет</td>\n      <td>223</td>\n    </tr>\n    <tr>\n      <th>3</th>\n      <td>От 3 до 6 лет</td>\n      <td>195</td>\n    </tr>\n  </tbody>\n</table>\n</div>"
     },
     "metadata": {},
     "output_type": "display_data"
    }
   ],
   "source": [
    "'''\n",
    "Смотрим на количество DS вакансий в разрезе опыта\n",
    "'''\n",
    "query_7_2 = f'''\n",
    "select\n",
    "    experience,\n",
    "    count (id)\n",
    "from vacancies\n",
    "where\n",
    "    (name ilike '%data scientist%'\n",
    "    or name ilike '%data science%'\n",
    "    or name ilike '%исследователь данных%'\n",
    "    or name like '%ML%'\n",
    "    or name ilike '%machine learning%'\n",
    "    or name ilike '%машинн%обучен%')\n",
    "    and name not like '%HTML%'\n",
    "group by experience\n",
    "'''\n",
    "\n",
    "answer_7_2 = pd.read_sql_query(query_7_2, connection)\n",
    "display(answer_7_2)"
   ],
   "metadata": {
    "collapsed": false
   }
  },
  {
   "cell_type": "code",
   "execution_count": 574,
   "outputs": [
    {
     "name": "stderr",
     "output_type": "stream",
     "text": [
      "/tmp/ipykernel_458/1914913161.py:33: UserWarning: pandas only supports SQLAlchemy connectable (engine/connection) or database string URI or sqlite3 DBAPI2 connection. Other DBAPI2 objects are not tested. Please consider using SQLAlchemy.\n",
      "  answer_7_3 = pd.read_sql_query(query_7_3, connection)\n"
     ]
    },
    {
     "data": {
      "text/plain": "                         name  count\n0                       total  12499\n1                    Тинькофф    444\n2                     DataArt    247\n3       Совкомбанк Технологии    204\n4                         IBS    175\n...                       ...    ...\n2588                ГК ГЕЛИОС      1\n2589                 Meanotek      1\n2590      Competent Solutions      1\n2591               Илар Групп      1\n2592  FIN.by / Акцент-Консалт      1\n\n[2593 rows x 2 columns]",
      "text/html": "<div>\n<style scoped>\n    .dataframe tbody tr th:only-of-type {\n        vertical-align: middle;\n    }\n\n    .dataframe tbody tr th {\n        vertical-align: top;\n    }\n\n    .dataframe thead th {\n        text-align: right;\n    }\n</style>\n<table border=\"1\" class=\"dataframe\">\n  <thead>\n    <tr style=\"text-align: right;\">\n      <th></th>\n      <th>name</th>\n      <th>count</th>\n    </tr>\n  </thead>\n  <tbody>\n    <tr>\n      <th>0</th>\n      <td>total</td>\n      <td>12499</td>\n    </tr>\n    <tr>\n      <th>1</th>\n      <td>Тинькофф</td>\n      <td>444</td>\n    </tr>\n    <tr>\n      <th>2</th>\n      <td>DataArt</td>\n      <td>247</td>\n    </tr>\n    <tr>\n      <th>3</th>\n      <td>Совкомбанк Технологии</td>\n      <td>204</td>\n    </tr>\n    <tr>\n      <th>4</th>\n      <td>IBS</td>\n      <td>175</td>\n    </tr>\n    <tr>\n      <th>...</th>\n      <td>...</td>\n      <td>...</td>\n    </tr>\n    <tr>\n      <th>2588</th>\n      <td>ГК ГЕЛИОС</td>\n      <td>1</td>\n    </tr>\n    <tr>\n      <th>2589</th>\n      <td>Meanotek</td>\n      <td>1</td>\n    </tr>\n    <tr>\n      <th>2590</th>\n      <td>Competent Solutions</td>\n      <td>1</td>\n    </tr>\n    <tr>\n      <th>2591</th>\n      <td>Илар Групп</td>\n      <td>1</td>\n    </tr>\n    <tr>\n      <th>2592</th>\n      <td>FIN.by / Акцент-Консалт</td>\n      <td>1</td>\n    </tr>\n  </tbody>\n</table>\n<p>2593 rows × 2 columns</p>\n</div>"
     },
     "metadata": {},
     "output_type": "display_data"
    }
   ],
   "source": [
    "'''\n",
    "Смотрим сколько вакансий опубликовали компании со сферой деятельности Разработка ПО\n",
    "'''\n",
    "\n",
    "query_7_3 = f'''\n",
    "select\n",
    "    e.name,\n",
    "    count(v.id)\n",
    "from\n",
    "    employers as e\n",
    "    join employers_industries as ei on ei.employer_id = e.id\n",
    "    join industries as i on ei.industry_id = i.id\n",
    "    join vacancies as v on v.employer_id = e.id\n",
    "where i.name = 'Разработка программного обеспечения'\n",
    "group by e.id\n",
    "\n",
    "union all\n",
    "\n",
    "select\n",
    "    'total',\n",
    "    count(v.id)\n",
    "from\n",
    "    employers as e\n",
    "    join employers_industries as ei on ei.employer_id = e.id\n",
    "    join industries as i on ei.industry_id = i.id\n",
    "    join vacancies as v on v.employer_id = e.id\n",
    "where\n",
    "    i.name = 'Разработка программного обеспечения'\n",
    "\n",
    "order by 2 desc\n",
    "'''\n",
    "\n",
    "answer_7_3 = pd.read_sql_query(query_7_3, connection)\n",
    "display(answer_7_3)"
   ],
   "metadata": {
    "collapsed": false
   }
  },
  {
   "cell_type": "code",
   "execution_count": 575,
   "outputs": [
    {
     "name": "stderr",
     "output_type": "stream",
     "text": [
      "/tmp/ipykernel_458/3174420425.py:22: UserWarning: pandas only supports SQLAlchemy connectable (engine/connection) or database string URI or sqlite3 DBAPI2 connection. Other DBAPI2 objects are not tested. Please consider using SQLAlchemy.\n",
      "  answer_7_4 = pd.read_sql_query(query_7_4, connection)\n"
     ]
    },
    {
     "data": {
      "text/plain": "   count\n0     97",
      "text/html": "<div>\n<style scoped>\n    .dataframe tbody tr th:only-of-type {\n        vertical-align: middle;\n    }\n\n    .dataframe tbody tr th {\n        vertical-align: top;\n    }\n\n    .dataframe thead th {\n        text-align: right;\n    }\n</style>\n<table border=\"1\" class=\"dataframe\">\n  <thead>\n    <tr style=\"text-align: right;\">\n      <th></th>\n      <th>count</th>\n    </tr>\n  </thead>\n  <tbody>\n    <tr>\n      <th>0</th>\n      <td>97</td>\n    </tr>\n  </tbody>\n</table>\n</div>"
     },
     "metadata": {},
     "output_type": "display_data"
    }
   ],
   "source": [
    "'''\n",
    "Смотрим в скольких различных сферах требуются DS специалисты\n",
    "'''\n",
    "\n",
    "query_7_4 = f'''\n",
    "select count(distinct i.id)\n",
    "from\n",
    "    vacancies v\n",
    "    join employers e on e.id = v.employer_id\n",
    "    join employers_industries ei on ei.employer_id = e.id\n",
    "    join industries i on i.id = ei.industry_id\n",
    "where\n",
    "    (v.name ilike '%data scientist%'\n",
    "    or v.name ilike '%data science%'\n",
    "    or v.name ilike '%исследователь данных%'\n",
    "    or v.name like '%ML%'\n",
    "    or v.name ilike '%machine learning%'\n",
    "    or v.name ilike '%машинн%обучен%')\n",
    "    and v.name not like '%HTML%'\n",
    "'''\n",
    "\n",
    "answer_7_4 = pd.read_sql_query(query_7_4, connection)\n",
    "display(answer_7_4)"
   ],
   "metadata": {
    "collapsed": false
   }
  },
  {
   "cell_type": "code",
   "execution_count": 576,
   "outputs": [],
   "source": [
    "connection.close() # закрываем connection"
   ],
   "metadata": {
    "collapsed": false
   }
  }
 ],
 "metadata": {
  "kernelspec": {
   "display_name": "Python 3 (ipykernel)",
   "language": "python",
   "name": "python3"
  },
  "language_info": {
   "codemirror_mode": {
    "name": "ipython",
    "version": 3
   },
   "file_extension": ".py",
   "mimetype": "text/x-python",
   "name": "python",
   "nbconvert_exporter": "python",
   "pygments_lexer": "ipython3",
   "version": "3.9.7"
  },
  "colab": {
   "provenance": [],
   "collapsed_sections": [
    "8d62a9f3-f64e-4fe7-bdac-c4dffa16155e"
   ]
  }
 },
 "nbformat": 4,
 "nbformat_minor": 5
}
