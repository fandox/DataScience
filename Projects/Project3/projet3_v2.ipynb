{
 "cells": [
  {
   "cell_type": "code",
   "execution_count": 1,
   "metadata": {
    "_cell_guid": "b1076dfc-b9ad-4769-8c92-a6c4dae69d19",
    "_uuid": "8f2839f25d086af736a60e9eeb907d3b93b6e0e5",
    "execution": {
     "iopub.execute_input": "2023-03-26T12:02:08.166073Z",
     "iopub.status.busy": "2023-03-26T12:02:08.165808Z",
     "iopub.status.idle": "2023-03-26T12:02:09.582469Z",
     "shell.execute_reply": "2023-03-26T12:02:09.581754Z",
     "shell.execute_reply.started": "2023-03-26T12:02:08.166002Z"
    },
    "ExecuteTime": {
     "start_time": "2023-04-07T11:49:13.996730Z",
     "end_time": "2023-04-07T11:49:14.682768Z"
    }
   },
   "outputs": [],
   "source": [
    "# This Python 3 environment comes with many helpful analytics libraries installed\n",
    "# It is defined by the kaggle/python Docker image: https://github.com/kaggle/docker-python\n",
    "# For example, here's several helpful packages to load\n",
    "\n",
    "import numpy as np # linear algebra\n",
    "import pandas as pd # data processing, CSV file I/O (e.g. pd.read_csv)\n",
    "\n",
    "# импортируем библиотеки для визуализации\n",
    "import matplotlib.pyplot as plt\n",
    "import seaborn as sns\n",
    "import plotly.express as px\n",
    "%matplotlib inline\n",
    "\n",
    "# Импортируем необходимые библиотеки для работы с моделью\n",
    "from sklearn.ensemble import RandomForestRegressor # инструмент для создания и обучения модели\n",
    "from sklearn import metrics # инструменты для оценки точности модли\n",
    "from sklearn.model_selection import train_test_split #инструмент для разделения датасета\n",
    "\n",
    "# Библиотека для работы с регулярными выражениями\n",
    "import re\n",
    "\n",
    "# инструменты для скраппинга\n",
    "import requests\n",
    "from bs4 import BeautifulSoup\n",
    "\n",
    "# Библиотека для работы с Natural Language processing\n",
    "import nltk\n",
    "from nltk.sentiment.vader import SentimentIntensityAnalyzer\n",
    "\n",
    "# Инструмент для кодирования признаков\n",
    "import category_encoders\n",
    "# Инструмент для нормализации\n",
    "from sklearn.preprocessing import MinMaxScaler\n",
    "\n",
    "# Инструмент для логирования эксперимента\n",
    "from comet_ml import Experiment\n",
    "\n",
    "# Libraries to work with geolocation\n",
    "from geopy.geocoders import Nominatim\n",
    "from geopy import Bing\n",
    "from geopy import distance\n",
    "\n",
    "\n",
    "\n",
    "# Input datafiles are available in the read-only \"../input/\" directory\n",
    "# For example, running this (by clicking run or pressing Shift+Enter) will list all files under the input directory\n",
    "\n",
    "import os\n",
    "for dirname, _, filenames in os.walk('/kaggle/input'):\n",
    "    for filename in filenames:\n",
    "        print(os.path.join(dirname, filename))\n",
    "\n",
    "# You can write up to 20GB to the current directory (/kaggle/working/) that gets preserved as output when you create a version using \"Save & Run All\" \n",
    "# You can also write temporary files to /kaggle/temp/, but they won't be saved outside of the current session"
   ]
  },
  {
   "cell_type": "code",
   "execution_count": 2,
   "metadata": {
    "execution": {
     "iopub.execute_input": "2023-03-26T12:02:09.584842Z",
     "iopub.status.busy": "2023-03-26T12:02:09.584577Z",
     "iopub.status.idle": "2023-03-26T12:02:09.590042Z",
     "shell.execute_reply": "2023-03-26T12:02:09.588850Z",
     "shell.execute_reply.started": "2023-03-26T12:02:09.584819Z"
    },
    "ExecuteTime": {
     "start_time": "2023-04-07T11:49:14.685245Z",
     "end_time": "2023-04-07T11:49:14.686316Z"
    }
   },
   "outputs": [],
   "source": [
    "# всегда фиксируйте RANDOM_SEED, чтобы ваши эксперименты были воспроизводимы!\n",
    "RANDOM_SEED = 42"
   ]
  },
  {
   "cell_type": "code",
   "execution_count": 3,
   "metadata": {
    "ExecuteTime": {
     "start_time": "2023-04-07T11:49:14.686541Z",
     "end_time": "2023-04-07T11:49:19.126543Z"
    }
   },
   "outputs": [
    {
     "name": "stderr",
     "output_type": "stream",
     "text": [
      "COMET WARNING: Comet has disabled auto-logging functionality as it has been imported after the following ML modules: sklearn. Metrics and hyperparameters can still be logged using Experiment.log_metrics() and Experiment.log_parameters()\n",
      "COMET WARNING: As you are running in a Jupyter environment, you will need to call `experiment.end()` when finished to ensure all metrics and code are logged before exiting.\n",
      "COMET ERROR: Error logging git-related information\n",
      "COMET INFO: Experiment is live on comet.com https://www.comet.com/fandox/ds-project3/94a0731128034016b0d3876b7edd2227\n",
      "\n"
     ]
    }
   ],
   "source": [
    "# создаю эксперимент на Comet, куда буду логировать метрики\n",
    "experiment = Experiment(\n",
    "    api_key=\"HzTbOk8tq4xQsSgFcJqstEQNA\",\n",
    "    project_name=\"ds-project3\",\n",
    "    workspace=\"fandox\",\n",
    ")"
   ]
  },
  {
   "cell_type": "code",
   "execution_count": 4,
   "metadata": {
    "execution": {
     "iopub.execute_input": "2023-03-26T12:02:09.591566Z",
     "iopub.status.busy": "2023-03-26T12:02:09.591361Z",
     "iopub.status.idle": "2023-03-26T12:02:14.364176Z",
     "shell.execute_reply": "2023-03-26T12:02:14.363294Z",
     "shell.execute_reply.started": "2023-03-26T12:02:09.591543Z"
    },
    "ExecuteTime": {
     "start_time": "2023-04-07T11:49:19.186551Z",
     "end_time": "2023-04-07T11:49:19.800867Z"
    }
   },
   "outputs": [],
   "source": [
    "# зафиксируем версию пакетов, чтобы эксперименты были воспроизводимы:\n",
    "!pip freeze > requirements.txt"
   ]
  },
  {
   "cell_type": "code",
   "execution_count": 5,
   "metadata": {
    "execution": {
     "iopub.execute_input": "2023-03-26T12:02:14.366505Z",
     "iopub.status.busy": "2023-03-26T12:02:14.366280Z",
     "iopub.status.idle": "2023-03-26T12:02:21.503886Z",
     "shell.execute_reply": "2023-03-26T12:02:21.502742Z",
     "shell.execute_reply.started": "2023-03-26T12:02:14.366477Z"
    },
    "ExecuteTime": {
     "start_time": "2023-04-07T11:49:19.803316Z",
     "end_time": "2023-04-07T11:49:21.720443Z"
    }
   },
   "outputs": [],
   "source": [
    "# Подгрузим наши данные из соревнования\n",
    "\n",
    "DATA_DIR = 'data'\n",
    "df_train = pd.read_csv(DATA_DIR+'//hotels_train.csv') # датасет для обучения\n",
    "df_test = pd.read_csv(DATA_DIR+'//hotels_test.csv') # датасет для предсказания\n",
    "sample_submission = pd.read_csv(DATA_DIR+'//submission.csv') # самбмишн"
   ]
  },
  {
   "cell_type": "code",
   "execution_count": 6,
   "metadata": {
    "execution": {
     "iopub.execute_input": "2023-03-26T12:02:21.686857Z",
     "iopub.status.busy": "2023-03-26T12:02:21.686657Z",
     "iopub.status.idle": "2023-03-26T12:02:21.710629Z",
     "shell.execute_reply": "2023-03-26T12:02:21.709577Z",
     "shell.execute_reply.started": "2023-03-26T12:02:21.686834Z"
    },
    "ExecuteTime": {
     "start_time": "2023-04-07T11:49:21.734319Z",
     "end_time": "2023-04-07T11:49:21.742820Z"
    }
   },
   "outputs": [
    {
     "data": {
      "text/plain": "                                       hotel_address  \\\n0  Stratton Street Mayfair Westminster Borough Lo...   \n1  130 134 Southampton Row Camden London WC1B 5AF...   \n\n   additional_number_of_scoring review_date  average_score  \\\n0                           581   2/19/2016            8.4   \n1                           299   1/12/2017            8.3   \n\n                        hotel_name reviewer_nationality  negative_review  \\\n0               The May Fair Hotel      United Kingdom          Leaving    \n1  Mercure London Bloomsbury Hotel      United Kingdom    poor breakfast   \n\n   review_total_negative_word_counts  total_number_of_reviews  \\\n0                                  3                     1994   \n1                                  3                     1361   \n\n       positive_review  review_total_positive_word_counts  \\\n0   Staff were amazing                                  4   \n1             location                                  2   \n\n   total_number_of_reviews_reviewer_has_given  reviewer_score  \\\n0                                           7            10.0   \n1                                          14             6.3   \n\n                                                tags days_since_review  \\\n0  [' Leisure trip ', ' Couple ', ' Studio Suite ...           531 day   \n1  [' Business trip ', ' Couple ', ' Standard Dou...           203 day   \n\n         lat       lng  \n0  51.507894 -0.143671  \n1  51.521009 -0.123097  ",
      "text/html": "<div>\n<style scoped>\n    .dataframe tbody tr th:only-of-type {\n        vertical-align: middle;\n    }\n\n    .dataframe tbody tr th {\n        vertical-align: top;\n    }\n\n    .dataframe thead th {\n        text-align: right;\n    }\n</style>\n<table border=\"1\" class=\"dataframe\">\n  <thead>\n    <tr style=\"text-align: right;\">\n      <th></th>\n      <th>hotel_address</th>\n      <th>additional_number_of_scoring</th>\n      <th>review_date</th>\n      <th>average_score</th>\n      <th>hotel_name</th>\n      <th>reviewer_nationality</th>\n      <th>negative_review</th>\n      <th>review_total_negative_word_counts</th>\n      <th>total_number_of_reviews</th>\n      <th>positive_review</th>\n      <th>review_total_positive_word_counts</th>\n      <th>total_number_of_reviews_reviewer_has_given</th>\n      <th>reviewer_score</th>\n      <th>tags</th>\n      <th>days_since_review</th>\n      <th>lat</th>\n      <th>lng</th>\n    </tr>\n  </thead>\n  <tbody>\n    <tr>\n      <th>0</th>\n      <td>Stratton Street Mayfair Westminster Borough Lo...</td>\n      <td>581</td>\n      <td>2/19/2016</td>\n      <td>8.4</td>\n      <td>The May Fair Hotel</td>\n      <td>United Kingdom</td>\n      <td>Leaving</td>\n      <td>3</td>\n      <td>1994</td>\n      <td>Staff were amazing</td>\n      <td>4</td>\n      <td>7</td>\n      <td>10.0</td>\n      <td>[' Leisure trip ', ' Couple ', ' Studio Suite ...</td>\n      <td>531 day</td>\n      <td>51.507894</td>\n      <td>-0.143671</td>\n    </tr>\n    <tr>\n      <th>1</th>\n      <td>130 134 Southampton Row Camden London WC1B 5AF...</td>\n      <td>299</td>\n      <td>1/12/2017</td>\n      <td>8.3</td>\n      <td>Mercure London Bloomsbury Hotel</td>\n      <td>United Kingdom</td>\n      <td>poor breakfast</td>\n      <td>3</td>\n      <td>1361</td>\n      <td>location</td>\n      <td>2</td>\n      <td>14</td>\n      <td>6.3</td>\n      <td>[' Business trip ', ' Couple ', ' Standard Dou...</td>\n      <td>203 day</td>\n      <td>51.521009</td>\n      <td>-0.123097</td>\n    </tr>\n  </tbody>\n</table>\n</div>"
     },
     "execution_count": 6,
     "metadata": {},
     "output_type": "execute_result"
    }
   ],
   "source": [
    "df_train.head(2)"
   ]
  },
  {
   "cell_type": "code",
   "execution_count": 7,
   "metadata": {
    "execution": {
     "iopub.execute_input": "2023-03-26T12:02:21.712100Z",
     "iopub.status.busy": "2023-03-26T12:02:21.711918Z",
     "iopub.status.idle": "2023-03-26T12:02:21.782161Z",
     "shell.execute_reply": "2023-03-26T12:02:21.781097Z",
     "shell.execute_reply.started": "2023-03-26T12:02:21.712078Z"
    },
    "ExecuteTime": {
     "start_time": "2023-04-07T11:49:21.844755Z",
     "end_time": "2023-04-07T11:49:21.914634Z"
    }
   },
   "outputs": [
    {
     "name": "stdout",
     "output_type": "stream",
     "text": [
      "<class 'pandas.core.frame.DataFrame'>\n",
      "RangeIndex: 128935 entries, 0 to 128934\n",
      "Data columns (total 16 columns):\n",
      " #   Column                                      Non-Null Count   Dtype  \n",
      "---  ------                                      --------------   -----  \n",
      " 0   hotel_address                               128935 non-null  object \n",
      " 1   additional_number_of_scoring                128935 non-null  int64  \n",
      " 2   review_date                                 128935 non-null  object \n",
      " 3   average_score                               128935 non-null  float64\n",
      " 4   hotel_name                                  128935 non-null  object \n",
      " 5   reviewer_nationality                        128935 non-null  object \n",
      " 6   negative_review                             128935 non-null  object \n",
      " 7   review_total_negative_word_counts           128935 non-null  int64  \n",
      " 8   total_number_of_reviews                     128935 non-null  int64  \n",
      " 9   positive_review                             128935 non-null  object \n",
      " 10  review_total_positive_word_counts           128935 non-null  int64  \n",
      " 11  total_number_of_reviews_reviewer_has_given  128935 non-null  int64  \n",
      " 12  tags                                        128935 non-null  object \n",
      " 13  days_since_review                           128935 non-null  object \n",
      " 14  lat                                         128115 non-null  float64\n",
      " 15  lng                                         128115 non-null  float64\n",
      "dtypes: float64(3), int64(5), object(8)\n",
      "memory usage: 15.7+ MB\n"
     ]
    }
   ],
   "source": [
    "df_test.info()"
   ]
  },
  {
   "cell_type": "code",
   "execution_count": 8,
   "metadata": {
    "execution": {
     "iopub.execute_input": "2023-03-26T12:02:21.783774Z",
     "iopub.status.busy": "2023-03-26T12:02:21.783431Z",
     "iopub.status.idle": "2023-03-26T12:02:21.799196Z",
     "shell.execute_reply": "2023-03-26T12:02:21.798569Z",
     "shell.execute_reply.started": "2023-03-26T12:02:21.783741Z"
    },
    "ExecuteTime": {
     "start_time": "2023-04-07T11:49:21.868979Z",
     "end_time": "2023-04-07T11:49:21.915527Z"
    }
   },
   "outputs": [
    {
     "data": {
      "text/plain": "                                       hotel_address  \\\n0                 Via Senigallia 6 20161 Milan Italy   \n1  Arlandaweg 10 Westpoort 1043 EW Amsterdam Neth...   \n\n   additional_number_of_scoring review_date  average_score         hotel_name  \\\n0                           904   7/21/2017            8.1     Hotel Da Vinci   \n1                           612  12/12/2016            8.6  Urban Lodge Hotel   \n\n  reviewer_nationality                                    negative_review  \\\n0      United Kingdom    Would have appreciated a shop in the hotel th...   \n1             Belgium         No tissue paper box was present at the room   \n\n   review_total_negative_word_counts  total_number_of_reviews  \\\n0                                 52                    16670   \n1                                 10                     5018   \n\n                                     positive_review  \\\n0   Hotel was great clean friendly staff free bre...   \n1                                        No Positive   \n\n   review_total_positive_word_counts  \\\n0                                 62   \n1                                  0   \n\n   total_number_of_reviews_reviewer_has_given  \\\n0                                           1   \n1                                           7   \n\n                                                tags days_since_review  \\\n0  [' Leisure trip ', ' Couple ', ' Double Room '...           13 days   \n1  [' Leisure trip ', ' Group ', ' Triple Room ',...           234 day   \n\n         lat       lng  \n0  45.533137  9.171102  \n1  52.385649  4.834443  ",
      "text/html": "<div>\n<style scoped>\n    .dataframe tbody tr th:only-of-type {\n        vertical-align: middle;\n    }\n\n    .dataframe tbody tr th {\n        vertical-align: top;\n    }\n\n    .dataframe thead th {\n        text-align: right;\n    }\n</style>\n<table border=\"1\" class=\"dataframe\">\n  <thead>\n    <tr style=\"text-align: right;\">\n      <th></th>\n      <th>hotel_address</th>\n      <th>additional_number_of_scoring</th>\n      <th>review_date</th>\n      <th>average_score</th>\n      <th>hotel_name</th>\n      <th>reviewer_nationality</th>\n      <th>negative_review</th>\n      <th>review_total_negative_word_counts</th>\n      <th>total_number_of_reviews</th>\n      <th>positive_review</th>\n      <th>review_total_positive_word_counts</th>\n      <th>total_number_of_reviews_reviewer_has_given</th>\n      <th>tags</th>\n      <th>days_since_review</th>\n      <th>lat</th>\n      <th>lng</th>\n    </tr>\n  </thead>\n  <tbody>\n    <tr>\n      <th>0</th>\n      <td>Via Senigallia 6 20161 Milan Italy</td>\n      <td>904</td>\n      <td>7/21/2017</td>\n      <td>8.1</td>\n      <td>Hotel Da Vinci</td>\n      <td>United Kingdom</td>\n      <td>Would have appreciated a shop in the hotel th...</td>\n      <td>52</td>\n      <td>16670</td>\n      <td>Hotel was great clean friendly staff free bre...</td>\n      <td>62</td>\n      <td>1</td>\n      <td>[' Leisure trip ', ' Couple ', ' Double Room '...</td>\n      <td>13 days</td>\n      <td>45.533137</td>\n      <td>9.171102</td>\n    </tr>\n    <tr>\n      <th>1</th>\n      <td>Arlandaweg 10 Westpoort 1043 EW Amsterdam Neth...</td>\n      <td>612</td>\n      <td>12/12/2016</td>\n      <td>8.6</td>\n      <td>Urban Lodge Hotel</td>\n      <td>Belgium</td>\n      <td>No tissue paper box was present at the room</td>\n      <td>10</td>\n      <td>5018</td>\n      <td>No Positive</td>\n      <td>0</td>\n      <td>7</td>\n      <td>[' Leisure trip ', ' Group ', ' Triple Room ',...</td>\n      <td>234 day</td>\n      <td>52.385649</td>\n      <td>4.834443</td>\n    </tr>\n  </tbody>\n</table>\n</div>"
     },
     "execution_count": 8,
     "metadata": {},
     "output_type": "execute_result"
    }
   ],
   "source": [
    "df_test.head(2)"
   ]
  },
  {
   "cell_type": "code",
   "execution_count": 9,
   "metadata": {
    "execution": {
     "iopub.execute_input": "2023-03-26T12:02:21.800262Z",
     "iopub.status.busy": "2023-03-26T12:02:21.800085Z",
     "iopub.status.idle": "2023-03-26T12:02:21.817238Z",
     "shell.execute_reply": "2023-03-26T12:02:21.816630Z",
     "shell.execute_reply.started": "2023-03-26T12:02:21.800233Z"
    },
    "ExecuteTime": {
     "start_time": "2023-04-07T11:49:21.878769Z",
     "end_time": "2023-04-07T11:49:21.994820Z"
    }
   },
   "outputs": [
    {
     "data": {
      "text/plain": "   reviewer_score      id\n0           9.716  488440\n1           9.739  274649",
      "text/html": "<div>\n<style scoped>\n    .dataframe tbody tr th:only-of-type {\n        vertical-align: middle;\n    }\n\n    .dataframe tbody tr th {\n        vertical-align: top;\n    }\n\n    .dataframe thead th {\n        text-align: right;\n    }\n</style>\n<table border=\"1\" class=\"dataframe\">\n  <thead>\n    <tr style=\"text-align: right;\">\n      <th></th>\n      <th>reviewer_score</th>\n      <th>id</th>\n    </tr>\n  </thead>\n  <tbody>\n    <tr>\n      <th>0</th>\n      <td>9.716</td>\n      <td>488440</td>\n    </tr>\n    <tr>\n      <th>1</th>\n      <td>9.739</td>\n      <td>274649</td>\n    </tr>\n  </tbody>\n</table>\n</div>"
     },
     "execution_count": 9,
     "metadata": {},
     "output_type": "execute_result"
    }
   ],
   "source": [
    "sample_submission.head(2)"
   ]
  },
  {
   "cell_type": "code",
   "execution_count": 10,
   "metadata": {
    "execution": {
     "iopub.execute_input": "2023-03-26T12:02:21.821828Z",
     "iopub.status.busy": "2023-03-26T12:02:21.821426Z",
     "iopub.status.idle": "2023-03-26T12:02:21.837938Z",
     "shell.execute_reply": "2023-03-26T12:02:21.836539Z",
     "shell.execute_reply.started": "2023-03-26T12:02:21.821805Z"
    },
    "ExecuteTime": {
     "start_time": "2023-04-07T11:49:21.919250Z",
     "end_time": "2023-04-07T11:49:21.995536Z"
    }
   },
   "outputs": [
    {
     "name": "stdout",
     "output_type": "stream",
     "text": [
      "<class 'pandas.core.frame.DataFrame'>\n",
      "RangeIndex: 128935 entries, 0 to 128934\n",
      "Data columns (total 2 columns):\n",
      " #   Column          Non-Null Count   Dtype  \n",
      "---  ------          --------------   -----  \n",
      " 0   reviewer_score  128935 non-null  float64\n",
      " 1   id              128935 non-null  int64  \n",
      "dtypes: float64(1), int64(1)\n",
      "memory usage: 2.0 MB\n"
     ]
    }
   ],
   "source": [
    "sample_submission.info()"
   ]
  },
  {
   "cell_type": "code",
   "execution_count": 11,
   "metadata": {
    "execution": {
     "iopub.execute_input": "2023-03-26T12:02:21.839470Z",
     "iopub.status.busy": "2023-03-26T12:02:21.839015Z",
     "iopub.status.idle": "2023-03-26T12:02:22.243962Z",
     "shell.execute_reply": "2023-03-26T12:02:22.242799Z",
     "shell.execute_reply.started": "2023-03-26T12:02:21.839445Z"
    },
    "ExecuteTime": {
     "start_time": "2023-04-07T11:49:21.919493Z",
     "end_time": "2023-04-07T11:49:22.262262Z"
    }
   },
   "outputs": [
    {
     "name": "stderr",
     "output_type": "stream",
     "text": [
      "/tmp/ipykernel_288528/2990247136.py:6: FutureWarning: The frame.append method is deprecated and will be removed from pandas in a future version. Use pandas.concat instead.\n",
      "  df = df_test.append(df_train, sort=False).reset_index(drop=True) # объединяем\n"
     ]
    }
   ],
   "source": [
    "# ВАЖНО! дря корректной обработки признаков объединяем трейн и тест в один датасет\n",
    "df_train['sample'] = 1 # помечаем где у нас трейн\n",
    "df_test['sample'] = 0 # помечаем где у нас тест\n",
    "df_test['reviewer_score'] = 0 # в тесте у нас нет значения reviewer_score, мы его должны предсказать, по этому пока просто заполняем нулями\n",
    "\n",
    "df = df_test.append(df_train, sort=False).reset_index(drop=True) # объединяем"
   ]
  },
  {
   "cell_type": "markdown",
   "metadata": {},
   "source": [
    "# Описание параметров\n",
    "- hotel_address — адрес отеля;\n",
    "- review_date — дата, когда рецензент разместил соответствующий отзыв;\n",
    "- average_score — средний балл отеля, рассчитанный на основе последнего комментария за последний год;\n",
    "- hotel_name — название отеля;\n",
    "- reviewer_nationality — страна рецензента;\n",
    "- negative_review — отрицательный отзыв, который рецензент дал отелю;\n",
    "- review_total_negative_word_counts — общее количество слов в отрицательном отзыв;\n",
    "- positive_review — положительный отзыв, который рецензент дал отелю;\n",
    "- review_total_positive_word_counts — общее количество слов в положительном отзыве.\n",
    "- reviewer_score — оценка, которую рецензент поставил отелю на основе своего опыта;\n",
    "- total_number_of_reviews_reviewer_has_given — количество отзывов, которые рецензенты дали в прошлом;\n",
    "- total_number_of_reviews — общее количество действительных отзывов об отеле;\n",
    "- tags — теги, которые рецензент дал отелю;\n",
    "- days_since_review — количество дней между датой проверки и датой очистки;\n",
    "- additional_number_of_scoring — есть также некоторые гости, которые просто поставили оценку сервису, но не оставили отзыв. Это число указывает, сколько там действительных оценок без проверки.\n",
    "- lat — географическая широта отеля;\n",
    "- lng — географическая долгота отеля."
   ]
  },
  {
   "cell_type": "code",
   "execution_count": 12,
   "metadata": {
    "ExecuteTime": {
     "start_time": "2023-04-07T11:49:22.146854Z",
     "end_time": "2023-04-07T11:49:22.265453Z"
    }
   },
   "outputs": [
    {
     "data": {
      "text/plain": "                                       hotel_address  \\\n0                 Via Senigallia 6 20161 Milan Italy   \n1  Arlandaweg 10 Westpoort 1043 EW Amsterdam Neth...   \n2        Mallorca 251 Eixample 08008 Barcelona Spain   \n3  Piazza Della Repubblica 17 Central Station 201...   \n4  Singel 303 309 Amsterdam City Center 1012 WJ A...   \n5  Coram Street Camden London WC1N 1HT United Kin...   \n6  Empire Way Wembley Brent London HA9 8DS United...   \n7  1 Shortlands Hammersmith and Fulham London W6 ...   \n8        35 Rue Caumartin 9th arr 75009 Paris France   \n9  49 Gloucester Place Marble Arch Westminster Bo...   \n\n   additional_number_of_scoring review_date  average_score  \\\n0                           904   7/21/2017            8.1   \n1                           612  12/12/2016            8.6   \n2                            46  11/26/2015            8.3   \n3                           241  10/17/2015            9.1   \n4                           834   5/16/2016            9.1   \n5                           709   8/13/2015            8.2   \n6                          1005   8/18/2016            8.3   \n7                           704   8/11/2015            8.3   \n8                           211   6/25/2016            8.9   \n9                            61   9/30/2015            7.4   \n\n                                   hotel_name        reviewer_nationality  \\\n0                              Hotel Da Vinci             United Kingdom    \n1                           Urban Lodge Hotel                    Belgium    \n2  Alexandra Barcelona A DoubleTree by Hilton                     Sweden    \n3                    Hotel Principe Di Savoia   United States of America    \n4                              Hotel Esther a             United Kingdom    \n5               Holiday Inn London Bloomsbury                    Ecuador    \n6                  Holiday Inn London Wembley             United Kingdom    \n7                         Novotel London West                Netherlands    \n8               Hotel Saint Petersbourg Opera                    Ireland    \n9                             St George Hotel                     Canada    \n\n                                     negative_review  \\\n0   Would have appreciated a shop in the hotel th...   \n1        No tissue paper box was present at the room   \n2                                           Pillows    \n3                                        No Negative   \n4                                        No Negative   \n5                          They don t have free wifi   \n6   Room generally a bit shabby with some lack of...   \n7   Executive rooms 9th Floor don t have a bath T...   \n8                    Pity about the two days of rain   \n9   Didn t like it at all construction was in pro...   \n\n   review_total_negative_word_counts  total_number_of_reviews  \\\n0                                 52                    16670   \n1                                 10                     5018   \n2                                  3                      351   \n3                                  0                     1543   \n4                                  0                     4687   \n5                                  7                     2995   \n6                                 35                     3469   \n7                                 52                     2443   \n8                                  8                     2412   \n9                                 18                      334   \n\n                                     positive_review  \\\n0   Hotel was great clean friendly staff free bre...   \n1                                        No Positive   \n2                         Nice welcoming and service   \n3   Everything including the nice upgrade The Hot...   \n4                    Lovely hotel v welcoming staff    \n5   The location is perfect if you don t have a l...   \n6   Location price It did not cost much more to h...   \n7   Comphy bed upgraded to executive room with ne...   \n8        Its centrality proximity to our destination   \n9   Didn t like anything about the stay if i had ...   \n\n   review_total_positive_word_counts  \\\n0                                 62   \n1                                  0   \n2                                  5   \n3                                 27   \n4                                  7   \n5                                 26   \n6                                 23   \n7                                 42   \n8                                  7   \n9                                 25   \n\n   total_number_of_reviews_reviewer_has_given  \\\n0                                           1   \n1                                           7   \n2                                          15   \n3                                           9   \n4                                           2   \n5                                           3   \n6                                          11   \n7                                          38   \n8                                           1   \n9                                           1   \n\n                                                tags days_since_review  \\\n0  [' Leisure trip ', ' Couple ', ' Double Room '...           13 days   \n1  [' Leisure trip ', ' Group ', ' Triple Room ',...           234 day   \n2  [' Business trip ', ' Solo traveler ', ' Twin ...           616 day   \n3  [' Leisure trip ', ' Couple ', ' Ambassador Ju...           656 day   \n4  [' Business trip ', ' Solo traveler ', ' Class...           444 day   \n5  [' Business trip ', ' Solo traveler ', ' Stand...           721 day   \n6  [' Leisure trip ', ' Couple ', ' Queen Room ',...           350 day   \n7  [' Business trip ', ' Solo traveler ', ' Execu...           723 day   \n8  [' Group ', ' Double or Twin Room ', ' Stayed ...           404 day   \n9  [' Couple ', ' Standard Triple Room ', ' Staye...           673 day   \n\n         lat       lng  sample  reviewer_score  \n0  45.533137  9.171102       0             0.0  \n1  52.385649  4.834443       0             0.0  \n2  41.393192  2.161520       0             0.0  \n3  45.479888  9.196298       0             0.0  \n4  52.370545  4.888644       0             0.0  \n5  51.524125 -0.125807       0             0.0  \n6  51.559095 -0.284704       0             0.0  \n7  51.491959 -0.220096       0             0.0  \n8  48.872174  2.328075       0             0.0  \n9  51.518277 -0.158351       0             0.0  ",
      "text/html": "<div>\n<style scoped>\n    .dataframe tbody tr th:only-of-type {\n        vertical-align: middle;\n    }\n\n    .dataframe tbody tr th {\n        vertical-align: top;\n    }\n\n    .dataframe thead th {\n        text-align: right;\n    }\n</style>\n<table border=\"1\" class=\"dataframe\">\n  <thead>\n    <tr style=\"text-align: right;\">\n      <th></th>\n      <th>hotel_address</th>\n      <th>additional_number_of_scoring</th>\n      <th>review_date</th>\n      <th>average_score</th>\n      <th>hotel_name</th>\n      <th>reviewer_nationality</th>\n      <th>negative_review</th>\n      <th>review_total_negative_word_counts</th>\n      <th>total_number_of_reviews</th>\n      <th>positive_review</th>\n      <th>review_total_positive_word_counts</th>\n      <th>total_number_of_reviews_reviewer_has_given</th>\n      <th>tags</th>\n      <th>days_since_review</th>\n      <th>lat</th>\n      <th>lng</th>\n      <th>sample</th>\n      <th>reviewer_score</th>\n    </tr>\n  </thead>\n  <tbody>\n    <tr>\n      <th>0</th>\n      <td>Via Senigallia 6 20161 Milan Italy</td>\n      <td>904</td>\n      <td>7/21/2017</td>\n      <td>8.1</td>\n      <td>Hotel Da Vinci</td>\n      <td>United Kingdom</td>\n      <td>Would have appreciated a shop in the hotel th...</td>\n      <td>52</td>\n      <td>16670</td>\n      <td>Hotel was great clean friendly staff free bre...</td>\n      <td>62</td>\n      <td>1</td>\n      <td>[' Leisure trip ', ' Couple ', ' Double Room '...</td>\n      <td>13 days</td>\n      <td>45.533137</td>\n      <td>9.171102</td>\n      <td>0</td>\n      <td>0.0</td>\n    </tr>\n    <tr>\n      <th>1</th>\n      <td>Arlandaweg 10 Westpoort 1043 EW Amsterdam Neth...</td>\n      <td>612</td>\n      <td>12/12/2016</td>\n      <td>8.6</td>\n      <td>Urban Lodge Hotel</td>\n      <td>Belgium</td>\n      <td>No tissue paper box was present at the room</td>\n      <td>10</td>\n      <td>5018</td>\n      <td>No Positive</td>\n      <td>0</td>\n      <td>7</td>\n      <td>[' Leisure trip ', ' Group ', ' Triple Room ',...</td>\n      <td>234 day</td>\n      <td>52.385649</td>\n      <td>4.834443</td>\n      <td>0</td>\n      <td>0.0</td>\n    </tr>\n    <tr>\n      <th>2</th>\n      <td>Mallorca 251 Eixample 08008 Barcelona Spain</td>\n      <td>46</td>\n      <td>11/26/2015</td>\n      <td>8.3</td>\n      <td>Alexandra Barcelona A DoubleTree by Hilton</td>\n      <td>Sweden</td>\n      <td>Pillows</td>\n      <td>3</td>\n      <td>351</td>\n      <td>Nice welcoming and service</td>\n      <td>5</td>\n      <td>15</td>\n      <td>[' Business trip ', ' Solo traveler ', ' Twin ...</td>\n      <td>616 day</td>\n      <td>41.393192</td>\n      <td>2.161520</td>\n      <td>0</td>\n      <td>0.0</td>\n    </tr>\n    <tr>\n      <th>3</th>\n      <td>Piazza Della Repubblica 17 Central Station 201...</td>\n      <td>241</td>\n      <td>10/17/2015</td>\n      <td>9.1</td>\n      <td>Hotel Principe Di Savoia</td>\n      <td>United States of America</td>\n      <td>No Negative</td>\n      <td>0</td>\n      <td>1543</td>\n      <td>Everything including the nice upgrade The Hot...</td>\n      <td>27</td>\n      <td>9</td>\n      <td>[' Leisure trip ', ' Couple ', ' Ambassador Ju...</td>\n      <td>656 day</td>\n      <td>45.479888</td>\n      <td>9.196298</td>\n      <td>0</td>\n      <td>0.0</td>\n    </tr>\n    <tr>\n      <th>4</th>\n      <td>Singel 303 309 Amsterdam City Center 1012 WJ A...</td>\n      <td>834</td>\n      <td>5/16/2016</td>\n      <td>9.1</td>\n      <td>Hotel Esther a</td>\n      <td>United Kingdom</td>\n      <td>No Negative</td>\n      <td>0</td>\n      <td>4687</td>\n      <td>Lovely hotel v welcoming staff</td>\n      <td>7</td>\n      <td>2</td>\n      <td>[' Business trip ', ' Solo traveler ', ' Class...</td>\n      <td>444 day</td>\n      <td>52.370545</td>\n      <td>4.888644</td>\n      <td>0</td>\n      <td>0.0</td>\n    </tr>\n    <tr>\n      <th>5</th>\n      <td>Coram Street Camden London WC1N 1HT United Kin...</td>\n      <td>709</td>\n      <td>8/13/2015</td>\n      <td>8.2</td>\n      <td>Holiday Inn London Bloomsbury</td>\n      <td>Ecuador</td>\n      <td>They don t have free wifi</td>\n      <td>7</td>\n      <td>2995</td>\n      <td>The location is perfect if you don t have a l...</td>\n      <td>26</td>\n      <td>3</td>\n      <td>[' Business trip ', ' Solo traveler ', ' Stand...</td>\n      <td>721 day</td>\n      <td>51.524125</td>\n      <td>-0.125807</td>\n      <td>0</td>\n      <td>0.0</td>\n    </tr>\n    <tr>\n      <th>6</th>\n      <td>Empire Way Wembley Brent London HA9 8DS United...</td>\n      <td>1005</td>\n      <td>8/18/2016</td>\n      <td>8.3</td>\n      <td>Holiday Inn London Wembley</td>\n      <td>United Kingdom</td>\n      <td>Room generally a bit shabby with some lack of...</td>\n      <td>35</td>\n      <td>3469</td>\n      <td>Location price It did not cost much more to h...</td>\n      <td>23</td>\n      <td>11</td>\n      <td>[' Leisure trip ', ' Couple ', ' Queen Room ',...</td>\n      <td>350 day</td>\n      <td>51.559095</td>\n      <td>-0.284704</td>\n      <td>0</td>\n      <td>0.0</td>\n    </tr>\n    <tr>\n      <th>7</th>\n      <td>1 Shortlands Hammersmith and Fulham London W6 ...</td>\n      <td>704</td>\n      <td>8/11/2015</td>\n      <td>8.3</td>\n      <td>Novotel London West</td>\n      <td>Netherlands</td>\n      <td>Executive rooms 9th Floor don t have a bath T...</td>\n      <td>52</td>\n      <td>2443</td>\n      <td>Comphy bed upgraded to executive room with ne...</td>\n      <td>42</td>\n      <td>38</td>\n      <td>[' Business trip ', ' Solo traveler ', ' Execu...</td>\n      <td>723 day</td>\n      <td>51.491959</td>\n      <td>-0.220096</td>\n      <td>0</td>\n      <td>0.0</td>\n    </tr>\n    <tr>\n      <th>8</th>\n      <td>35 Rue Caumartin 9th arr 75009 Paris France</td>\n      <td>211</td>\n      <td>6/25/2016</td>\n      <td>8.9</td>\n      <td>Hotel Saint Petersbourg Opera</td>\n      <td>Ireland</td>\n      <td>Pity about the two days of rain</td>\n      <td>8</td>\n      <td>2412</td>\n      <td>Its centrality proximity to our destination</td>\n      <td>7</td>\n      <td>1</td>\n      <td>[' Group ', ' Double or Twin Room ', ' Stayed ...</td>\n      <td>404 day</td>\n      <td>48.872174</td>\n      <td>2.328075</td>\n      <td>0</td>\n      <td>0.0</td>\n    </tr>\n    <tr>\n      <th>9</th>\n      <td>49 Gloucester Place Marble Arch Westminster Bo...</td>\n      <td>61</td>\n      <td>9/30/2015</td>\n      <td>7.4</td>\n      <td>St George Hotel</td>\n      <td>Canada</td>\n      <td>Didn t like it at all construction was in pro...</td>\n      <td>18</td>\n      <td>334</td>\n      <td>Didn t like anything about the stay if i had ...</td>\n      <td>25</td>\n      <td>1</td>\n      <td>[' Couple ', ' Standard Triple Room ', ' Staye...</td>\n      <td>673 day</td>\n      <td>51.518277</td>\n      <td>-0.158351</td>\n      <td>0</td>\n      <td>0.0</td>\n    </tr>\n  </tbody>\n</table>\n</div>"
     },
     "execution_count": 12,
     "metadata": {},
     "output_type": "execute_result"
    }
   ],
   "source": [
    "df.head(10)"
   ]
  },
  {
   "cell_type": "code",
   "execution_count": 13,
   "metadata": {
    "ExecuteTime": {
     "start_time": "2023-04-07T11:49:22.191209Z",
     "end_time": "2023-04-07T11:49:22.590378Z"
    }
   },
   "outputs": [
    {
     "name": "stdout",
     "output_type": "stream",
     "text": [
      "<class 'pandas.core.frame.DataFrame'>\n",
      "RangeIndex: 515738 entries, 0 to 515737\n",
      "Data columns (total 18 columns):\n",
      " #   Column                                      Non-Null Count   Dtype  \n",
      "---  ------                                      --------------   -----  \n",
      " 0   hotel_address                               515738 non-null  object \n",
      " 1   additional_number_of_scoring                515738 non-null  int64  \n",
      " 2   review_date                                 515738 non-null  object \n",
      " 3   average_score                               515738 non-null  float64\n",
      " 4   hotel_name                                  515738 non-null  object \n",
      " 5   reviewer_nationality                        515738 non-null  object \n",
      " 6   negative_review                             515738 non-null  object \n",
      " 7   review_total_negative_word_counts           515738 non-null  int64  \n",
      " 8   total_number_of_reviews                     515738 non-null  int64  \n",
      " 9   positive_review                             515738 non-null  object \n",
      " 10  review_total_positive_word_counts           515738 non-null  int64  \n",
      " 11  total_number_of_reviews_reviewer_has_given  515738 non-null  int64  \n",
      " 12  tags                                        515738 non-null  object \n",
      " 13  days_since_review                           515738 non-null  object \n",
      " 14  lat                                         512470 non-null  float64\n",
      " 15  lng                                         512470 non-null  float64\n",
      " 16  sample                                      515738 non-null  int64  \n",
      " 17  reviewer_score                              515738 non-null  float64\n",
      "dtypes: float64(4), int64(6), object(8)\n",
      "memory usage: 70.8+ MB\n"
     ]
    }
   ],
   "source": [
    "df.info()"
   ]
  },
  {
   "cell_type": "markdown",
   "metadata": {},
   "source": [
    "# Работа с пропусками"
   ]
  },
  {
   "cell_type": "code",
   "execution_count": 14,
   "metadata": {
    "ExecuteTime": {
     "start_time": "2023-04-07T11:49:22.590543Z",
     "end_time": "2023-04-07T11:49:23.075727Z"
    }
   },
   "outputs": [
    {
     "data": {
      "text/plain": "hotel_address                                 0.000000\nadditional_number_of_scoring                  0.000000\nreview_date                                   0.000000\naverage_score                                 0.000000\nhotel_name                                    0.000000\nreviewer_nationality                          0.000000\nnegative_review                               0.000000\nreview_total_negative_word_counts             0.000000\ntotal_number_of_reviews                       0.000000\npositive_review                               0.000000\nreview_total_positive_word_counts             0.000000\ntotal_number_of_reviews_reviewer_has_given    0.000000\ntags                                          0.000000\ndays_since_review                             0.000000\nlat                                           0.006337\nlng                                           0.006337\nsample                                        0.000000\nreviewer_score                                0.000000\ndtype: float64"
     },
     "execution_count": 14,
     "metadata": {},
     "output_type": "execute_result"
    }
   ],
   "source": [
    "# проверяю наличие пропусков\n",
    "df.isnull().mean()"
   ]
  },
  {
   "cell_type": "code",
   "execution_count": 15,
   "outputs": [
    {
     "data": {
      "text/plain": "Text(0.5, 1.0, 'Тепловая карта пропусков')"
     },
     "execution_count": 15,
     "metadata": {},
     "output_type": "execute_result"
    },
    {
     "data": {
      "text/plain": "<Figure size 1000x800 with 2 Axes>",
      "image/png": "[encoded data removed]"
     },
     "metadata": {},
     "output_type": "display_data"
    }
   ],
   "source": [
    "# настраниваю размеры графика\n",
    "fig, ax = plt.subplots(figsize=(10, 8))\n",
    "sns.heatmap(\n",
    "    df[['lat','lng']].isnull(),\n",
    "    ax = ax\n",
    ").set_title('Тепловая карта пропусков')"
   ],
   "metadata": {
    "collapsed": false,
    "ExecuteTime": {
     "start_time": "2023-04-07T11:49:23.096808Z",
     "end_time": "2023-04-07T11:49:25.353399Z"
    }
   }
  },
  {
   "cell_type": "markdown",
   "metadata": {},
   "source": [
    "### Выводы\n",
    "- Пропуски содержатся в 2 признаках\n",
    "- Их одинаковое количество\n",
    "- Визуально они находятся в 1 и тех же записях\n",
    "- Есть 2 предположения:\n",
    "  - Пропуски зарегистрированы у отелей с известными координатами (данные для заполнения можно будет взять из других записей)\n",
    "  - Пропуски зафиксировны у уникальных отелей\n",
    "\n",
    "Ниже провожу несколько опытов, чтобы в этом убедиться\n"
   ]
  },
  {
   "cell_type": "code",
   "execution_count": 16,
   "metadata": {
    "ExecuteTime": {
     "start_time": "2023-04-07T11:49:25.353928Z",
     "end_time": "2023-04-07T11:49:25.366817Z"
    }
   },
   "outputs": [
    {
     "name": "stdout",
     "output_type": "stream",
     "text": [
      "correct\n"
     ]
    }
   ],
   "source": [
    "# формирую списки индексов записей с пропусками широты и долготы\n",
    "# убеждаюсь, что гипотеза верна, пропуски в 1 и тех же записях\n",
    "\n",
    "lat_nans = df[df.lat.isnull()].index\n",
    "lng_nans = df[df.lat.isnull()].index\n",
    "if (lat_nans == lng_nans).all():\n",
    "    print('correct')"
   ]
  },
  {
   "cell_type": "code",
   "execution_count": 17,
   "metadata": {
    "ExecuteTime": {
     "start_time": "2023-04-07T11:49:25.369972Z",
     "end_time": "2023-04-07T11:49:25.504532Z"
    }
   },
   "outputs": [
    {
     "name": "stdout",
     "output_type": "stream",
     "text": [
      "correct, len(hotels_without_loc == 17\n"
     ]
    }
   ],
   "source": [
    "# Проверяю 2ое предположение\n",
    "# создаю 2 множества с навзваниями отелей в которых есть пропуски и нет пропусков, и проверяю их пересечение\n",
    "\n",
    "data_set1 = df[(df.lat.isnull()) | (df.lng.isnull())].hotel_address.unique()\n",
    "data_set2 = df[(df.lat.notnull()) | (df.lng.notnull())].hotel_address.unique()\n",
    "\n",
    "hotels_with_loc = set()\n",
    "hotels_with_loc.update(data_set2)\n",
    "\n",
    "hotels_without_loc = set()\n",
    "hotels_without_loc.update(data_set1)\n",
    "\n",
    "if len(hotels_with_loc.intersection(hotels_without_loc)) == 0:\n",
    "    print(f'correct, len(hotels_without_loc == {len(hotels_without_loc)}')\n"
   ]
  },
  {
   "cell_type": "markdown",
   "metadata": {},
   "source": [
    "Сет, пустой, пересечений нет, значит в систетеме есть всего 17 отелей без координат"
   ]
  },
  {
   "cell_type": "markdown",
   "metadata": {},
   "source": [
    "## Заполнение пропусков"
   ]
  },
  {
   "cell_type": "code",
   "execution_count": 18,
   "metadata": {
    "ExecuteTime": {
     "start_time": "2023-04-07T11:49:25.509881Z",
     "end_time": "2023-04-07T11:49:29.781754Z"
    }
   },
   "outputs": [],
   "source": [
    "# Для заполнения пользуюсь библиотекой geoPy, идея заполнить координаты по адресу\n",
    "\n",
    "geolocator = Bing(api_key='AuCIQtaLUz6vtlu2pj0frsl4gVOSm0z5VCJLGX_2RBw3HTTtEIybWzkZ-BPcL2n8') # Создаю объект для работы с адресами\n",
    "\n",
    "# Создаю словарь с координатами хотелей с некорректными именами\n",
    "location_dict = {}\n",
    "for i in hotels_without_loc:\n",
    "    try:\n",
    "        location = geolocator.geocode(i)\n",
    "        location_dict[i] = (location.address,location.latitude,location.longitude)  # корректирую адрес для включения символов utf-8\n",
    "    except AttributeError: # в случае, если не получилось получить информации по address\n",
    "        continue\n",
    "\n",
    "#location_dict"
   ]
  },
  {
   "cell_type": "markdown",
   "metadata": {},
   "source": [
    "Качество замены адресов неидеальное, bing справился лучше googlemaps 3/17 ошибок"
   ]
  },
  {
   "cell_type": "code",
   "execution_count": 19,
   "metadata": {
    "ExecuteTime": {
     "start_time": "2023-04-07T11:49:29.820648Z",
     "end_time": "2023-04-07T11:49:47.273016Z"
    }
   },
   "outputs": [],
   "source": [
    "# заменяю пропуски значениями из словаря location_dict\n",
    "\n",
    "def replacement(data):\n",
    "    '''\n",
    "    Функция для заполнения 3 значений записей df: lat, lng\n",
    "    :param data: запись df\n",
    "    :return: обновленная запись df с заполненными значениями\n",
    "    '''\n",
    "    if data.hotel_address in location_dict: # сравнение значения признака hotel_address со списком адресов с пропусками\n",
    "        data['lat'] = location_dict[data.hotel_address][1]\n",
    "        data['lng'] = location_dict[data.hotel_address][2]\n",
    "    return data\n",
    "\n",
    "df = df.apply(replacement,axis=1)"
   ]
  },
  {
   "cell_type": "code",
   "execution_count": 20,
   "metadata": {
    "ExecuteTime": {
     "start_time": "2023-04-07T11:49:47.369891Z",
     "end_time": "2023-04-07T11:49:47.658451Z"
    }
   },
   "outputs": [
    {
     "name": "stdout",
     "output_type": "stream",
     "text": [
      "<class 'pandas.core.frame.DataFrame'>\n",
      "RangeIndex: 515738 entries, 0 to 515737\n",
      "Data columns (total 18 columns):\n",
      " #   Column                                      Non-Null Count   Dtype  \n",
      "---  ------                                      --------------   -----  \n",
      " 0   hotel_address                               515738 non-null  object \n",
      " 1   additional_number_of_scoring                515738 non-null  int64  \n",
      " 2   review_date                                 515738 non-null  object \n",
      " 3   average_score                               515738 non-null  float64\n",
      " 4   hotel_name                                  515738 non-null  object \n",
      " 5   reviewer_nationality                        515738 non-null  object \n",
      " 6   negative_review                             515738 non-null  object \n",
      " 7   review_total_negative_word_counts           515738 non-null  int64  \n",
      " 8   total_number_of_reviews                     515738 non-null  int64  \n",
      " 9   positive_review                             515738 non-null  object \n",
      " 10  review_total_positive_word_counts           515738 non-null  int64  \n",
      " 11  total_number_of_reviews_reviewer_has_given  515738 non-null  int64  \n",
      " 12  tags                                        515738 non-null  object \n",
      " 13  days_since_review                           515738 non-null  object \n",
      " 14  lat                                         515738 non-null  float64\n",
      " 15  lng                                         515738 non-null  float64\n",
      " 16  sample                                      515738 non-null  int64  \n",
      " 17  reviewer_score                              515738 non-null  float64\n",
      "dtypes: float64(4), int64(6), object(8)\n",
      "memory usage: 70.8+ MB\n"
     ]
    }
   ],
   "source": [
    "df.info()"
   ]
  },
  {
   "cell_type": "markdown",
   "metadata": {},
   "source": [
    "## Выводы\n",
    "- датасет не содержит пропусков\n",
    "- по условиям задачи, предполагается, что данные предварительно очищены: очиски выбросов и дубликатов не производится"
   ]
  },
  {
   "cell_type": "markdown",
   "metadata": {},
   "source": [
    "# Создание новых признаков"
   ]
  },
  {
   "cell_type": "markdown",
   "metadata": {},
   "source": [
    "## Обработка дат\n",
    "- days_since_review\n",
    "- review_date"
   ]
  },
  {
   "cell_type": "code",
   "execution_count": 21,
   "metadata": {
    "ExecuteTime": {
     "start_time": "2023-04-07T11:49:47.679374Z",
     "end_time": "2023-04-07T11:49:47.833662Z"
    }
   },
   "outputs": [],
   "source": [
    "# Работаю с review_date, вычленяю основную информацию\n",
    "\n",
    "df['review_date'] = pd.to_datetime(df.review_date)\n",
    "df['review_year'] = df.review_date.dt.year\n",
    "df['review_dayofweek'] = df.review_date.dt.dayofweek\n",
    "df['review_month'] = df.review_date.dt.month"
   ]
  },
  {
   "cell_type": "code",
   "execution_count": 22,
   "metadata": {
    "ExecuteTime": {
     "start_time": "2023-04-07T11:49:47.871506Z",
     "end_time": "2023-04-07T11:49:48.388002Z"
    }
   },
   "outputs": [],
   "source": [
    "# преобразовываю признак days_since_review, убираю 'days'\n",
    "\n",
    "df['days_since_review'] = df.days_since_review.apply(lambda x: re.match(r'\\d*',x).group(0))\n",
    "df['days_since_review'] = pd.to_numeric(df.days_since_review)"
   ]
  },
  {
   "cell_type": "code",
   "execution_count": 23,
   "metadata": {
    "ExecuteTime": {
     "start_time": "2023-04-07T11:49:48.408939Z",
     "end_time": "2023-04-07T11:49:48.527581Z"
    }
   },
   "outputs": [],
   "source": [
    "# удаляю дату, т.к она впоследствии не потребуется\n",
    "df.drop('review_date',axis=1,inplace=True)"
   ]
  },
  {
   "cell_type": "code",
   "execution_count": 24,
   "metadata": {
    "ExecuteTime": {
     "start_time": "2023-04-07T11:49:48.546140Z",
     "end_time": "2023-04-07T11:49:48.997158Z"
    }
   },
   "outputs": [
    {
     "data": {
      "text/plain": "Text(0.5, 1.0, 'Коробчатая диаграмма распределения reviewer_score в разрезе \"review_month\"')"
     },
     "execution_count": 24,
     "metadata": {},
     "output_type": "execute_result"
    },
    {
     "data": {
      "text/plain": "<Figure size 800x500 with 1 Axes>",
      "image/png": "[encoded data removed]"
     },
     "metadata": {},
     "output_type": "display_data"
    }
   ],
   "source": [
    "# 3 признака являются биннингом признака days since_review\n",
    "# Попробую посмотреть какие есть зависимости\n",
    "\n",
    "plt.subplots(figsize=(8, 5))\n",
    "sns.boxplot(\n",
    "    df[df['sample']!=0],\n",
    "    x = 'reviewer_score',\n",
    "    y = 'review_month',\n",
    "    orient = 'h',\n",
    ").set_title('Коробчатая диаграмма распределения reviewer_score в разрезе \"review_month\"')"
   ]
  },
  {
   "cell_type": "code",
   "execution_count": 25,
   "outputs": [
    {
     "data": {
      "text/plain": "Text(0.5, 1.0, 'Коробчатая диаграмма распределения reviewer_score в разрезе \"review_month\"')"
     },
     "execution_count": 25,
     "metadata": {},
     "output_type": "execute_result"
    },
    {
     "data": {
      "text/plain": "<Figure size 800x500 with 1 Axes>",
      "image/png": "[encoded data removed]"
     },
     "metadata": {},
     "output_type": "display_data"
    }
   ],
   "source": [
    "plt.subplots(figsize=(8, 5))\n",
    "sns.boxplot(\n",
    "    df[df['sample']!=0],\n",
    "    x = 'reviewer_score',\n",
    "    y = 'review_dayofweek',\n",
    "    orient = 'h',\n",
    ").set_title('Коробчатая диаграмма распределения reviewer_score в разрезе \"review_month\"')\n"
   ],
   "metadata": {
    "collapsed": false,
    "ExecuteTime": {
     "start_time": "2023-04-07T11:49:49.011527Z",
     "end_time": "2023-04-07T11:49:49.341700Z"
    }
   }
  },
  {
   "cell_type": "markdown",
   "metadata": {},
   "source": [
    "### Вывод\n",
    "- Картинка очень похожая\n",
    "- Я мог ожидать разницу в Декабре и Янаваре, и в Августе (периоды каникул), но нет\n",
    "- медиана выше в Январе и Феврале\n",
    "- Январь я могу связать с отпусками, причина Фераля не понятна\n"
   ]
  },
  {
   "cell_type": "code",
   "execution_count": 26,
   "outputs": [
    {
     "data": {
      "text/plain": "Text(0.5, 1.0, 'CDF Признака reviewer_score')"
     },
     "execution_count": 26,
     "metadata": {},
     "output_type": "execute_result"
    },
    {
     "data": {
      "text/plain": "<Figure size 1500x800 with 1 Axes>",
      "image/png": "[encoded data removed]"
     },
     "metadata": {},
     "output_type": "display_data"
    }
   ],
   "source": [
    "plt.subplots(figsize=(15, 8))\n",
    "sns.ecdfplot(\n",
    "    df[df['sample']!=0],\n",
    "    x = 'reviewer_score',\n",
    "    hue = 'review_year',\n",
    ").set_title('CDF Признака reviewer_score')"
   ],
   "metadata": {
    "collapsed": false,
    "ExecuteTime": {
     "start_time": "2023-04-07T11:49:49.358409Z",
     "end_time": "2023-04-07T11:49:50.303102Z"
    }
   }
  },
  {
   "cell_type": "markdown",
   "metadata": {},
   "source": [
    "### Вывод\n",
    "- Оценки в 2015 несколько ниже\n",
    "- В 2016 вероятность получить оценку до 9 была ниже чем в 2017\n",
    "- В 2017 было выставлено наибольшее количество высоких оценок"
   ]
  },
  {
   "cell_type": "code",
   "execution_count": 27,
   "metadata": {
    "ExecuteTime": {
     "start_time": "2023-04-07T11:49:50.307097Z",
     "end_time": "2023-04-07T11:49:50.372405Z"
    }
   },
   "outputs": [
    {
     "data": {
      "text/plain": "review_year       2015      2016      2017\nreview_month                              \n1                  NaN  8.510838  8.457627\n2                  NaN  8.555485  8.514815\n3                  NaN  8.520747  8.441461\n4                  NaN  8.479080  8.385329\n5                  NaN  8.441245  8.330883\n6                  NaN  8.404621  8.370436\n7                  NaN  8.389408  8.283351\n8             8.392178  8.431214  8.389083\n9             8.255650  8.326231       NaN\n10            8.201060  8.311351       NaN\n11            8.309971  8.376798       NaN\n12            8.475224  8.395404       NaN",
      "text/html": "<div>\n<style scoped>\n    .dataframe tbody tr th:only-of-type {\n        vertical-align: middle;\n    }\n\n    .dataframe tbody tr th {\n        vertical-align: top;\n    }\n\n    .dataframe thead th {\n        text-align: right;\n    }\n</style>\n<table border=\"1\" class=\"dataframe\">\n  <thead>\n    <tr style=\"text-align: right;\">\n      <th>review_year</th>\n      <th>2015</th>\n      <th>2016</th>\n      <th>2017</th>\n    </tr>\n    <tr>\n      <th>review_month</th>\n      <th></th>\n      <th></th>\n      <th></th>\n    </tr>\n  </thead>\n  <tbody>\n    <tr>\n      <th>1</th>\n      <td>NaN</td>\n      <td>8.510838</td>\n      <td>8.457627</td>\n    </tr>\n    <tr>\n      <th>2</th>\n      <td>NaN</td>\n      <td>8.555485</td>\n      <td>8.514815</td>\n    </tr>\n    <tr>\n      <th>3</th>\n      <td>NaN</td>\n      <td>8.520747</td>\n      <td>8.441461</td>\n    </tr>\n    <tr>\n      <th>4</th>\n      <td>NaN</td>\n      <td>8.479080</td>\n      <td>8.385329</td>\n    </tr>\n    <tr>\n      <th>5</th>\n      <td>NaN</td>\n      <td>8.441245</td>\n      <td>8.330883</td>\n    </tr>\n    <tr>\n      <th>6</th>\n      <td>NaN</td>\n      <td>8.404621</td>\n      <td>8.370436</td>\n    </tr>\n    <tr>\n      <th>7</th>\n      <td>NaN</td>\n      <td>8.389408</td>\n      <td>8.283351</td>\n    </tr>\n    <tr>\n      <th>8</th>\n      <td>8.392178</td>\n      <td>8.431214</td>\n      <td>8.389083</td>\n    </tr>\n    <tr>\n      <th>9</th>\n      <td>8.255650</td>\n      <td>8.326231</td>\n      <td>NaN</td>\n    </tr>\n    <tr>\n      <th>10</th>\n      <td>8.201060</td>\n      <td>8.311351</td>\n      <td>NaN</td>\n    </tr>\n    <tr>\n      <th>11</th>\n      <td>8.309971</td>\n      <td>8.376798</td>\n      <td>NaN</td>\n    </tr>\n    <tr>\n      <th>12</th>\n      <td>8.475224</td>\n      <td>8.395404</td>\n      <td>NaN</td>\n    </tr>\n  </tbody>\n</table>\n</div>"
     },
     "execution_count": 27,
     "metadata": {},
     "output_type": "execute_result"
    }
   ],
   "source": [
    "data = df[df['sample']!=0].pivot_table(\n",
    "    columns = 'review_year',\n",
    "    index = 'review_month',\n",
    "    values = 'reviewer_score',\n",
    "    aggfunc = 'mean'\n",
    ")\n",
    "\n",
    "data"
   ]
  },
  {
   "cell_type": "markdown",
   "metadata": {},
   "source": []
  },
  {
   "cell_type": "code",
   "execution_count": 28,
   "metadata": {
    "ExecuteTime": {
     "start_time": "2023-04-07T11:49:50.406746Z",
     "end_time": "2023-04-07T11:49:50.713110Z"
    }
   },
   "outputs": [
    {
     "data": {
      "text/plain": "Text(0.5, 1.0, 'Тепловая карта среднего балла ревью в разрезе месяца / года')"
     },
     "execution_count": 28,
     "metadata": {},
     "output_type": "execute_result"
    },
    {
     "data": {
      "text/plain": "<Figure size 1000x500 with 2 Axes>",
      "image/png": "[encoded data removed]"
     },
     "metadata": {},
     "output_type": "display_data"
    }
   ],
   "source": [
    "plt.subplots(figsize=(10, 5))\n",
    "sns.heatmap(\n",
    "    data,\n",
    "    annot=True\n",
    ").set_title('Тепловая карта среднего балла ревью в разрезе месяца / года')"
   ]
  },
  {
   "cell_type": "markdown",
   "metadata": {},
   "source": [
    "### Вывод\n",
    "- разница незначительная\n",
    "- не самый сильный признак"
   ]
  },
  {
   "cell_type": "code",
   "execution_count": 29,
   "outputs": [
    {
     "data": {
      "text/plain": "Text(0.5, 1.0, 'Гистограмма признака days_since_review')"
     },
     "execution_count": 29,
     "metadata": {},
     "output_type": "execute_result"
    },
    {
     "data": {
      "text/plain": "<Figure size 1000x500 with 1 Axes>",
      "image/png": "[encoded data removed]"
     },
     "metadata": {},
     "output_type": "display_data"
    }
   ],
   "source": [
    "plt.subplots(figsize=(10, 5))\n",
    "sns.histplot(\n",
    "    df,\n",
    "    x = 'days_since_review',\n",
    "    stat = 'percent'\n",
    ").set_title('Гистограмма признака days_since_review')"
   ],
   "metadata": {
    "collapsed": false,
    "ExecuteTime": {
     "start_time": "2023-04-07T11:49:50.702492Z",
     "end_time": "2023-04-07T11:49:51.111369Z"
    }
   }
  },
  {
   "cell_type": "markdown",
   "source": [
    "### Вывод\n",
    "- Распределение близкое к uniform"
   ],
   "metadata": {
    "collapsed": false
   }
  },
  {
   "cell_type": "code",
   "execution_count": 30,
   "outputs": [
    {
     "data": {
      "text/plain": "Text(0.5, 1.0, \"Scatter диаграмма зависимости 'days_since_review' и 'reviewer_score'\")"
     },
     "execution_count": 30,
     "metadata": {},
     "output_type": "execute_result"
    },
    {
     "data": {
      "text/plain": "<Figure size 640x480 with 1 Axes>",
      "image/png": "[encoded data removed]"
     },
     "metadata": {},
     "output_type": "display_data"
    }
   ],
   "source": [
    "sns.scatterplot(\n",
    "    df[df['sample']!=0],\n",
    "    x = 'days_since_review',\n",
    "    y = 'reviewer_score',\n",
    ").set_title(\"Scatter диаграмма зависимости 'days_since_review' и 'reviewer_score'\")"
   ],
   "metadata": {
    "collapsed": false,
    "ExecuteTime": {
     "start_time": "2023-04-07T11:49:51.112793Z",
     "end_time": "2023-04-07T11:49:52.883820Z"
    }
   }
  },
  {
   "cell_type": "code",
   "execution_count": 30,
   "outputs": [],
   "source": [],
   "metadata": {
    "collapsed": false,
    "ExecuteTime": {
     "start_time": "2023-04-07T11:49:52.882749Z",
     "end_time": "2023-04-07T11:49:52.884192Z"
    }
   }
  },
  {
   "cell_type": "markdown",
   "metadata": {},
   "source": [
    "### Вывод\n",
    "- По такой диагрмамме сложно сделать вывод, можно признак представлен во всех катерориях 'примерно' одинаково\n"
   ]
  },
  {
   "cell_type": "markdown",
   "metadata": {},
   "source": [
    "## Обработака адреса\n",
    "- hotel_address"
   ]
  },
  {
   "cell_type": "code",
   "execution_count": 30,
   "outputs": [],
   "source": [],
   "metadata": {
    "collapsed": false,
    "ExecuteTime": {
     "start_time": "2023-04-07T11:49:52.885586Z",
     "end_time": "2023-04-07T11:49:52.887573Z"
    }
   }
  },
  {
   "cell_type": "code",
   "execution_count": 31,
   "metadata": {
    "ExecuteTime": {
     "start_time": "2023-04-07T11:49:52.919998Z",
     "end_time": "2023-04-07T11:49:53.698027Z"
    }
   },
   "outputs": [],
   "source": [
    "#выделяю город и страну из признака\n",
    "\n",
    "def get_place(data,type):\n",
    "    '''\n",
    "    функция для выделение признаков город и страна из признака hotel_address\n",
    "    :param data: str, адрес отеля\n",
    "    :param type: str, определяет возвращаемый признак country или city\n",
    "    :return: str, название города или страны\n",
    "    '''\n",
    "    address = data.split()\n",
    "    if address[-1] == 'Kingdom': # адрес отелей в UK отличается форматом\n",
    "        country = ' '.join(address[-2:])\n",
    "        city = address[-5]\n",
    "    else:\n",
    "        country = address[-1]\n",
    "        city = address[-2]\n",
    "    if type == 'city':\n",
    "        return city\n",
    "    elif type == 'country':\n",
    "        return country\n",
    "    return\n",
    "\n",
    "df['hotel_country'] = df.hotel_address.apply(get_place,args=['country'])\n",
    "df['hotel_city'] = df.hotel_address.apply(get_place,args=['city'])"
   ]
  },
  {
   "cell_type": "code",
   "execution_count": 32,
   "metadata": {
    "ExecuteTime": {
     "start_time": "2023-04-07T11:49:53.713193Z",
     "end_time": "2023-04-07T11:49:53.781377Z"
    }
   },
   "outputs": [
    {
     "data": {
      "text/plain": "hotel_city  hotel_country \nAmsterdam   Netherlands        57214\nBarcelona   Spain              60149\nLondon      United Kingdom    262301\nMilan       Italy              37207\nParis       France             59928\nVienna      Austria            38939\nName: hotel_name, dtype: int64"
     },
     "execution_count": 32,
     "metadata": {},
     "output_type": "execute_result"
    }
   ],
   "source": [
    "# проверяю полученные резултаты\n",
    "df.groupby(['hotel_city','hotel_country'])['hotel_name'].count()"
   ]
  },
  {
   "cell_type": "markdown",
   "metadata": {},
   "source": [
    "### Вывод\n",
    "- Вариативность в сочетании города и страны нет, 2 признака, скорее всего нужны не будут"
   ]
  },
  {
   "cell_type": "code",
   "execution_count": 33,
   "metadata": {
    "ExecuteTime": {
     "start_time": "2023-04-07T11:49:53.788586Z",
     "end_time": "2023-04-07T11:49:54.368065Z"
    }
   },
   "outputs": [
    {
     "data": {
      "text/plain": "Text(0.5, 1.0, 'Коробчатая диаграмма распределения reviewer_score в разрезе \"reviewer_score\"')"
     },
     "execution_count": 33,
     "metadata": {},
     "output_type": "execute_result"
    },
    {
     "data": {
      "text/plain": "<Figure size 800x500 with 1 Axes>",
      "image/png": "[encoded data removed]"
     },
     "metadata": {},
     "output_type": "display_data"
    }
   ],
   "source": [
    "# смотрю есть ли различия в проставленных оценках для разных стран\n",
    "\n",
    "plt.subplots(figsize=(8, 5))\n",
    "sns.boxplot(\n",
    "    df[df['sample']!=0],\n",
    "    x = 'reviewer_score',\n",
    "    y = 'hotel_country',\n",
    "    orient = 'h',\n",
    ").set_title('Коробчатая диаграмма распределения reviewer_score в разрезе \"reviewer_score\"')"
   ]
  },
  {
   "cell_type": "markdown",
   "metadata": {},
   "source": [
    "### Вывод\n",
    "Оценки для отелей в практически одинаковые, средние оценки в Австрии и Испании чуть выше"
   ]
  },
  {
   "cell_type": "code",
   "execution_count": 34,
   "metadata": {
    "ExecuteTime": {
     "start_time": "2023-04-07T11:49:54.402923Z",
     "end_time": "2023-04-07T11:49:54.431216Z"
    }
   },
   "outputs": [
    {
     "data": {
      "text/plain": "United Kingdom    0.508594\nSpain             0.116627\nFrance            0.116199\nNetherlands       0.110936\nAustria           0.075502\nItaly             0.072143\nName: hotel_country, dtype: float64"
     },
     "execution_count": 34,
     "metadata": {},
     "output_type": "execute_result"
    }
   ],
   "source": [
    "# смотрю насколько признак получился вариативным\n",
    "df.hotel_country.value_counts(normalize=True)"
   ]
  },
  {
   "cell_type": "code",
   "execution_count": null,
   "metadata": {
    "ExecuteTime": {
     "start_time": "2023-04-07T10:17:00.016798Z",
     "end_time": "2023-04-07T10:17:32.293771Z"
    },
    "pycharm": {
     "is_executing": true
    }
   },
   "outputs": [],
   "source": [
    "# Выделяю признак расстояние от центра города, это будет категориальный признак, которым я смогу различать разные отели под 1 именем\n",
    "# Предварительно проверяю количество уникальных сочетаний названия отеля и адреса\n",
    "\n",
    "list_hotels = df.hotel_name.unique()\n",
    "address_count = []\n",
    "\n",
    "for i in list_hotels:\n",
    "    address_count.append(df[df.hotel_name == i].hotel_address.nunique())"
   ]
  },
  {
   "cell_type": "code",
   "execution_count": null,
   "metadata": {
    "ExecuteTime": {
     "start_time": "2023-04-07T10:17:32.338970Z",
     "end_time": "2023-04-07T10:17:32.567941Z"
    },
    "pycharm": {
     "is_executing": true
    }
   },
   "outputs": [],
   "source": [
    "# Строю график для наглядности\n",
    "plt.plot(range(len(list_hotels)),address_count)\n",
    "plt.title('График количества уникальных адресов для 1 названия отеля')\n",
    "plt.xlabel('hotel_id')\n",
    "plt.ylabel('count of unique addresses')"
   ]
  },
  {
   "cell_type": "markdown",
   "metadata": {},
   "source": [
    "### Вывод\n",
    "В наборе данных не представлены\n",
    "сети отелей или они имеют уникальные названия\n",
    "Признаки, выделенные и характеризующие отель теоретически будут слабыми, если они не будут связаны с профилем пользователя или данными в комментарии"
   ]
  },
  {
   "cell_type": "code",
   "execution_count": null,
   "metadata": {
    "ExecuteTime": {
     "start_time": "2023-04-07T10:17:32.584757Z",
     "end_time": "2023-04-07T10:17:33.294986Z"
    },
    "pycharm": {
     "is_executing": true
    }
   },
   "outputs": [],
   "source": [
    "list_cities = df.hotel_city.value_counts().index\n",
    "city_centre = {}\n",
    "for i in list_cities:\n",
    "    location = geolocator.geocode(i)\n",
    "    city_centre[i] = (location.latitude,location.longitude)\n",
    "\n",
    "city_centre"
   ]
  },
  {
   "cell_type": "code",
   "execution_count": null,
   "metadata": {
    "ExecuteTime": {
     "start_time": "2023-04-07T10:17:33.307916Z",
     "end_time": "2023-04-07T10:18:56.201905Z"
    },
    "pycharm": {
     "is_executing": true
    }
   },
   "outputs": [],
   "source": [
    "# Создаю словарь со списком отелей и считаю для каждого отеля дистанцию в км от центра\n",
    "\n",
    "list_hotels = df.hotel_address.unique()\n",
    "hotel_distance = dict()\n",
    "\n",
    "for i in list_hotels:\n",
    "    lat = df[df.hotel_address == i].iloc[0]['lat']\n",
    "    lng = df[df.hotel_address == i].iloc[0]['lng']\n",
    "    position = city_centre[df[df.hotel_address == i].iloc[0]['hotel_city']]\n",
    "\n",
    "    result = distance.distance((lat,lng),position)\n",
    "    hotel_distance[i] = result.km\n",
    "\n",
    "#hotel_distance"
   ]
  },
  {
   "cell_type": "code",
   "execution_count": null,
   "metadata": {
    "ExecuteTime": {
     "start_time": "2023-04-07T10:18:56.239104Z",
     "end_time": "2023-04-07T10:18:56.537464Z"
    },
    "pycharm": {
     "is_executing": true
    }
   },
   "outputs": [],
   "source": [
    "df.info()"
   ]
  },
  {
   "cell_type": "code",
   "execution_count": null,
   "metadata": {
    "ExecuteTime": {
     "start_time": "2023-04-07T10:18:56.560585Z",
     "end_time": "2023-04-07T10:18:56.626194Z"
    },
    "pycharm": {
     "is_executing": true
    }
   },
   "outputs": [],
   "source": [
    "# Заполнчяю новый признак\n",
    "df['hotel_distance'] = df.hotel_address.apply(lambda x: hotel_distance[x])"
   ]
  },
  {
   "cell_type": "code",
   "execution_count": null,
   "metadata": {
    "ExecuteTime": {
     "start_time": "2023-04-07T10:18:56.652375Z",
     "end_time": "2023-04-07T10:18:56.678685Z"
    },
    "pycharm": {
     "is_executing": true
    }
   },
   "outputs": [],
   "source": [
    "# выделяю признак внутреннего туризма, но перед этим очищаю и смотрю на признак страны\n",
    "df.reviewer_nationality.value_counts(normalize=True)"
   ]
  },
  {
   "cell_type": "markdown",
   "source": [],
   "metadata": {
    "collapsed": false
   }
  },
  {
   "cell_type": "code",
   "execution_count": null,
   "metadata": {
    "ExecuteTime": {
     "start_time": "2023-04-07T10:18:56.702334Z",
     "end_time": "2023-04-07T10:18:56.823499Z"
    },
    "pycharm": {
     "is_executing": true
    }
   },
   "outputs": [],
   "source": [
    "# Замечаю, что записи содержат пустое значение и пробелы\n",
    "# тримлю и заполняю пустое значение\n",
    "\n",
    "value = df.reviewer_nationality.mode()\n",
    "\n",
    "def nationality_update(data):\n",
    "    '''\n",
    "    Функция для удлаения лиших пробелов в названии страны\n",
    "    :param data: str, насвание страны происхождения\n",
    "    :return: str, очищенная строка\n",
    "    '''\n",
    "    result = data.strip()\n",
    "    if result == '':\n",
    "        return value[0].strip() # если занчение пустое, возвращаю моду, предварительно очистив.\n",
    "    return result\n",
    "\n",
    "df['reviewer_nationality'] = df.reviewer_nationality.apply(nationality_update)"
   ]
  },
  {
   "cell_type": "code",
   "execution_count": null,
   "metadata": {
    "ExecuteTime": {
     "start_time": "2023-04-07T10:18:56.825956Z",
     "end_time": "2023-04-07T10:19:01.615448Z"
    },
    "pycharm": {
     "is_executing": true
    }
   },
   "outputs": [],
   "source": [
    "# Выделяю признак внутреннего туризма\n",
    "df['inland_tourism'] = df.apply(lambda x: 1 if x.hotel_country == x.reviewer_nationality else 0, axis=1)"
   ]
  },
  {
   "cell_type": "code",
   "execution_count": null,
   "metadata": {
    "ExecuteTime": {
     "start_time": "2023-04-07T10:19:01.642183Z",
     "end_time": "2023-04-07T10:19:01.820912Z"
    },
    "pycharm": {
     "is_executing": true
    }
   },
   "outputs": [],
   "source": [
    "#выдели признаки которые выделяются на фоне других\n",
    "df['is_from_UK'] = df.reviewer_nationality.apply(lambda x: 1 if x == 'United Kingdom' else 0)\n",
    "df['is_from_US'] = df.reviewer_nationality.apply(lambda x: 1 if x == 'United States of America' else 0)"
   ]
  },
  {
   "cell_type": "code",
   "execution_count": null,
   "metadata": {
    "ExecuteTime": {
     "start_time": "2023-04-07T10:19:01.833723Z",
     "end_time": "2023-04-07T10:19:02.122893Z"
    },
    "pycharm": {
     "is_executing": true
    }
   },
   "outputs": [],
   "source": [
    "# Смортю на распределение оценок в разрезе признака внутренного туризма\n",
    "\n",
    "plt.subplots(figsize=(8, 5))\n",
    "sns.boxplot(\n",
    "    df[df['sample']!=0],\n",
    "    x = 'reviewer_score',\n",
    "    y = 'inland_tourism',\n",
    "    orient = 'h',\n",
    ").set_title('Коробчатая диаграмма распределения reviewer_score в разрезе \"inland_tourism\"')"
   ]
  },
  {
   "cell_type": "code",
   "execution_count": null,
   "metadata": {
    "ExecuteTime": {
     "start_time": "2023-04-07T10:19:02.131707Z",
     "end_time": "2023-04-07T10:19:02.445807Z"
    },
    "pycharm": {
     "is_executing": true
    }
   },
   "outputs": [],
   "source": [
    "# делаю аналгично для основной группы UK\n",
    "\n",
    "plt.subplots(figsize=(8, 5))\n",
    "sns.boxplot(\n",
    "    df[(df['sample'] != 0) & (df['is_from_UK'] == 1)],\n",
    "    x = 'reviewer_score',\n",
    "    y = 'inland_tourism',\n",
    "    orient = 'h',\n",
    ").set_title('Коробчатая диаграмма распределения reviewer_score у пользователей из UK в разрезе \"inland_tourism\"')"
   ]
  },
  {
   "cell_type": "code",
   "execution_count": null,
   "metadata": {
    "ExecuteTime": {
     "start_time": "2023-04-07T10:19:02.460245Z",
     "end_time": "2023-04-07T10:19:02.799624Z"
    },
    "pycharm": {
     "is_executing": true
    }
   },
   "outputs": [],
   "source": [
    "# Сравниваю основную группу туристов со всей выборкой\n",
    "\n",
    "plt.subplots(figsize=(8, 5))\n",
    "sns.boxplot(\n",
    "    df[df['sample']!=0],\n",
    "    x = 'reviewer_score',\n",
    "    y = 'is_from_UK',\n",
    "    orient = 'h',\n",
    ").set_title('Коробчатая диаграмма распределения reviewer_score в разрезе \"is_from_UK\"')"
   ]
  },
  {
   "cell_type": "code",
   "execution_count": null,
   "metadata": {
    "ExecuteTime": {
     "start_time": "2023-04-07T10:19:02.783478Z",
     "end_time": "2023-04-07T10:19:03.086652Z"
    },
    "pycharm": {
     "is_executing": true
    }
   },
   "outputs": [],
   "source": [
    "# Делаю тоже самое для туристов из US\n",
    "\n",
    "plt.subplots(figsize=(8, 5))\n",
    "sns.boxplot(\n",
    "    df[df['sample']!=0],\n",
    "    x = 'reviewer_score',\n",
    "    y = 'is_from_US',\n",
    "    orient = 'h',\n",
    ").set_title('Коробчатая диаграмма распределения reviewer_score в разрезе \"is_from_US\"')\n"
   ]
  },
  {
   "cell_type": "markdown",
   "metadata": {},
   "source": [
    "### Выводы\n",
    "- Признак не самый выразительный\n",
    "- Оценки британцев дома несколько ниже\n",
    "- Американцы и британцы ставят в среднем баллы выше, чем туристы из других стран"
   ]
  },
  {
   "cell_type": "code",
   "execution_count": null,
   "metadata": {
    "ExecuteTime": {
     "start_time": "2023-04-07T10:19:03.079320Z",
     "end_time": "2023-04-07T10:19:04.402308Z"
    },
    "pycharm": {
     "is_executing": true
    }
   },
   "outputs": [],
   "source": [
    "# произвожу дополнительный бинниг, распределяя странцу происхождения по регионам\n",
    "# Буду рассматривать 6 регионов\n",
    "europe = set()\n",
    "asia = set()\n",
    "namerica = set()\n",
    "lamerica = set()\n",
    "africa = set()\n",
    "oceania = set()\n",
    "\n",
    "url_asia = 'https://en.wikipedia.org/wiki/List_of_sovereign_states_and_dependent_territories_in_Asia'\n",
    "response = requests.get(url_asia) # Выполняем get запрос\n",
    "page = BeautifulSoup(response.text, 'html.parser') # считываю сраницу\n",
    "tables = page.find_all('table', class_ = 'wikitable') # выбираем все таблицы на странице\n",
    "\n",
    "for i in tables:\n",
    "    for j in i.find_all('tr')[1:]: # прохожусь по строкам таблицы\n",
    "        asia.add(j.find_all('a')[2].text) # выбираю интересубщие меня ссылки\n",
    "\n",
    "url_europe = 'https://en.wikipedia.org/wiki/List_of_sovereign_states_and_dependent_territories_in_Europe'\n",
    "response = requests.get(url_europe)\n",
    "page = BeautifulSoup(response.text, 'html.parser')\n",
    "tables = page.find_all('table', class_ = 'wikitable')[1:] #страны начинаютс со 2 таблицы\n",
    "\n",
    "for i in tables:\n",
    "    for j in i.find_all('tr')[1:]:\n",
    "        europe.add(j.find_all('a')[2].text)\n",
    "\n",
    "europe.remove('[e]') # ссылка на строке с Чехией отличается, поэтому приходиться делать преобразования вручную\n",
    "europe.add('Czech Republic')\n",
    "\n",
    "# Смотрю на пересечение множеств и удаляю пересечение\n",
    "intersections = europe.intersection(asia)\n",
    "for i in intersections:\n",
    "    europe.remove(i)\n",
    "\n",
    "for i in europe.intersection(asia):\n",
    "    europe.remove(i)\n",
    "\n",
    "url_america = 'https://en.wikipedia.org/wiki/List_of_sovereign_states_and_dependent_territories_in_the_Americas'\n",
    "response = requests.get(url_america) # Выполняем get запрос\n",
    "page = BeautifulSoup(response.text, 'html.parser') # Создаём объект BeautifulSoup, указывая html-парсер\n",
    "tables = page.find_all('table', class_ = 'wikitable') # выбираем все таблицы на странице\n",
    "\n",
    "for i in tables:\n",
    "    for j in i.find_all('tr')[1:]:\n",
    "        lamerica.add(j.find_all('a')[1].text)\n",
    "\n",
    "lamerica.remove('Canada')\n",
    "lamerica.remove('United States')\n",
    "\n",
    "namerica.update(['Canada','United States of America']) # создаю отдельно регион Северное Америки, т.к предполагаю здесь другое поведение\n",
    "\n",
    "url_africa = 'https://en.wikipedia.org/wiki/List_of_sovereign_states_and_dependent_territories_in_Africa'\n",
    "response = requests.get(url_africa) # Выполняем get запрос\n",
    "page = BeautifulSoup(response.text, 'html.parser') # Создаём объект BeautifulSoup, указывая html-парсер\n",
    "tables = page.find_all('table', class_ = 'wikitable') # выбираем все таблицы на странице\n",
    "\n",
    "for i in tables:\n",
    "    for j in i.find_all('tr')[1:]:\n",
    "        africa.add(j.find_all('a')[2].text)\n",
    "\n",
    "\n",
    "url_oceania = 'https://en.wikipedia.org/wiki/List_of_sovereign_states_and_dependent_territories_in_Oceania'\n",
    "response = requests.get(url_oceania) # Выполняем get запрос\n",
    "page = BeautifulSoup(response.text, 'html.parser') # Создаём объект BeautifulSoup, указывая html-парсер\n",
    "tables = page.find_all('table', class_ = 'wikitable') # выбираем все таблицы на странице\n",
    "\n",
    "for i in tables:\n",
    "    for j in i.find_all('tr')[1:]:\n",
    "        oceania.add(j.find_all('a')[2].text)\n",
    "\n",
    "oceania.remove('')"
   ]
  },
  {
   "cell_type": "code",
   "execution_count": null,
   "metadata": {
    "ExecuteTime": {
     "start_time": "2023-04-07T10:19:04.405378Z",
     "end_time": "2023-04-07T10:19:04.482087Z"
    },
    "pycharm": {
     "is_executing": true
    }
   },
   "outputs": [],
   "source": [
    "# произовжу биннинг по регионам\n",
    "\n",
    "def def_region(data):\n",
    "    '''\n",
    "    Функция возвращает по названию страны: название региона\n",
    "    :param data: str название страниы\n",
    "    :return: str название региона\n",
    "    '''\n",
    "    if data in europe:\n",
    "        return 'europe'\n",
    "    elif data in asia:\n",
    "        return 'asia'\n",
    "    elif data in namerica:\n",
    "        return 'namerica'\n",
    "    elif data in lamerica:\n",
    "        return 'lamerica'\n",
    "    elif data in africa:\n",
    "        return 'africa'\n",
    "    elif data in oceania:\n",
    "        return 'oceania'\n",
    "    else:\n",
    "        return 'other'\n",
    "\n",
    "df['reviewer_region'] = df.reviewer_nationality.apply(def_region)\n"
   ]
  },
  {
   "cell_type": "code",
   "execution_count": null,
   "metadata": {
    "ExecuteTime": {
     "start_time": "2023-04-07T10:19:04.484003Z",
     "end_time": "2023-04-07T10:19:04.701401Z"
    },
    "pycharm": {
     "is_executing": true
    }
   },
   "outputs": [],
   "source": [
    "df[df['sample']!=0].groupby('reviewer_region')['reviewer_score'].agg(['describe'])"
   ]
  },
  {
   "cell_type": "markdown",
   "metadata": {},
   "source": [
    "### Выводы\n",
    "Туристы из азии ставят в среднем менее высокие оценки\n",
    "Туристы и US и Canada ставят в среднем самые высокие оценки"
   ]
  },
  {
   "cell_type": "markdown",
   "metadata": {},
   "source": [
    "## Выделение признаков из тегов\n",
    "- tags"
   ]
  },
  {
   "cell_type": "code",
   "execution_count": null,
   "metadata": {
    "ExecuteTime": {
     "start_time": "2023-04-07T10:19:04.703873Z",
     "end_time": "2023-04-07T10:19:04.707786Z"
    },
    "pycharm": {
     "is_executing": true
    }
   },
   "outputs": [],
   "source": [
    "df.tags"
   ]
  },
  {
   "cell_type": "code",
   "execution_count": null,
   "metadata": {
    "ExecuteTime": {
     "start_time": "2023-04-07T10:19:04.754825Z",
     "end_time": "2023-04-07T10:19:05.460683Z"
    },
    "pycharm": {
     "is_executing": true
    }
   },
   "outputs": [],
   "source": [
    "# выделяю уникальные теги\n",
    "\n",
    "def tags_list():\n",
    "    tags = set() # создаю пустое множество, которое будет заполняться во внутренней функции\n",
    "    def innter_func(data):\n",
    "        nonlocal tags\n",
    "        data = data [1:-2] # убираю скобки\n",
    "        list_tags = data.split(',')\n",
    "        for i in list_tags:\n",
    "            tags.add(i.strip()[2:-2]) # удаляю структуру \" ' ' \"\n",
    "        return tags\n",
    "    return innter_func\n",
    "\n",
    "my_func = tags_list()\n",
    "for i in df.tags:\n",
    "    tags = my_func(i)\n",
    "\n",
    "print(tags)"
   ]
  },
  {
   "cell_type": "code",
   "execution_count": null,
   "metadata": {
    "ExecuteTime": {
     "start_time": "2023-04-07T10:19:05.451429Z",
     "end_time": "2023-04-07T10:19:09.398646Z"
    },
    "pycharm": {
     "is_executing": true
    }
   },
   "outputs": [],
   "source": [
    "# первым выделяю тип поездки Business или leisure\n",
    "def trip_type(data):\n",
    "    '''\n",
    "    Функция выделения типа поездки из tag\n",
    "    :param data: str, список tag’ов\n",
    "    :return: str тип поездки Business/Leisure/other\n",
    "    '''\n",
    "    try:\n",
    "        result = re.findall(r'(\\w*) trip', data)[0]\n",
    "    except IndexError: # если ничего не нашли и result содержит []\n",
    "        return np.nan\n",
    "    if result == 'Business':\n",
    "        return 'Business'\n",
    "    elif result == 'Leisure':\n",
    "        return 'Leisure'\n",
    "    else: #на случай, если есть другие типы поездки\n",
    "        return 'Other'\n",
    "\n",
    "df['trip_type'] = df.tags.apply(trip_type)"
   ]
  },
  {
   "cell_type": "code",
   "execution_count": null,
   "metadata": {
    "ExecuteTime": {
     "start_time": "2023-04-07T10:19:09.405691Z",
     "end_time": "2023-04-07T10:19:09.410102Z"
    },
    "pycharm": {
     "is_executing": true
    }
   },
   "outputs": [],
   "source": [
    "# Проверяю что получилось\n",
    "df.trip_type.value_counts(dropna=False)"
   ]
  },
  {
   "cell_type": "code",
   "execution_count": null,
   "metadata": {
    "ExecuteTime": {
     "start_time": "2023-04-07T10:19:09.408936Z",
     "end_time": "2023-04-07T10:19:09.457424Z"
    },
    "pycharm": {
     "is_executing": true
    }
   },
   "outputs": [],
   "source": [
    "# Заполняю пропуски\n",
    "df['trip_type'] = df.trip_type.fillna('Other')"
   ]
  },
  {
   "cell_type": "code",
   "execution_count": null,
   "metadata": {
    "ExecuteTime": {
     "start_time": "2023-04-07T10:19:09.446106Z",
     "end_time": "2023-04-07T10:19:10.587342Z"
    },
    "pycharm": {
     "is_executing": true
    }
   },
   "outputs": [],
   "source": [
    "# Смотрю как отличаются значения выдаваемых оценок от признака типа поездки\n",
    "\n",
    "plt.subplots(figsize=(15, 8))\n",
    "sns.ecdfplot(\n",
    "    df[df['sample']!=0],\n",
    "    x = 'reviewer_score',\n",
    "    hue = 'trip_type',\n",
    ").set_title('CDF признака reviewer score в разрезе trip_type')\n",
    "\n"
   ]
  },
  {
   "cell_type": "markdown",
   "metadata": {},
   "source": [
    "### Выводы\n",
    "- Вusiness поездки оценивются ниже чем туристические,\n",
    "- медиана бизнесс поездок в районе 8.3, тогда как для туристических в районе 9\n",
    "- Возможно, будет иметь смысл применить порядковое кодирование для этого признака"
   ]
  },
  {
   "cell_type": "code",
   "execution_count": null,
   "metadata": {
    "ExecuteTime": {
     "start_time": "2023-04-07T10:19:10.620889Z",
     "end_time": "2023-04-07T10:19:11.057524Z"
    },
    "pycharm": {
     "is_executing": true
    }
   },
   "outputs": [],
   "source": [
    "# Выделяю количество ночей\n",
    "def n_nights(data):\n",
    "    '''\n",
    "    Функция для выделения количество ночей\n",
    "    :param data: str, строка tags\n",
    "    :return: int количество ночей или пустое значение\n",
    "    '''\n",
    "    try:\n",
    "        result = re.findall(r'Stayed (\\d*) night', data)[-1]\n",
    "        return int(result)\n",
    "    except IndexError: # если ничего не нашли и result содержит []\n",
    "        return np.nan\n",
    "\n",
    "df['nights_count'] = df.tags.apply(n_nights)"
   ]
  },
  {
   "cell_type": "code",
   "execution_count": null,
   "metadata": {
    "ExecuteTime": {
     "start_time": "2023-04-07T10:19:11.060694Z",
     "end_time": "2023-04-07T10:19:11.064544Z"
    },
    "pycharm": {
     "is_executing": true
    }
   },
   "outputs": [],
   "source": [
    "# проверяю пропуски\n",
    "df.nights_count.isnull().mean()"
   ]
  },
  {
   "cell_type": "code",
   "execution_count": null,
   "metadata": {
    "ExecuteTime": {
     "start_time": "2023-04-07T10:19:11.063984Z",
     "end_time": "2023-04-07T10:19:11.950868Z"
    },
    "pycharm": {
     "is_executing": true
    }
   },
   "outputs": [],
   "source": [
    "sns.histplot(\n",
    "    df,\n",
    "    x = df.nights_count\n",
    ").set_title('Гистограмма признака nights_count')"
   ]
  },
  {
   "cell_type": "code",
   "execution_count": null,
   "metadata": {
    "ExecuteTime": {
     "start_time": "2023-04-07T10:19:11.952186Z",
     "end_time": "2023-04-07T10:19:12.729550Z"
    },
    "pycharm": {
     "is_executing": true
    }
   },
   "outputs": [],
   "source": [
    "# Заполняю средним значением и проверяю распределение\n",
    "df['nights_count'] = df.nights_count.fillna(int(df.nights_count.mean()))\n",
    "\n",
    "sns.histplot(\n",
    "    df,\n",
    "    x = df.nights_count\n",
    ").set_title('Гистограмма признака nights_count после заполнения пробелов')"
   ]
  },
  {
   "cell_type": "code",
   "execution_count": null,
   "metadata": {
    "ExecuteTime": {
     "start_time": "2023-04-07T10:19:12.732949Z",
     "end_time": "2023-04-07T10:19:13.775293Z"
    },
    "pycharm": {
     "is_executing": true
    }
   },
   "outputs": [],
   "source": [
    "\n",
    "sns.scatterplot(\n",
    "    df[df['sample']!=0],\n",
    "    x = 'reviewer_score',\n",
    "    y = 'nights_count',\n",
    ").set_title(\"Scatter диаграмма зависимости 'days_since_review' и 'reviewer_score'\")"
   ]
  },
  {
   "cell_type": "markdown",
   "metadata": {},
   "source": [
    "### Выводы\n",
    "- Какой-то четкой корреляции я не вижу\n",
    "- Можно сказать, что начиная от 20 ночей посетители, в основном, ставят высоеи баллы (больше 7.5)"
   ]
  },
  {
   "cell_type": "code",
   "execution_count": null,
   "metadata": {
    "ExecuteTime": {
     "start_time": "2023-04-07T10:19:13.807824Z",
     "end_time": "2023-04-07T10:19:14.306510Z"
    },
    "pycharm": {
     "is_executing": true
    }
   },
   "outputs": [],
   "source": [
    "#Определяю, тип группы туриста\n",
    "\n",
    "# создаю словарь, который буду использовать для кодирования впоследсвии\n",
    "group_types = {\n",
    "    'Couple': 3,\n",
    "    'Group': 2,\n",
    "    'Solo traveler': 1,\n",
    "    'Family with older children': 2,\n",
    "    'Family with young children': 2,\n",
    "    'Travelers with friends': 4\n",
    "}\n",
    "\n",
    "find_string = '|'.join(group_types.keys()) # создаю регулярное выражение\n",
    "\n",
    "def group_type(data):\n",
    "    '''\n",
    "    Функция для определения типа группы\n",
    "    :param data: str, строка df.tags\n",
    "    :return: str, тип группы\n",
    "    '''\n",
    "    try:\n",
    "        result = re.findall(find_string, data)[0]\n",
    "        return result\n",
    "    except IndexError: # если ничего не нашли и result содержит []\n",
    "        return np.nan\n",
    "\n",
    "df['group_type'] = df.tags.apply(group_type)"
   ]
  },
  {
   "cell_type": "code",
   "execution_count": null,
   "metadata": {
    "ExecuteTime": {
     "start_time": "2023-04-07T10:19:14.322486Z",
     "end_time": "2023-04-07T10:19:14.327724Z"
    },
    "pycharm": {
     "is_executing": true
    }
   },
   "outputs": [],
   "source": [
    "# проверяю пропуски\n",
    "df.group_type.isnull().mean()"
   ]
  },
  {
   "cell_type": "code",
   "execution_count": null,
   "metadata": {
    "ExecuteTime": {
     "start_time": "2023-04-07T10:19:14.327522Z",
     "end_time": "2023-04-07T10:19:14.894320Z"
    },
    "pycharm": {
     "is_executing": true
    }
   },
   "outputs": [],
   "source": [
    "# Смотрю, есть ли какие-то тренды оценки в зависимости от группы\n",
    "\n",
    "plt.subplots(figsize=(8, 5))\n",
    "sns.boxplot(\n",
    "    df[df['sample']!=0],\n",
    "    x = 'reviewer_score',\n",
    "    y = 'group_type',\n",
    "    orient = 'h',\n",
    ").set_title('Box диаграмма reviewer score в разрезе group_type')"
   ]
  },
  {
   "cell_type": "markdown",
   "metadata": {},
   "source": [
    "### Выводы\n",
    "- Результаты выглядят неожиданными\n",
    "- Самые довольные - путещественники c друзьями\n",
    "- Самые недовольные - путешественники соло\n",
    "- Путешественники группой и фамилией имеют очень похожее распределение, верояно, это разные теги для 1 и того же"
   ]
  },
  {
   "cell_type": "code",
   "execution_count": null,
   "metadata": {
    "ExecuteTime": {
     "start_time": "2023-04-07T10:19:14.948909Z",
     "end_time": "2023-04-07T10:19:15.510523Z"
    },
    "pycharm": {
     "is_executing": true
    }
   },
   "outputs": [],
   "source": [
    "# Попытка определить качество снимаемой комнаты\n",
    "\n",
    "# Создаю словарь с прилагательными, которые теоритически должны свидетельствовать о повышенном комфорте (цене) номера\n",
    "adjectives = [\n",
    "    'Royal',\n",
    "    'Queen',\n",
    "    'King',\n",
    "    'Superior',\n",
    "    'Deluxe',\n",
    "    'Executive',\n",
    "    'Premium',\n",
    "    'Prestige',\n",
    "    'Supreme',\n",
    "    'Privilege',\n",
    "    'Luxury',\n",
    "    'Grand'\n",
    "]\n",
    "\n",
    "find_string = '|'.join(adjectives) # создаю regexp\n",
    "\n",
    "def room_qlt(data):\n",
    "    '''\n",
    "    Функция находит включения в строку прилагательных описывающих комнаты повышенного качества\n",
    "    :param data: str, df.tags\n",
    "    :return: 1 в случае совпадение, 0 в противном случае\n",
    "    '''\n",
    "    try:\n",
    "        re.findall(find_string, data)[0] #смотрим, есть ли результаты в сприске\n",
    "        return 1\n",
    "    except IndexError: # если ничего не нашли и result содержит []\n",
    "        return 0\n",
    "\n",
    "df['room_quality'] = df.tags.apply(room_qlt)"
   ]
  },
  {
   "cell_type": "code",
   "execution_count": null,
   "metadata": {
    "ExecuteTime": {
     "start_time": "2023-04-07T10:19:15.516733Z",
     "end_time": "2023-04-07T10:19:15.518293Z"
    },
    "pycharm": {
     "is_executing": true
    }
   },
   "outputs": [],
   "source": [
    "# смотрю на результаты\n",
    "df.room_quality.value_counts(normalize=True)"
   ]
  },
  {
   "cell_type": "code",
   "execution_count": null,
   "metadata": {
    "ExecuteTime": {
     "start_time": "2023-04-07T10:19:15.519680Z",
     "end_time": "2023-04-07T10:19:16.460550Z"
    },
    "pycharm": {
     "is_executing": true
    }
   },
   "outputs": [],
   "source": [
    "# Смотрю о том можно ли сказать что есть разница в оценке\n",
    "\n",
    "plt.subplots(figsize=(15, 8))\n",
    "sns.ecdfplot(\n",
    "    df[df['sample']!=0],\n",
    "    x = 'reviewer_score',\n",
    "    hue = 'room_quality',\n",
    ").set_title('CDF признака reviewer score в разрезе room_quality')"
   ]
  },
  {
   "cell_type": "markdown",
   "metadata": {},
   "source": [
    "### Выводы\n",
    "Догорие номера отражаются в более высоких оценках\n"
   ]
  },
  {
   "cell_type": "code",
   "execution_count": null,
   "metadata": {
    "ExecuteTime": {
     "start_time": "2023-04-07T10:19:16.476025Z",
     "end_time": "2023-04-07T10:19:16.480601Z"
    },
    "pycharm": {
     "is_executing": true
    }
   },
   "outputs": [],
   "source": [
    "df.head(20)"
   ]
  },
  {
   "cell_type": "code",
   "execution_count": null,
   "metadata": {
    "ExecuteTime": {
     "start_time": "2023-04-07T10:19:16.480251Z",
     "end_time": "2023-04-07T10:19:17.476133Z"
    },
    "pycharm": {
     "is_executing": true
    }
   },
   "outputs": [],
   "source": [
    "# смотрю как оценка связана с длиной комментариев осталенных пользователем\n",
    "data = df[df['sample']!=0].pivot_table(\n",
    "    index = 'review_total_negative_word_counts',\n",
    "    columns = 'review_total_positive_word_counts',\n",
    "    values = 'reviewer_score',\n",
    "    aggfunc = 'mean'\n",
    ")\n",
    "\n",
    "plt.subplots(figsize=(10, 5))\n",
    "sns.heatmap(\n",
    "    data\n",
    ").set_title('Тепловая карта зависимости длины отзыва на среднюю оценку')"
   ]
  },
  {
   "cell_type": "markdown",
   "metadata": {},
   "source": [
    "### Выводы\n",
    "- Большинство оценок находится в интервале от до 100 символов\n",
    "- Отсутствиуют длинные негативные и позитивные отзывы одновременно\n",
    "- Отзыв больше 100 символов говорит о том, что оцека будет или высокой или низкой (в зависимости от типа комментария)"
   ]
  },
  {
   "cell_type": "code",
   "execution_count": null,
   "metadata": {
    "ExecuteTime": {
     "start_time": "2023-04-07T10:19:17.476327Z",
     "end_time": "2023-04-07T10:19:18.178198Z"
    },
    "pycharm": {
     "is_executing": true
    }
   },
   "outputs": [],
   "source": [
    "## Смотрю на зависимость средней оценки и оценки пользователя\n",
    "\n",
    "sns.boxplot(\n",
    "    df[df['sample']!=0],\n",
    "    x = 'average_score',\n",
    "    y = 'reviewer_score',\n",
    "    orient = 'v',\n",
    ").set_title('Box диаграмма reviewer score в разрезе average_score')"
   ]
  },
  {
   "cell_type": "markdown",
   "metadata": {},
   "source": [
    "### Выводы\n",
    "- Можно заключить, что чем выше оценка средняя, тем выше вероятность получить более высокую оценку"
   ]
  },
  {
   "cell_type": "markdown",
   "source": [
    "## Обработка комментариев признаков"
   ],
   "metadata": {
    "collapsed": false
   }
  },
  {
   "cell_type": "code",
   "execution_count": null,
   "outputs": [],
   "source": [
    "# Следую рекомендации лектора\n",
    "# Загружаю словарь и создаю объект для анализа текста\n",
    "nltk.downloader.download('vader_lexicon') # загружаю словарь\n",
    "sent_analyzer = SentimentIntensityAnalyzer()\n",
    "\n",
    "#sent_analyzer.polarity_scores(x) возращает объет, содержащий численную оценку текстовой информации (она может быть сугубо негативной или позитивной\n",
    "#Создаю 2 новых признака на основе 'compound' оценки\n",
    "\n",
    "df['negative_compound'] = df.negative_review.apply(lambda x: sent_analyzer.polarity_scores(x)['compound'])\n",
    "df['positive_compound'] = df.positive_review.apply(lambda x: sent_analyzer.polarity_scores(x)['compound'])"
   ],
   "metadata": {
    "collapsed": false,
    "ExecuteTime": {
     "start_time": "2023-04-07T10:19:18.182166Z",
     "end_time": "2023-04-07T10:21:38.210943Z"
    },
    "pycharm": {
     "is_executing": true
    }
   }
  },
  {
   "cell_type": "code",
   "execution_count": null,
   "outputs": [],
   "source": [
    "fig, ax = plt.subplots(figsize=(10, 8))\n",
    "ax.set(xlabel = 'compound value',title = 'Гистограмма negative & positive compound')\n",
    "\n",
    "sns.histplot(\n",
    "    data = df[['negative_compound','positive_compound']],\n",
    "    ax = ax,\n",
    "    stat =  'percent'\n",
    "\n",
    ")"
   ],
   "metadata": {
    "collapsed": false,
    "ExecuteTime": {
     "start_time": "2023-04-07T10:21:38.251885Z",
     "end_time": "2023-04-07T10:21:39.816242Z"
    },
    "pycharm": {
     "is_executing": true
    }
   }
  },
  {
   "cell_type": "markdown",
   "source": [
    "### Вывод\n",
    "- Люди имею тенденцию заполнять позитивные отзывы чаще чем негативные\n",
    "- Большинство комментариев пустые\n",
    "- Позитивные коментрацрии имеют очевидную позитивную окраску\n",
    "- Негативные комментарии имеют 2 пика\n"
   ],
   "metadata": {
    "collapsed": false
   }
  },
  {
   "cell_type": "code",
   "execution_count": null,
   "outputs": [],
   "source": [
    "fig, (ax1, ax2) = plt.subplots(2,2, figsize=(20,10))\n",
    "\n",
    "sns.histplot(\n",
    "    x = df['review_total_negative_word_counts'],\n",
    "    ax = ax1[0],\n",
    "    stat =  'percent'\n",
    ")\n",
    "\n",
    "ax1[0].set(title = 'Гистограмма review_total_negative_word_counts')\n",
    "\n",
    "sns.histplot(\n",
    "    data = df['review_total_positive_word_counts'],\n",
    "    ax = ax2[0],\n",
    "    stat =  'percent'\n",
    ")\n",
    "\n",
    "ax2[0].set(title = 'Гистограмма review_total_positive_word_counts')\n",
    "\n",
    "sns.scatterplot(\n",
    "    df,\n",
    "    x = 'review_total_negative_word_counts',\n",
    "    y = 'negative_compound',\n",
    "    ax = ax1[1]\n",
    ")\n",
    "\n",
    "ax1[1].set(title = 'Scatter диаграмма review_total_negative_word_counts в разрезе negative_compound')\n",
    "\n",
    "sns.scatterplot(\n",
    "    df,\n",
    "    x = 'review_total_positive_word_counts',\n",
    "    y = 'positive_compound',\n",
    "    ax = ax2[1]\n",
    ")\n",
    "\n",
    "ax2[1].set(title = 'Scatter диаграмма review_total_positive_word_counts в разрезе positive_compound')\n",
    "\n",
    "\n"
   ],
   "metadata": {
    "collapsed": false,
    "ExecuteTime": {
     "start_time": "2023-04-07T10:21:39.856901Z",
     "end_time": "2023-04-07T10:21:44.047151Z"
    },
    "pycharm": {
     "is_executing": true
    }
   }
  },
  {
   "cell_type": "markdown",
   "source": [
    "### Вывод\n",
    "- Оба признака длины комментария имеют распределение близкое к экспоненциальному\n",
    "- Полярные мнения характеризуются большим количеством символов, использованым для написания комментария\n"
   ],
   "metadata": {
    "collapsed": false
   }
  },
  {
   "cell_type": "markdown",
   "source": [
    "## Выводы\n",
    "Выделленные признаки можно классифицировать как:\n",
    "- Описывающие отели\n",
    "- Описывающие туриста\n",
    "- Описывающие поездку туриста\n",
    "- Описывающие фидбек пользователя"
   ],
   "metadata": {
    "collapsed": false
   }
  },
  {
   "cell_type": "markdown",
   "source": [
    "# Отбор признаков"
   ],
   "metadata": {
    "collapsed": false
   }
  },
  {
   "cell_type": "code",
   "execution_count": null,
   "outputs": [],
   "source": [
    "# Работаю с копией\n",
    "df.to_csv('data/dataset.csv')\n",
    "data = df.copy()"
   ],
   "metadata": {
    "collapsed": false,
    "ExecuteTime": {
     "start_time": "2023-04-07T10:21:44.046716Z",
     "end_time": "2023-04-07T10:21:49.860005Z"
    },
    "pycharm": {
     "is_executing": true
    }
   }
  },
  {
   "cell_type": "code",
   "execution_count": null,
   "metadata": {
    "ExecuteTime": {
     "start_time": "2023-04-07T10:21:49.903537Z",
     "end_time": "2023-04-07T10:21:50.277549Z"
    },
    "pycharm": {
     "is_executing": true
    }
   },
   "outputs": [],
   "source": [
    "data.info()"
   ]
  },
  {
   "cell_type": "code",
   "execution_count": null,
   "metadata": {
    "ExecuteTime": {
     "start_time": "2023-04-07T10:21:50.291536Z",
     "end_time": "2023-04-07T10:21:50.294134Z"
    },
    "pycharm": {
     "is_executing": true
    }
   },
   "outputs": [],
   "source": [
    "data.head(20)"
   ]
  },
  {
   "cell_type": "markdown",
   "source": [
    "### Классификация признаков\n",
    "__Категориальные номинальные__\n",
    "- hotel_name\n",
    "- hotel_address\n",
    "- hotel_city\n",
    "- tag\n",
    "- review_year\n",
    "- review_month\n",
    "- review_dayofweek\n",
    "- hotel_country\n",
    "- inland_tourism\n",
    "- is_from_UK\n",
    "- is_from_US\n",
    "- reviewer_region\n",
    "- reviewer_nationality\n",
    "- negative_review\n",
    "- positive_review\n",
    "\n",
    "\n",
    "__Категориальные порядковые__\n",
    "- lat\n",
    "- lng\n",
    "- hotel_distance\n",
    "- average score\n",
    "- reviewer_score\n",
    "- trip_type - спорный момент, может вести к overfitting’y= но в условиях задания игнорирую это\n",
    "- room_quality - аналогично\n",
    "- group_type - аналогично\n",
    "\n",
    "\n",
    "__Числовые признаки__\n",
    "- days_since_review\n",
    "- positive compound\n",
    "- negative_compound\n",
    "- additional_number_of_scoring\n",
    "- review_total_positive_word_counts\n",
    "- review_total_negative_word_counts\n",
    "- total_number_of_reviews_reviewer_has_given\n",
    "- review_date"
   ],
   "metadata": {
    "collapsed": false
   }
  },
  {
   "cell_type": "markdown",
   "source": [
    "## Удаление малоинформативных признаков\n",
    "Считаю малоинформативными признакамми:\n",
    "- где 1 значение представлено более чем в 95% записей\n",
    "- где количество уникальных значений > 90 % количества записей"
   ],
   "metadata": {
    "collapsed": false
   }
  },
  {
   "cell_type": "code",
   "execution_count": null,
   "outputs": [],
   "source": [
    "# Прохожусь по фрейму, считаю 2 показателя, делаю вывод\n",
    "\n",
    "for i in data:\n",
    "    uniqueness = data[i].nunique() / data[i].count()\n",
    "    frequency = data[i].value_counts(normalize=True).iloc[0] #беру элемент, встречающийся чаще всего\n",
    "    if uniqueness > 0.9:\n",
    "        print(f'{i} : {uniqueness}')\n",
    "    if frequency > 0.95:\n",
    "        print(f'{i} : {frequency}')"
   ],
   "metadata": {
    "collapsed": false,
    "ExecuteTime": {
     "start_time": "2023-04-07T10:21:50.296897Z",
     "end_time": "2023-04-07T10:21:52.252868Z"
    },
    "pycharm": {
     "is_executing": true
    }
   }
  },
  {
   "cell_type": "markdown",
   "source": [
    "### Вывод\n",
    "Ни 1 признак таким образом исключить не получилось\n",
    "Однако, руководствуюясь здавым смыслом исключаю следующие параметры\n",
    "negative_review - при исключении пустых комментариев, признак малоинформативный\n",
    "positive_review - при исключении пустых комментариев, признак малоинформативный\n",
    "tags - обработал, выделил возможную информацию\n",
    "review_date - обработал, выделил возможную информацию\n",
    "\n"
   ],
   "metadata": {
    "collapsed": false
   }
  },
  {
   "cell_type": "markdown",
   "source": [
    "## Исследование мультиколлинеарности"
   ],
   "metadata": {
    "collapsed": false
   }
  },
  {
   "cell_type": "code",
   "execution_count": null,
   "metadata": {
    "ExecuteTime": {
     "start_time": "2023-04-07T10:21:52.256102Z",
     "end_time": "2023-04-07T10:21:54.501718Z"
    },
    "pycharm": {
     "is_executing": true
    }
   },
   "outputs": [],
   "source": [
    "# Использую коэффициент корреляции Пирсона, т.к речь о категориальных переменных\n",
    "# Предварительно закодирую порядково все текствоые признаки\n",
    "\n",
    "encoder = category_encoders.OrdinalEncoder(cols=['hotel_name','hotel_address','reviewer_nationality','hotel_country','hotel_city','reviewer_region','group_type','trip_type'])\n",
    "data_corr = encoder.fit_transform(data)\n",
    "data_corr"
   ]
  },
  {
   "cell_type": "code",
   "execution_count": null,
   "outputs": [],
   "source": [
    "plt.subplots(figsize=(20, 10))\n",
    "\n",
    "sns.heatmap(\n",
    "    data_corr.corr('pearson'),\n",
    "    annot= True,\n",
    "    fmt = '.2f'\n",
    ").set_title('Матрица корреляции data')"
   ],
   "metadata": {
    "collapsed": false,
    "ExecuteTime": {
     "start_time": "2023-04-07T10:21:54.515294Z",
     "end_time": "2023-04-07T10:21:57.813691Z"
    },
    "pycharm": {
     "is_executing": true
    }
   }
  },
  {
   "cell_type": "markdown",
   "source": [
    "### Вывод\n",
    "Выбрал следующие признаки для удаления\n",
    "- hotel_address\n",
    "- additional_number_of_scoring\n",
    "- lat, lng (пара этих значений, по факту, это адрес)\n",
    "- reviewer_year\n",
    "- hotel_city\n",
    "\n",
    "Оставляю признак\n",
    "- is_form_UK\n",
    "\n",
    "Из того, что удивило, не определена мультиколлинеарность между hotel_distance и hotel_address"
   ],
   "metadata": {
    "collapsed": false
   }
  },
  {
   "cell_type": "code",
   "execution_count": null,
   "outputs": [],
   "source": [
    "# Выполненяю удаление выбранных признаков\n",
    "data = data.drop([\n",
    "    'hotel_address',\n",
    "    'additional_number_of_scoring',\n",
    "    'lat',\n",
    "    'lng',\n",
    "    'review_year',\n",
    "    'tags',\n",
    "    'negative_review',\n",
    "    'positive_review',\n",
    "    'hotel_city'\n",
    "],axis = 1)"
   ],
   "metadata": {
    "collapsed": false,
    "ExecuteTime": {
     "start_time": "2023-04-07T10:21:57.813868Z",
     "end_time": "2023-04-07T10:21:57.887084Z"
    },
    "pycharm": {
     "is_executing": true
    }
   }
  },
  {
   "cell_type": "code",
   "execution_count": null,
   "outputs": [],
   "source": [
    "data.head()"
   ],
   "metadata": {
    "collapsed": false,
    "ExecuteTime": {
     "start_time": "2023-04-07T10:21:57.853310Z",
     "end_time": "2023-04-07T10:21:57.898412Z"
    },
    "pycharm": {
     "is_executing": true
    }
   }
  },
  {
   "cell_type": "markdown",
   "source": [
    "## Кодирование признаков"
   ],
   "metadata": {
    "collapsed": false
   }
  },
  {
   "cell_type": "code",
   "execution_count": null,
   "metadata": {
    "ExecuteTime": {
     "start_time": "2023-04-07T10:21:57.895804Z",
     "end_time": "2023-04-07T10:21:57.898576Z"
    },
    "pycharm": {
     "is_executing": true
    }
   },
   "outputs": [],
   "source": [
    "# Кодирую создаю словари для последующего порядкового кодирования\n",
    "# Подобное действие может считаться overfitting’ом но дает лучшие результаты на данном задании\n",
    "\n",
    "group_types = {\n",
    "    'Couple': 5,\n",
    "    'Group': 4,\n",
    "    'Solo traveler': 1,\n",
    "    'Family with older children': 3,\n",
    "    'Family with young children': 2,\n",
    "    'Travelers with friends': 6\n",
    "}\n",
    "\n",
    "trips_type = {\n",
    "    'Leisure': 3,\n",
    "    'Business': 1,\n",
    "    'Other': 2\n",
    "}\n",
    "\n",
    "encoder_list = [{\n",
    "    'col':'group_type',\n",
    "    'mapping':group_types\n",
    "},{\n",
    "    'col':'trip_type',\n",
    "    'mapping':trips_type\n",
    "}]\n"
   ]
  },
  {
   "cell_type": "code",
   "execution_count": null,
   "metadata": {
    "ExecuteTime": {
     "start_time": "2023-04-07T10:21:57.896034Z",
     "end_time": "2023-04-07T10:21:58.995194Z"
    },
    "pycharm": {
     "is_executing": true
    }
   },
   "outputs": [],
   "source": [
    "# Порядковое кодирование для порядковых признаков\n",
    "encoder_ordinal = category_encoders.OrdinalEncoder(cols = ['trip_type','group_type'], mapping = encoder_list)\n",
    "data = encoder_ordinal.fit_transform(data)"
   ]
  },
  {
   "cell_type": "code",
   "execution_count": null,
   "outputs": [],
   "source": [
    "encoder_ordinal = category_encoders.OrdinalEncoder(cols = ['average_score'])\n",
    "data = encoder_ordinal.fit_transform(data.sort_values(by='average_score'))"
   ],
   "metadata": {
    "collapsed": false,
    "ExecuteTime": {
     "start_time": "2023-04-07T10:21:58.701200Z",
     "end_time": "2023-04-07T10:21:59.286470Z"
    },
    "pycharm": {
     "is_executing": true
    }
   }
  },
  {
   "cell_type": "code",
   "execution_count": null,
   "outputs": [],
   "source": [
    "encoder_ordinal = category_encoders.OrdinalEncoder(cols=['hotel_distance'])\n",
    "data = encoder_ordinal.fit_transform(data.sort_values(by='hotel_distance'))"
   ],
   "metadata": {
    "collapsed": false,
    "ExecuteTime": {
     "start_time": "2023-04-07T10:21:59.288077Z",
     "end_time": "2023-04-07T10:21:59.997812Z"
    },
    "pycharm": {
     "is_executing": true
    }
   }
  },
  {
   "cell_type": "code",
   "execution_count": null,
   "outputs": [],
   "source": [
    "# Бинарное кодирование для номинальных признаков с большой вариативностью\n",
    "encoder_binary = category_encoders.BinaryEncoder(cols = ['reviewer_nationality'])\n",
    "data = encoder_binary.fit_transform(data)"
   ],
   "metadata": {
    "collapsed": false,
    "ExecuteTime": {
     "start_time": "2023-04-07T10:21:59.983536Z",
     "end_time": "2023-04-07T10:22:01.582872Z"
    },
    "pycharm": {
     "is_executing": true
    }
   }
  },
  {
   "cell_type": "code",
   "execution_count": null,
   "outputs": [],
   "source": [
    "# Порядковое кодирование для номинальных призков\n",
    "encoder_onehot = category_encoders.OneHotEncoder(cols = ['reviewer_region','hotel_country','review_month','review_dayofweek'])\n",
    "data = encoder_onehot.fit_transform(data)\n"
   ],
   "metadata": {
    "collapsed": false,
    "ExecuteTime": {
     "start_time": "2023-04-07T10:22:01.586200Z",
     "end_time": "2023-04-07T10:22:05.444850Z"
    },
    "pycharm": {
     "is_executing": true
    }
   }
  },
  {
   "cell_type": "code",
   "execution_count": null,
   "outputs": [],
   "source": [
    "data.info()"
   ],
   "metadata": {
    "collapsed": false,
    "ExecuteTime": {
     "start_time": "2023-04-07T10:22:05.483607Z",
     "end_time": "2023-04-07T10:22:05.513916Z"
    },
    "pycharm": {
     "is_executing": true
    }
   }
  },
  {
   "cell_type": "code",
   "execution_count": null,
   "outputs": [],
   "source": [
    "# Дополнительно удаляю признаки, которые имеют малое влияние\n",
    "data.drop(['is_from_US','is_from_UK','hotel_name'],axis = 1, inplace = True)"
   ],
   "metadata": {
    "collapsed": false,
    "ExecuteTime": {
     "start_time": "2023-04-07T10:22:05.559533Z",
     "end_time": "2023-04-07T10:22:05.575319Z"
    },
    "pycharm": {
     "is_executing": true
    }
   }
  },
  {
   "cell_type": "code",
   "execution_count": null,
   "outputs": [],
   "source": [
    "# checking numeric data\n",
    "df.hist(figsize=(16,14))\n",
    "experiment.log_figure(figure=plt)"
   ],
   "metadata": {
    "collapsed": false,
    "ExecuteTime": {
     "start_time": "2023-04-07T10:22:05.564351Z",
     "end_time": "2023-04-07T10:22:09.534486Z"
    },
    "pycharm": {
     "is_executing": true
    }
   }
  },
  {
   "cell_type": "code",
   "execution_count": null,
   "outputs": [],
   "source": [
    "object_columns = [s for s in data.columns if data[s].dtypes == 'object']\n",
    "data.drop(object_columns, axis = 1, inplace=True)"
   ],
   "metadata": {
    "collapsed": false,
    "ExecuteTime": {
     "start_time": "2023-04-07T10:22:09.576748Z",
     "end_time": "2023-04-07T10:22:09.599760Z"
    },
    "pycharm": {
     "is_executing": true
    }
   }
  },
  {
   "cell_type": "code",
   "execution_count": null,
   "metadata": {
    "execution": {
     "iopub.execute_input": "2023-03-26T12:02:24.297825Z",
     "iopub.status.busy": "2023-03-26T12:02:24.296491Z",
     "iopub.status.idle": "2023-03-26T12:02:24.343910Z",
     "shell.execute_reply": "2023-03-26T12:02:24.343142Z",
     "shell.execute_reply.started": "2023-03-26T12:02:24.297769Z"
    },
    "ExecuteTime": {
     "start_time": "2023-04-07T10:22:09.580753Z",
     "end_time": "2023-04-07T10:22:09.707649Z"
    },
    "pycharm": {
     "is_executing": true
    }
   },
   "outputs": [],
   "source": [
    "# Теперь выделим тестовую часть\n",
    "train_data = data.query('sample == 1').drop(['sample'], axis=1)\n",
    "test_data = data.query('sample == 0').drop(['sample'], axis=1)\n",
    "\n",
    "y = train_data.reviewer_score.values            # наш таргет\n",
    "X = train_data.drop(['reviewer_score'], axis=1)"
   ]
  },
  {
   "cell_type": "code",
   "execution_count": null,
   "metadata": {
    "execution": {
     "iopub.execute_input": "2023-03-26T12:02:24.345338Z",
     "iopub.status.busy": "2023-03-26T12:02:24.345161Z",
     "iopub.status.idle": "2023-03-26T12:02:24.393281Z",
     "shell.execute_reply": "2023-03-26T12:02:24.392137Z",
     "shell.execute_reply.started": "2023-03-26T12:02:24.345316Z"
    },
    "ExecuteTime": {
     "start_time": "2023-04-07T10:22:09.716736Z",
     "end_time": "2023-04-07T10:22:09.829373Z"
    },
    "pycharm": {
     "is_executing": true
    }
   },
   "outputs": [],
   "source": [
    "# Воспользуемся специальной функцие train_test_split для разбивки тестовых данных\n",
    "# выделим 20% данных на валидацию (параметр test_size)\n",
    "X_train, X_test, y_train, y_test = train_test_split(X, y, test_size=0.2, random_state=RANDOM_SEED)"
   ]
  },
  {
   "cell_type": "code",
   "execution_count": null,
   "metadata": {
    "execution": {
     "iopub.execute_input": "2023-03-26T12:02:24.395993Z",
     "iopub.status.busy": "2023-03-26T12:02:24.395121Z",
     "iopub.status.idle": "2023-03-26T12:02:24.403035Z",
     "shell.execute_reply": "2023-03-26T12:02:24.402168Z",
     "shell.execute_reply.started": "2023-03-26T12:02:24.395954Z"
    },
    "ExecuteTime": {
     "start_time": "2023-04-07T10:22:09.830535Z",
     "end_time": "2023-04-07T10:22:09.832955Z"
    },
    "pycharm": {
     "is_executing": true
    }
   },
   "outputs": [],
   "source": [
    "# проверяем\n",
    "test_data.shape, train_data.shape, X.shape, X_train.shape, X_test.shape"
   ]
  },
  {
   "cell_type": "code",
   "execution_count": null,
   "metadata": {
    "execution": {
     "iopub.execute_input": "2023-03-26T12:02:24.627171Z",
     "iopub.status.busy": "2023-03-26T12:02:24.626352Z",
     "iopub.status.idle": "2023-03-26T12:02:24.631048Z",
     "shell.execute_reply": "2023-03-26T12:02:24.630593Z",
     "shell.execute_reply.started": "2023-03-26T12:02:24.627118Z"
    },
    "ExecuteTime": {
     "start_time": "2023-04-07T10:22:09.834314Z",
     "end_time": "2023-04-07T10:22:09.883790Z"
    },
    "pycharm": {
     "is_executing": true
    }
   },
   "outputs": [],
   "source": [
    "# Создаём модель (НАСТРОЙКИ НЕ ТРОГАЕМ)\n",
    "model = RandomForestRegressor(n_estimators=100, verbose=1, n_jobs=-1, random_state=RANDOM_SEED)"
   ]
  },
  {
   "cell_type": "code",
   "execution_count": null,
   "metadata": {
    "execution": {
     "iopub.execute_input": "2023-03-26T12:02:24.633238Z",
     "iopub.status.busy": "2023-03-26T12:02:24.632168Z",
     "iopub.status.idle": "2023-03-26T12:03:08.109434Z",
     "shell.execute_reply": "2023-03-26T12:03:08.108733Z",
     "shell.execute_reply.started": "2023-03-26T12:02:24.633211Z"
    },
    "ExecuteTime": {
     "start_time": "2023-04-07T10:22:09.875619Z",
     "end_time": "2023-04-07T10:22:55.236744Z"
    },
    "pycharm": {
     "is_executing": true
    }
   },
   "outputs": [],
   "source": [
    "# Обучаем модель на тестовом наборе данных\n",
    "model.fit(X_train, y_train)\n",
    "\n",
    "# Используем обученную модель для предсказания рейтинга ресторанов в тестовой выборке.\n",
    "# Предсказанные значения записываем в переменную y_pred\n",
    "y_pred = model.predict(X_test)"
   ]
  },
  {
   "cell_type": "code",
   "execution_count": null,
   "metadata": {
    "execution": {
     "iopub.execute_input": "2023-03-26T12:03:08.111327Z",
     "iopub.status.busy": "2023-03-26T12:03:08.111048Z",
     "iopub.status.idle": "2023-03-26T12:03:08.117926Z",
     "shell.execute_reply": "2023-03-26T12:03:08.116867Z",
     "shell.execute_reply.started": "2023-03-26T12:03:08.111259Z"
    },
    "ExecuteTime": {
     "start_time": "2023-04-07T10:22:55.239660Z",
     "end_time": "2023-04-07T10:22:55.245241Z"
    },
    "pycharm": {
     "is_executing": true
    }
   },
   "outputs": [],
   "source": [
    "# Сравниваем предсказанные значения (y_pred) с реальными (y_test), и смотрим насколько они в среднем отличаются\n",
    "# Использую 2 метрики: MAE, MAPE\n",
    "# Mean Absolute Error (MAE) и показывает среднее отклонение предсказанных значений от фактических.\n",
    "# Mean Absolute Percentage Error (MAPE) и показывает среднюю абсолютную процентную ошибку предсказанных значений от фактических.\n",
    "\n",
    "mae = metrics.mean_absolute_error(y_test, y_pred)\n",
    "mape = metrics.mean_absolute_percentage_error(y_test, y_pred)\n",
    "\n",
    "print(f'MAE:{mae:.4f}')\n",
    "print(f'MAPE:{mape:.8f}')"
   ]
  },
  {
   "cell_type": "code",
   "execution_count": null,
   "metadata": {
    "ExecuteTime": {
     "start_time": "2023-04-07T10:22:55.245387Z",
     "end_time": "2023-04-07T10:22:55.250289Z"
    },
    "pycharm": {
     "is_executing": true
    }
   },
   "outputs": [],
   "source": [
    "experiment.log_metric('MAE',mae)\n",
    "experiment.log_metric('MAPE',mape)"
   ]
  },
  {
   "cell_type": "code",
   "execution_count": null,
   "metadata": {
    "execution": {
     "iopub.execute_input": "2023-03-26T12:03:08.119261Z",
     "iopub.status.busy": "2023-03-26T12:03:08.119073Z",
     "iopub.status.idle": "2023-03-26T12:03:08.526004Z",
     "shell.execute_reply": "2023-03-26T12:03:08.525281Z",
     "shell.execute_reply.started": "2023-03-26T12:03:08.119229Z"
    },
    "ExecuteTime": {
     "start_time": "2023-04-07T10:22:55.253630Z",
     "end_time": "2023-04-07T10:22:55.635891Z"
    },
    "pycharm": {
     "is_executing": true
    }
   },
   "outputs": [],
   "source": [
    "# в RandomForestRegressor есть возможность вывести самые важные признаки для модели\n",
    "plt.rcParams['figure.figsize'] = (10,10)\n",
    "feat_importances = pd.Series(model.feature_importances_, index=X.columns)\n",
    "feat_importances.nlargest(15).plot(kind='barh')\n",
    "\n",
    "experiment.log_figure(plt)"
   ]
  },
  {
   "cell_type": "markdown",
   "source": [
    "### Выводы\n",
    "- Нормализация и стандартизация не имеют эффекта на модель\n",
    "- Удаление слабых признаков не имеют эффекта на модель\n",
    "- Как и ожидалось, самые сильные признаки, это признаки, относящиеся к комметарию пользователя"
   ],
   "metadata": {
    "collapsed": false
   }
  },
  {
   "cell_type": "code",
   "execution_count": null,
   "metadata": {
    "execution": {
     "iopub.execute_input": "2023-03-26T12:03:08.527212Z",
     "iopub.status.busy": "2023-03-26T12:03:08.527032Z",
     "iopub.status.idle": "2023-03-26T12:03:08.542212Z",
     "shell.execute_reply": "2023-03-26T12:03:08.541777Z",
     "shell.execute_reply.started": "2023-03-26T12:03:08.527189Z"
    },
    "ExecuteTime": {
     "start_time": "2023-04-07T10:22:55.639084Z",
     "end_time": "2023-04-07T10:22:55.652065Z"
    },
    "pycharm": {
     "is_executing": true
    }
   },
   "outputs": [],
   "source": [
    "test_data.info()"
   ]
  },
  {
   "cell_type": "code",
   "execution_count": null,
   "metadata": {
    "execution": {
     "iopub.execute_input": "2023-03-26T12:03:08.543484Z",
     "iopub.status.busy": "2023-03-26T12:03:08.543212Z",
     "iopub.status.idle": "2023-03-26T12:03:08.549970Z",
     "shell.execute_reply": "2023-03-26T12:03:08.549286Z",
     "shell.execute_reply.started": "2023-03-26T12:03:08.543462Z"
    },
    "ExecuteTime": {
     "start_time": "2023-04-07T10:22:55.679044Z",
     "end_time": "2023-04-07T10:22:55.806928Z"
    },
    "pycharm": {
     "is_executing": true
    }
   },
   "outputs": [],
   "source": [
    "test_data = test_data.drop(['reviewer_score'], axis=1)"
   ]
  },
  {
   "cell_type": "code",
   "execution_count": null,
   "metadata": {
    "execution": {
     "iopub.execute_input": "2023-03-26T12:03:08.553125Z",
     "iopub.status.busy": "2023-03-26T12:03:08.552809Z",
     "iopub.status.idle": "2023-03-26T12:03:08.572561Z",
     "shell.execute_reply": "2023-03-26T12:03:08.571712Z",
     "shell.execute_reply.started": "2023-03-26T12:03:08.553101Z"
    },
    "ExecuteTime": {
     "start_time": "2023-04-07T10:22:55.703415Z",
     "end_time": "2023-04-07T10:22:55.830178Z"
    },
    "pycharm": {
     "is_executing": true
    }
   },
   "outputs": [],
   "source": [
    "sample_submission"
   ]
  },
  {
   "cell_type": "code",
   "execution_count": null,
   "metadata": {
    "execution": {
     "iopub.execute_input": "2023-03-26T12:03:08.574216Z",
     "iopub.status.busy": "2023-03-26T12:03:08.574031Z",
     "iopub.status.idle": "2023-03-26T12:03:11.299041Z",
     "shell.execute_reply": "2023-03-26T12:03:11.297029Z",
     "shell.execute_reply.started": "2023-03-26T12:03:08.574192Z"
    },
    "ExecuteTime": {
     "start_time": "2023-04-07T10:22:55.703698Z",
     "end_time": "2023-04-07T10:22:56.642664Z"
    },
    "pycharm": {
     "is_executing": true
    }
   },
   "outputs": [],
   "source": [
    "predict_submission = model.predict(test_data)"
   ]
  },
  {
   "cell_type": "code",
   "execution_count": null,
   "metadata": {
    "execution": {
     "iopub.execute_input": "2023-03-26T12:03:11.301208Z",
     "iopub.status.busy": "2023-03-26T12:03:11.300886Z",
     "iopub.status.idle": "2023-03-26T12:03:11.309430Z",
     "shell.execute_reply": "2023-03-26T12:03:11.308329Z",
     "shell.execute_reply.started": "2023-03-26T12:03:11.301170Z"
    },
    "ExecuteTime": {
     "start_time": "2023-04-07T10:22:56.622049Z",
     "end_time": "2023-04-07T10:22:56.643073Z"
    },
    "pycharm": {
     "is_executing": true
    }
   },
   "outputs": [],
   "source": [
    "predict_submission"
   ]
  },
  {
   "cell_type": "code",
   "execution_count": null,
   "metadata": {
    "execution": {
     "iopub.execute_input": "2023-03-26T12:03:11.311176Z",
     "iopub.status.busy": "2023-03-26T12:03:11.310664Z",
     "iopub.status.idle": "2023-03-26T12:03:11.322359Z",
     "shell.execute_reply": "2023-03-26T12:03:11.321482Z",
     "shell.execute_reply.started": "2023-03-26T12:03:11.311140Z"
    },
    "ExecuteTime": {
     "start_time": "2023-04-07T10:22:56.625331Z",
     "end_time": "2023-04-07T10:22:56.683909Z"
    },
    "pycharm": {
     "is_executing": true
    }
   },
   "outputs": [],
   "source": [
    "list(sample_submission)"
   ]
  },
  {
   "cell_type": "code",
   "execution_count": null,
   "metadata": {
    "execution": {
     "iopub.execute_input": "2023-03-26T12:03:11.324206Z",
     "iopub.status.busy": "2023-03-26T12:03:11.323712Z",
     "iopub.status.idle": "2023-03-26T12:03:11.583858Z",
     "shell.execute_reply": "2023-03-26T12:03:11.582826Z",
     "shell.execute_reply.started": "2023-03-26T12:03:11.324179Z"
    },
    "ExecuteTime": {
     "start_time": "2023-04-07T10:22:56.632990Z",
     "end_time": "2023-04-07T10:22:56.853809Z"
    },
    "pycharm": {
     "is_executing": true
    }
   },
   "outputs": [],
   "source": [
    "sample_submission['reviewer_score'] = predict_submission\n",
    "sample_submission.to_csv('data/submission.csv', index=False)\n",
    "sample_submission.head(10)"
   ]
  },
  {
   "cell_type": "code",
   "execution_count": null,
   "metadata": {
    "ExecuteTime": {
     "start_time": "2023-04-07T10:22:56.909590Z",
     "end_time": "2023-04-07T10:23:00.052995Z"
    },
    "pycharm": {
     "is_executing": true
    }
   },
   "outputs": [],
   "source": [
    "# Завершаю эксперимент\n",
    "experiment.end()"
   ]
  },
  {
   "cell_type": "markdown",
   "source": [
    "# Выводы\n",
    "В рамках этой работы было выполнено:\n",
    "- Удаление признаков\n",
    "- Создание новых признаков\n",
    "- Отбор признаков\n",
    "- Обучение подели\n",
    "\n",
    "Модель оказалась устойчива к\n",
    "- Вариациям в распределении признаков\n",
    "- Попыткам нормализации\n",
    "- Присутствию малоинформативных признаков"
   ],
   "metadata": {
    "collapsed": false
   }
  }
 ],
 "metadata": {
  "kernelspec": {
   "display_name": "Python 3 (ipykernel)",
   "language": "python",
   "name": "python3"
  },
  "language_info": {
   "codemirror_mode": {
    "name": "ipython",
    "version": 3
   },
   "file_extension": ".py",
   "mimetype": "text/x-python",
   "name": "python",
   "nbconvert_exporter": "python",
   "pygments_lexer": "ipython3",
   "version": "3.10.7"
  }
 },
 "nbformat": 4,
 "nbformat_minor": 4
}
